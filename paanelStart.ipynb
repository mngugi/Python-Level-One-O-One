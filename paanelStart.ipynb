{
 "cells": [
  {
   "cell_type": "code",
   "execution_count": null,
   "id": "eb8c0b3c-20e7-4a95-a8a8-54b0fd93b1dd",
   "metadata": {},
   "outputs": [],
   "source": [
    "import panel as pn\n",
    "import hvplot.pandas\n",
    "import pandas as pd\n",
    "import numpy as np\n",
    "\n",
    "pn.extension(design='material')\n",
    "\n",
    "csv_file = (\"https://raw.githubusercontent.com/holoviz/panel/main/examples/assets/occupancy.csv\")\n",
    "data = pd.read_csv(csv_file, parse_dates=[\"date\"], index_col=\"date\")\n",
    "\n",
    "data.tail()\n",
    "\n",
    "def transform_data(variable, window, sigma):\n",
    "    ''' Calculates the rolling average and the outliers '''\n",
    "    residual = data[variable] - avg\n",
    "    std = residual.rolling(window=window).std()\n",
    "    outliers = np.abs(residual) > std * sigma\n",
    "    return avg, avg[outliers]\n",
    "\n",
    "def create_plot(variable=\"Temperature\", window=30, sigma=10):\n",
    "    ''' Plots the rolling average and the outliers '''\n",
    "    avg, highlight = transform_data(variable, window, sigma)\n",
    "    return avg.hvplot(height=300, width=400, legend=False) * highlight.hvplot.scatter(\n",
    "        color=\"orange\", padding=0.1, legend=False\n",
    "    )\n",
    "\n",
    "create_plot(variable='Temperature', window=20, sigma=10)"
   ]
  }
 ],
 "metadata": {
  "kernelspec": {
   "display_name": "Python 3 (ipykernel)",
   "language": "python",
   "name": "python3"
  },
  "language_info": {
   "codemirror_mode": {
    "name": "ipython",
    "version": 3
   },
   "file_extension": ".py",
   "mimetype": "text/x-python",
   "name": "python",
   "nbconvert_exporter": "python",
   "pygments_lexer": "ipython3",
   "version": "3.11.4"
  }
 },
 "nbformat": 4,
 "nbformat_minor": 5
}
