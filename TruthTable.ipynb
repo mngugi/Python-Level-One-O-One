{
 "cells": [
  {
   "cell_type": "code",
   "execution_count": 6,
   "id": "4ba196e7-9076-4b28-bdde-e91f9b8054b9",
   "metadata": {},
   "outputs": [
    {
     "name": "stdout",
     "output_type": "stream",
     "text": [
      "The truth table for AND gate is: \n",
      "A\tB\tResult\n",
      "1\t1\t1\n",
      "1\t0\t0\n",
      "0\t1\t0\n",
      "0\t0\t0\n"
     ]
    }
   ],
   "source": [
    "import itertools\n",
    "print(\"The truth table for AND gate is: \")\n",
    "print(\"A\\tB\\tResult\")\n",
    "\n",
    "intputCombination = list(itertools.product([True, False],repeat=2))\n",
    "\n",
    "for combiantion in intputCombination:\n",
    "    A,B = combiantion\n",
    "    result = (A and B)\n",
    "    print(f\"{int(A)}\\t{int(B)}\\t{int(result)}\")\n"
   ]
  },
  {
   "cell_type": "code",
   "execution_count": null,
   "id": "0c993b56-1c79-4af5-a3d4-56e1cbbe71e6",
   "metadata": {},
   "outputs": [],
   "source": []
  }
 ],
 "metadata": {
  "kernelspec": {
   "display_name": "Python 3 (ipykernel)",
   "language": "python",
   "name": "python3"
  },
  "language_info": {
   "codemirror_mode": {
    "name": "ipython",
    "version": 3
   },
   "file_extension": ".py",
   "mimetype": "text/x-python",
   "name": "python",
   "nbconvert_exporter": "python",
   "pygments_lexer": "ipython3",
   "version": "3.8.10"
  }
 },
 "nbformat": 4,
 "nbformat_minor": 5
}
