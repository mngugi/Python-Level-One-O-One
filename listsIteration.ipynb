{
 "cells": [
  {
   "cell_type": "code",
   "execution_count": 2,
   "id": "8fd034d9-aa51-4503-acbc-e1985da5e07a",
   "metadata": {},
   "outputs": [
    {
     "name": "stdout",
     "output_type": "stream",
     "text": [
      "Benz\n",
      "Toyota\n",
      "Audi\n",
      "BMW\n",
      "Renault\n",
      "------------\n",
      "\n",
      "Toyota\n",
      "Renault\n",
      "--------------\n",
      "\n",
      "Print for loop within the list\n",
      "['Benz', 'Toyota', 'Audi', 'Renault']\n",
      "--------------\n",
      "\n",
      "Contacts for each car:\n",
      "\n",
      "Benz- benz@daimler.co\n",
      "Toyota- toyota@toyota.jp.com\n",
      "Audi- audi@quatro.ge.com\n",
      "BMW- bmw@bm.ge.com\n",
      "Renault- renault@renault.fr.com\n",
      "---End!---\n"
     ]
    }
   ],
   "source": [
    "# A program that iterates a lists of cars \n",
    "\n",
    "cars = [\"Benz\", \"Toyota\",\"Audi\", \"BMW\", \"Renault\"]\n",
    "for i in cars:\n",
    "    print (i)\n",
    "print(\"------------\\n\")\n",
    "for j in cars:\n",
    "    if len(j) > 4:\n",
    "        print(j)\n",
    "print(\"--------------\\n\")\n",
    "print(\"Print for loop within the list\")\n",
    "cars_long= [ i for i in cars if len(i) > 3]\n",
    "print(cars_long)\n",
    "print(\"--------------\\n\")\n",
    "print(\"Contacts for each car:\\n\")\n",
    "car_contact = {\"Benz-\": \"benz@daimler.co\", \"Toyota-\":\"toyota@toyota.jp.com\",\"Audi-\":\"audi@quatro.ge.com\", \"BMW-\":\"bmw@bm.ge.com\",\n",
    "               \"Renault-\":\"renault@renault.fr.com\"}\n",
    "for k,emails in car_contact.items():\n",
    "    print(k,emails)\n",
    "\n",
    "print (\"---End!---\")"
   ]
  },
  {
   "cell_type": "code",
   "execution_count": null,
   "id": "d5e94ed6-9915-4682-8b34-187463e9fdb7",
   "metadata": {},
   "outputs": [],
   "source": []
  }
 ],
 "metadata": {
  "kernelspec": {
   "display_name": "Python 3 (ipykernel)",
   "language": "python",
   "name": "python3"
  },
  "language_info": {
   "codemirror_mode": {
    "name": "ipython",
    "version": 3
   },
   "file_extension": ".py",
   "mimetype": "text/x-python",
   "name": "python",
   "nbconvert_exporter": "python",
   "pygments_lexer": "ipython3",
   "version": "3.11.1"
  }
 },
 "nbformat": 4,
 "nbformat_minor": 5
}
