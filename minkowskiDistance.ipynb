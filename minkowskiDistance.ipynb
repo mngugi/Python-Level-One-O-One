{
 "cells": [
  {
   "cell_type": "code",
   "execution_count": 3,
   "id": "c47ff51e-1cc2-4f5b-b11b-686864442860",
   "metadata": {},
   "outputs": [
    {
     "name": "stdout",
     "output_type": "stream",
     "text": [
      "Minkowski Distance is:  37.371928188465525\n"
     ]
    }
   ],
   "source": [
    "import numpy as np\n",
    "\n",
    "def minkowski_distance(x, y, p):\n",
    "    return np.sum(np.abs(x-y)**p) ** (1/p)\n",
    "\n",
    "\n",
    "x = np.array([10,25,36])\n",
    "y = np.array([40,55,66])\n",
    "\n",
    "distance = minkowski_distance(x, y, p=5)\n",
    "print(\"Minkowski Distance is: \", distance)"
   ]
  },
  {
   "cell_type": "code",
   "execution_count": 8,
   "id": "9d1f4f6f-8d8d-4d04-907d-d264ed7d6fec",
   "metadata": {},
   "outputs": [
    {
     "name": "stdout",
     "output_type": "stream",
     "text": [
      "Kaprekar iteration for g(x) =  32\n"
     ]
    }
   ],
   "source": [
    "import math\n",
    "# Kaprekar iteration\n",
    "#g(x) = x + SUM(x)\n",
    "# g(25) = 25 + 2+5 = 32\n",
    "\n",
    "x = 25\n",
    "\n",
    "# Convert the number to a string, iterate through each digit, convert it back to an integer, and sum them up\n",
    "sum_of_digits = sum(int(digit) for digit in str(x))\n",
    "g = x + sum_of_digits\n",
    "\n",
    "print('Kaprekar iteration for g(x) = ',g)\n"
   ]
  },
  {
   "cell_type": "code",
   "execution_count": null,
   "id": "1e755ecf-1776-4dc1-bfe2-8a46942453d7",
   "metadata": {},
   "outputs": [],
   "source": []
  }
 ],
 "metadata": {
  "kernelspec": {
   "display_name": "Python 3 (ipykernel)",
   "language": "python",
   "name": "python3"
  },
  "language_info": {
   "codemirror_mode": {
    "name": "ipython",
    "version": 3
   },
   "file_extension": ".py",
   "mimetype": "text/x-python",
   "name": "python",
   "nbconvert_exporter": "python",
   "pygments_lexer": "ipython3",
   "version": "3.12.5"
  }
 },
 "nbformat": 4,
 "nbformat_minor": 5
}
