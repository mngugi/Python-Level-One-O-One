{
 "cells": [
  {
   "cell_type": "code",
   "execution_count": 1,
   "id": "0ccdce26-8b63-46b6-99cf-ed8c35c31160",
   "metadata": {},
   "outputs": [
    {
     "name": "stderr",
     "output_type": "stream",
     "text": [
      "\n",
      "            Error: MATLAB Kernel could not communicate with MATLAB.\n",
      "\n",
      "            Reason: There is a password set to access the Jupyter server.\n",
      "\n",
      "            Resolution: Delete the cached Notebook password file, and restart the kernel.\n",
      "\n",
      "            See https://jupyter-notebook.readthedocs.io/en/stable/public_server.html#securing-a-notebook-server for more information.\n",
      "            "
     ]
    }
   ],
   "source": [
    "inputSize = 12;\n",
    "numHiddenUnits = 100;\n",
    "numClasses = 9;\n",
    "\n",
    "layers = [\n",
    "          sequenceInputLayer(inputSize)\n",
    "          bilstmLayer(numHiddenUnits, 'OutputMode', 'last')\n",
    "          fullyConnectedLayer(numClasses)\n",
    "          softmaxLayer];\n",
    "\n",
    "lgraph = layerGraph(layers);\n",
    "\n",
    "[XTrain, YTrain] = japaneseVowelsTrainData;\n",
    "\n",
    "numObservations = numel(XTrain);\n",
    "sequenceLengths = zeros(1, numObservations);\n",
    "for i = 1:numObservations\n",
    "    sequence = XTrain{i};\n",
    "    sequenceLengths(i) = size(sequence, 2);\n",
    "end\n",
    "\n",
    "[sequenceLengths, idx] = sort(sequenceLengths);\n",
    "XTrain = XTrain(idx);\n",
    "YTrain = YTrain(idx);\n",
    "\n",
    "XTrain = padsequences(XTrain, 2);\n",
    "XTrain = permute(XTrain, [3, 2, 1]);\n",
    "YTrain = double(YTrain) - 1;\n",
    "\n",
    "filename = 'training_data.mat';\n",
    "save(filename, 'XTrain', 'YTrain');\n",
    "exportNetworkToTensorFlow(lgraph,\"./myModel\")\n"
   ]
  },
  {
   "cell_type": "code",
   "execution_count": 7,
   "id": "c8bc0bda-3379-42b7-8665-c4acb7e8f009",
   "metadata": {},
   "outputs": [
    {
     "ename": "ModuleNotFoundError",
     "evalue": "No module named 'myModel'",
     "output_type": "error",
     "traceback": [
      "\u001b[0;31m---------------------------------------------------------------------------\u001b[0m",
      "\u001b[0;31mModuleNotFoundError\u001b[0m                       Traceback (most recent call last)",
      "Cell \u001b[0;32mIn[7], line 1\u001b[0m\n\u001b[0;32m----> 1\u001b[0m \u001b[38;5;28;01mimport\u001b[39;00m \u001b[38;5;21;01mmyModel\u001b[39;00m\n\u001b[1;32m      2\u001b[0m model \u001b[38;5;241m=\u001b[39m myModel\u001b[38;5;241m.\u001b[39mload_model()\n\u001b[1;32m      3\u001b[0m model\u001b[38;5;241m.\u001b[39msummary()\n",
      "\u001b[0;31mModuleNotFoundError\u001b[0m: No module named 'myModel'"
     ]
    }
   ],
   "source": [
    "import myModel\n",
    "model = myModel.load_model()\n",
    "model.summary()"
   ]
  },
  {
   "cell_type": "code",
   "execution_count": null,
   "id": "8f8cf127-14f1-4000-9d1f-a8a0e5ac1f8c",
   "metadata": {},
   "outputs": [],
   "source": []
  },
  {
   "cell_type": "code",
   "execution_count": null,
   "id": "e2703a43-c316-4431-aa43-394e5553769b",
   "metadata": {},
   "outputs": [],
   "source": []
  }
 ],
 "metadata": {
  "kernelspec": {
   "display_name": "MATLAB Kernel",
   "language": "matlab",
   "name": "jupyter_matlab_kernel"
  },
  "language_info": {
   "file_extension": ".m",
   "mimetype": "text/x-matlab",
   "name": "matlab"
  }
 },
 "nbformat": 4,
 "nbformat_minor": 5
}
