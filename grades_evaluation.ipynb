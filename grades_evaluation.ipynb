{
 "cells": [
  {
   "cell_type": "code",
   "execution_count": 5,
   "id": "588d85ae-cb93-4b75-8864-a57a83f8f333",
   "metadata": {},
   "outputs": [
    {
     "name": "stdin",
     "output_type": "stream",
     "text": [
      "Enter English Grade: 98\n",
      "Enter Mathematics Grade: 69\n"
     ]
    },
    {
     "name": "stdout",
     "output_type": "stream",
     "text": [
      "English Passed\n",
      "Mathematics Passed\n"
     ]
    }
   ],
   "source": [
    "# a snippet to evaluate grades in a k - 4 class\n",
    "\n",
    "english_grade = int(input(\"Enter English Grade:\"))\n",
    "math_grade = int(input(\"Enter Mathematics Grade:\"))\n",
    "\n",
    "pass_grade = 60\n",
    "\n",
    "if english_grade >= pass_grade:\n",
    "    print(\"English Passed\")\n",
    "\n",
    "else:\n",
    "    print(\"English Failed, Re-take the test again\")\n",
    "\n",
    "if math_grade >= pass_grade:\n",
    "    print(\"Mathematics Passed\")\n",
    "\n",
    "else:\n",
    "    print(\"Mathematics Failed, Re-take the test again\")\n"
   ]
  },
  {
   "cell_type": "code",
   "execution_count": null,
   "id": "5629c170-7632-498e-b76b-e2608e2ef6c5",
   "metadata": {},
   "outputs": [],
   "source": []
  }
 ],
 "metadata": {
  "kernelspec": {
   "display_name": "Python 3 (ipykernel)",
   "language": "python",
   "name": "python3"
  },
  "language_info": {
   "codemirror_mode": {
    "name": "ipython",
    "version": 3
   },
   "file_extension": ".py",
   "mimetype": "text/x-python",
   "name": "python",
   "nbconvert_exporter": "python",
   "pygments_lexer": "ipython3",
   "version": "3.12.3"
  }
 },
 "nbformat": 4,
 "nbformat_minor": 5
}
