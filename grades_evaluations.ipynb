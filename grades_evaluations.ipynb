{
 "cells": [
  {
   "cell_type": "code",
   "execution_count": 1,
   "id": "e8f22bf6-50ce-46c9-8691-88880a483297",
   "metadata": {},
   "outputs": [
    {
     "name": "stdin",
     "output_type": "stream",
     "text": [
      "Enter English Grade: 89\n",
      "Enter Mathematics Grade: 89\n"
     ]
    },
    {
     "name": "stdout",
     "output_type": "stream",
     "text": [
      "English Passed\n",
      "Mathematics Passed\n"
     ]
    }
   ],
   "source": [
    "# a snippet to evaluate grades in a k - 4 class\n",
    "\n",
    "english_grade = int(input(\"Enter English Grade:\"))\n",
    "math_grade = int(input(\"Enter Mathematics Grade:\"))\n",
    "\n",
    "pass_grade = 60\n",
    "\n",
    "if english_grade >= pass_grade:\n",
    "    print(\"English Passed\")\n",
    "\n",
    "else:\n",
    "    print(\"English Failed, Re-take the test again\")\n",
    "\n",
    "if math_grade >= pass_grade:\n",
    "    print(\"Mathematics Passed\")\n",
    "\n",
    "else:\n",
    "    print(\"Mathematics Failed, Re-take the test again\")"
   ]
  },
  {
   "cell_type": "code",
   "execution_count": 4,
   "id": "4f0cb93b-9c65-4718-9183-f334bd4c9a7f",
   "metadata": {},
   "outputs": [
    {
     "name": "stdout",
     "output_type": "stream",
     "text": [
      "100\n"
     ]
    }
   ],
   "source": [
    "k = 10\n",
    "\n",
    "while k <= 20:\n",
    "    k = k * 10\n",
    "    print(k)\n",
    "\n"
   ]
  },
  {
   "cell_type": "code",
   "execution_count": 11,
   "id": "9c30757b-894d-40e9-a436-ad04b7c626b5",
   "metadata": {},
   "outputs": [
    {
     "name": "stdout",
     "output_type": "stream",
     "text": [
      " is a character in the word Mathematics: M is a character in the word Mathematics: A is a character in the word Mathematics: T is a character in the word Mathematics: H is a character in the word Mathematics: E is a character in the word Mathematics: M is a character in the word Mathematics: A is a character in the word Mathematics: T is a character in the word Mathematics: I is a character in the word Mathematics: C is a character in the word Mathematics: S"
     ]
    }
   ],
   "source": [
    "for xters in 'MATHEMATICS':\n",
    "    print(\" is a character in the word Mathematics:\", xters[0], end='')"
   ]
  },
  {
   "cell_type": "code",
   "execution_count": 12,
   "id": "de882744-b277-4da4-b979-69754f42733c",
   "metadata": {},
   "outputs": [
    {
     "name": "stdout",
     "output_type": "stream",
     "text": [
      "If a=5, b=5, c=3, and d=3, then a+c=b+d holds true.\n"
     ]
    }
   ],
   "source": [
    "def check_property(a, b, c, d):\n",
    "    # Check if a equals b and c equals d\n",
    "    if a == b and c == d:\n",
    "        # Check if a + c equals b + d\n",
    "        if a + c == b + d:\n",
    "            return True\n",
    "        else:\n",
    "            return False\n",
    "    else:\n",
    "        return False\n",
    "\n",
    "# Example usage\n",
    "a = 5\n",
    "b = 5\n",
    "c = 3\n",
    "d = 3\n",
    "\n",
    "if check_property(a, b, c, d):\n",
    "    print(f\"If a={a}, b={b}, c={c}, and d={d}, then a+c=b+d holds true.\")\n",
    "else:\n",
    "    print(f\"If a={a}, b={b}, c={c}, and d={d}, then a+c=b+d does not hold true.\")\n"
   ]
  },
  {
   "cell_type": "code",
   "execution_count": 20,
   "id": "94e0b5a7-5fb5-4fc9-ac55-692243ab0990",
   "metadata": {},
   "outputs": [
    {
     "name": "stdout",
     "output_type": "stream",
     "text": [
      "15\n",
      "-18\n",
      "30\n",
      "-31\n",
      "103\n",
      "79\n"
     ]
    }
   ],
   "source": [
    "k = 5\n",
    "\n",
    "for n in [10,-23,25,-36,98,74]:\n",
    "    n = n + k\n",
    "    print(n)"
   ]
  },
  {
   "cell_type": "code",
   "execution_count": null,
   "id": "e9f58fbb-da01-4c26-a385-8c6ea3ffeb7d",
   "metadata": {},
   "outputs": [],
   "source": []
  }
 ],
 "metadata": {
  "kernelspec": {
   "display_name": "Python 3 (ipykernel)",
   "language": "python",
   "name": "python3"
  },
  "language_info": {
   "codemirror_mode": {
    "name": "ipython",
    "version": 3
   },
   "file_extension": ".py",
   "mimetype": "text/x-python",
   "name": "python",
   "nbconvert_exporter": "python",
   "pygments_lexer": "ipython3",
   "version": "3.12.3"
  }
 },
 "nbformat": 4,
 "nbformat_minor": 5
}
