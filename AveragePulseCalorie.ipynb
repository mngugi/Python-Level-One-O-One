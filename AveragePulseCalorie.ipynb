import pandas as pd
import matplotlib.pyplot as plt
import numpy as np
from tabulate import tabulate  # Import tabulate for table formatting
import seaborn as sns

# Define the file path
path = '/home/x38fed/DataScience/AvgPulseCalorieBurnage.csv'

# Read the CSV file into a DataFrame
dt = pd.read_csv(path)

# Set pandas options to display the entire DataFrame in a single cell
pd.set_option('display.max_columns', None)  # Display all columns
pd.set_option('display.expand_frame_repr', False)  # Disable line-wrapping

# We cannot use objects to calculate and perform analysis here. We must convert the type object to float64 (float64 is a number with a decimal in Python).
# We can use the astype() function to convert the data into float64.

dt["Average_Pulse"] = dt["Average_Pulse"].astype(float)
dt["Max_Pulse"] = dt["Max_Pulse"].astype(float)

# Print the first 10 rows of the DataFrame as a table
print("First 10 rows of the DataFrame:")
print(tabulate(dt.head(10), headers='keys', tablefmt='pretty'))

# Print summary statistics as a table
print("Summary Statistics:")
summary_stats = dt.describe()
print(tabulate(summary_stats, headers='keys', tablefmt='pretty'))

# Print DataFrame info
print("DataFrame Info:")
info = dt.info()
print(info)

# Now, we can first plot the values of Average_Pulse against Calorie_Burnage using the matplotlib library.
# The plot() function is used to make a 2D hexagonal binning plot of points x,y:
dt.plot(x='Average_Pulse', y='Calorie_Burnage', kind='line')
plt.ylim(ymin=0)
plt.xlim(xmin=0)
plt.show()
# Slope calculation
def slope(x1, y1, x2, y2):
    slop = (y2 - y1) / (x2 - x1)
    return slop

# Call the function with the individual values
x1, y1, x2, y2 = 80, 240, 90, 260
result = slope(x1, y1, x2, y2)
print("[-------+-----------]")
print("Slope is:", result)
print("[-------+-----------]")
# To find the slope intercept
x = dt["Average_Pulse"]
y = dt["Calorie_Burnage"]
slopIntercept = np.polyfit(x, y, 1)
print("[-------+---+--------------------]")
print("Slope at Intercept:", slopIntercept)
print("[-------+------------------------]\n")

# Now, we want to predict calorie burnage if average pulse is 135. Substitute the input x with 135: f(135) = 2 * 135 + 80 = 350
def function(x):
    return 2 * x + 80
print("[-------+-------------------------------]")
print("Calorie Burnage at 135 is:", function(135))
print("[-------+-------------------------------]\n")

# Find the 25%, 50%, 75%, and 10% percentiles
print("[-------+-------]")
Max_Pulse = dt["Max_Pulse"]
twentyFivePercent = np.percentile(Max_Pulse, 25, axis=0)
print("25% is:", twentyFivePercent)
fiftyPercent = np.percentile(Max_Pulse, 50, axis=0)
print("50% is:", fiftyPercent)
seventyFivePercent = np.percentile(Max_Pulse, 75, axis=0)
print("75% is:", seventyFivePercent)
tenPercent = np.percentile(Max_Pulse, 10, axis=0)
print("10% is:", tenPercent)
print("[-------+-------]")

# standard deviation
#Standard deviation is a number that describes how spread out the observations
print("[-------+------------------------]")
dtStandardDev = np.std(dt)
print("Standard Deviation:\n", dtStandardDev)
print("[-------+------------------------]\n")
print("[-------+-------]")
mean = np.mean(dt)

print("mean",mean,"\n")
print("[-------+-------]\n")

print("[-------+---------------------------]")
#coefficient of variation is used to get an idea of how large the standard deviation is.
# Coefficient of Variation = Standard Deviation / Mean
coefficientVar = dtStandardDev/mean
print("Coefficient Variable:\n",coefficientVar)
print("[-------+---------------------------]")
#multiply the standard deviation by itself, you get the variance!
print("[-------+-------]\n")
variance = np.var(dt)
print("Variance is: \n", variance)
print("\n")
print("[-------+-------]\n")

#Correlation matrix
CorrelationMatrix = round(dt)
print("Correlation Matrix is:\n",CorrelationMatrix)

axis_corr = sns.heatmap(CorrelationMatrix,vmin=-0.5, vmax=0.5, center=0,
cmap=sns.diverging_palette(20, 200, n=200),
square=True )
print("Heatmap\n")
plt.show()

correlation = dt["Calorie_Burnage"].corr(dt["Average_Pulse"])

# Create a DataFrame to store the correlation
correlation_df = pd.DataFrame(data={"Correlation": [correlation]})

# Plot the scatter plot
dt.plot(x="Calorie_Burnage", y="Average_Pulse", kind="scatter")
plt.title(f"Scatter Plot (Correlation: {correlation:.2f})")
plt.xlabel("Calorie_Burnage")
plt.ylabel("Average_Pulse")
plt.grid(True)
plt.show()

