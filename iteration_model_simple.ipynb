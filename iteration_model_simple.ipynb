{
 "cells": [
  {
   "cell_type": "code",
   "execution_count": 1,
   "id": "3077a958-0f9a-4c5c-a543-957afc2449ec",
   "metadata": {},
   "outputs": [
    {
     "data": {
      "text/plain": [
       "[0.1,\n",
       " 0.010000000000000002,\n",
       " 0.00010000000000000005,\n",
       " 1.0000000000000008e-08,\n",
       " 1.0000000000000017e-16,\n",
       " 1.0000000000000035e-32,\n",
       " 1.0000000000000069e-64,\n",
       " 1.0000000000000138e-128,\n",
       " 1.0000000000000275e-256,\n",
       " 0.0,\n",
       " 0.0]"
      ]
     },
     "execution_count": 1,
     "metadata": {},
     "output_type": "execute_result"
    }
   ],
   "source": [
    "# Quadratic iteration model: X_{n+1} = X_n^2\n",
    "# Initial value\n",
    "X_0 = 0.1  # Initial vulnerability level\n",
    "iterations = 10  # Number of iterations\n",
    "results = [X_0]  # List to store results\n",
    "\n",
    "# Perform the iterations\n",
    "for _ in range(iterations):\n",
    "    X_next = results[-1]**2\n",
    "    results.append(X_next)\n",
    "\n",
    "# Prepare the results for visualization\n",
    "results\n"
   ]
  },
  {
   "cell_type": "code",
   "execution_count": null,
   "id": "d7019f31-e2ab-4f7a-b36b-452050c36f6e",
   "metadata": {},
   "outputs": [],
   "source": []
  }
 ],
 "metadata": {
  "kernelspec": {
   "display_name": "Python 3 (ipykernel)",
   "language": "python",
   "name": "python3"
  },
  "language_info": {
   "codemirror_mode": {
    "name": "ipython",
    "version": 3
   },
   "file_extension": ".py",
   "mimetype": "text/x-python",
   "name": "python",
   "nbconvert_exporter": "python",
   "pygments_lexer": "ipython3",
   "version": "3.13.1"
  }
 },
 "nbformat": 4,
 "nbformat_minor": 5
}
