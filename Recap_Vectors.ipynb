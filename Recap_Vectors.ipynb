{
  "nbformat": 4,
  "nbformat_minor": 0,
  "metadata": {
    "colab": {
      "provenance": [],
      "authorship_tag": "ABX9TyMMXYyuP4ip2iD+U2u2Zgkl",
      "include_colab_link": true
    },
    "kernelspec": {
      "name": "python3",
      "display_name": "Python 3"
    },
    "language_info": {
      "name": "python"
    }
  },
  "cells": [
    {
      "cell_type": "markdown",
      "metadata": {
        "id": "view-in-github",
        "colab_type": "text"
      },
      "source": [
        "<a href=\"https://colab.research.google.com/github/mngugi/-Bash-/blob/main/Recap_Vectors.ipynb\" target=\"_parent\"><img src=\"https://colab.research.google.com/assets/colab-badge.svg\" alt=\"Open In Colab\"/></a>"
      ]
    },
    {
      "cell_type": "code",
      "execution_count": 2,
      "metadata": {
        "colab": {
          "base_uri": "https://localhost:8080/"
        },
        "id": "f69Y0PnbuIU8",
        "outputId": "08f222a5-3493-4809-a42f-13e7b1b162ea"
      },
      "outputs": [
        {
          "output_type": "stream",
          "name": "stdout",
          "text": [
            "[12 14 16 18 20]\n",
            "[-10 -10 -10 -10 -10]\n",
            "[11 24 39 56 75]\n",
            "205\n"
          ]
        }
      ],
      "source": [
        "import numpy as np\n",
        "\n",
        "list1 = [1,2,3,4,5]\n",
        "list2 = [11,12,13,14,15]\n",
        "\n",
        "# convert the list into an array\n",
        "j = np.array(list1)\n",
        "i = np.array(list2)\n",
        "# add\n",
        "kadd = j+i\n",
        "print(kadd)\n",
        "\n",
        "#subtract\n",
        "\n",
        "ksubtract = j - i\n",
        "print(ksubtract)\n",
        "\n",
        "#multiplication\n",
        "kmultiple = j * i\n",
        "print(kmultiple)\n",
        "\n",
        "#dotproduct - scalar value\n",
        "kdot = j @ i\n",
        "print(kdot)"
      ]
    },
    {
      "cell_type": "code",
      "source": [],
      "metadata": {
        "id": "flTJ0OfkuJGB"
      },
      "execution_count": null,
      "outputs": []
    }
  ]
}