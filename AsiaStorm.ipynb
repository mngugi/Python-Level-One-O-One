{
 "cells": [
  {
   "cell_type": "code",
   "execution_count": 9,
   "id": "ed010045-87bd-4799-bab3-940210054160",
   "metadata": {},
   "outputs": [
    {
     "name": "stdout",
     "output_type": "stream",
     "text": [
      "    _        _         ____  _                         ____        _        \n",
      "   / \\   ___(_) __ _  / ___|| |_ ___  _ __ _ __ ___   |  _ \\  __ _| |_ __ _ \n",
      "  / _ \\ / __| |/ _` | \\___ \\| __/ _ \\| '__| '_ ` _ \\  | | | |/ _` | __/ _` |\n",
      " / ___ \\\\__ \\ | (_| |  ___) | || (_) | |  | | | | | | | |_| | (_| | || (_| |\n",
      "/_/   \\_\\___/_|\\__,_| |____/ \\__\\___/|_|  |_| |_| |_| |____/ \\__,_|\\__\\__,_|\n",
      "                                                                            \n",
      "\n",
      "Empty GeoDataFrame\n",
      "Columns: [geometry]\n",
      "Index: []\n"
     ]
    }
   ],
   "source": [
    "import geopandas as gpd\n",
    "import pyfiglet # type: ignore\n",
    "\n",
    "def display_title(title):\n",
    "    ascii_art = pyfiglet.figlet_format(title)\n",
    "    print(ascii_art)\n",
    "\n",
    "if __name__ == \"__main__\":\n",
    "    display_title(\"Asia Storm Data\")\n",
    "\n",
    "shp_file_path = 'UNISYS_tracks_1956_2018Dec31.shp'\n",
    "\n",
    "# Read the shapefile into a GeoDataFrame\n",
    "gdf = gpd.read_file(shp_file_path)\n",
    "\n",
    "# Now, you should be able to access the attribute data\n",
    "print(gdf.head())  # To display the first few rows of the GeoDataFrame\n",
    "\n"
   ]
  },
  {
   "cell_type": "code",
   "execution_count": 10,
   "id": "34bf2b1d-8301-4194-8108-102c97049fbc",
   "metadata": {},
   "outputs": [
    {
     "ename": "ShapefileException",
     "evalue": "Shapefile dbf file must contain at least one field.",
     "output_type": "error",
     "traceback": [
      "\u001b[0;31m---------------------------------------------------------------------------\u001b[0m",
      "\u001b[0;31mShapefileException\u001b[0m                        Traceback (most recent call last)",
      "Cell \u001b[0;32mIn[10], line 7\u001b[0m\n\u001b[1;32m      4\u001b[0m shx_path \u001b[38;5;241m=\u001b[39m \u001b[38;5;124m'\u001b[39m\u001b[38;5;124mUNISYS_tracks_1956_2018Dec31.shx\u001b[39m\u001b[38;5;124m'\u001b[39m\n\u001b[1;32m      6\u001b[0m \u001b[38;5;66;03m# Create a .shx file if it doesn't exist\u001b[39;00m\n\u001b[0;32m----> 7\u001b[0m \u001b[38;5;28;43;01mwith\u001b[39;49;00m\u001b[43m \u001b[49m\u001b[43mshapefile\u001b[49m\u001b[38;5;241;43m.\u001b[39;49m\u001b[43mWriter\u001b[49m\u001b[43m(\u001b[49m\u001b[43mshx_path\u001b[49m\u001b[43m)\u001b[49m\u001b[43m:\u001b[49m\n\u001b[1;32m      8\u001b[0m \u001b[43m    \u001b[49m\u001b[38;5;28;43;01mpass\u001b[39;49;00m\n",
      "File \u001b[0;32m/usr/lib/python3.13/site-packages/shapefile.py:1843\u001b[0m, in \u001b[0;36mWriter.__exit__\u001b[0;34m(self, exc_type, exc_val, exc_tb)\u001b[0m\n\u001b[1;32m   1839\u001b[0m \u001b[38;5;28;01mdef\u001b[39;00m \u001b[38;5;21m__exit__\u001b[39m(\u001b[38;5;28mself\u001b[39m, exc_type, exc_val, exc_tb):\n\u001b[1;32m   1840\u001b[0m \u001b[38;5;250m    \u001b[39m\u001b[38;5;124;03m\"\"\"\u001b[39;00m\n\u001b[1;32m   1841\u001b[0m \u001b[38;5;124;03m    Exit phase of context manager, finish writing and close the files.\u001b[39;00m\n\u001b[1;32m   1842\u001b[0m \u001b[38;5;124;03m    \"\"\"\u001b[39;00m\n\u001b[0;32m-> 1843\u001b[0m     \u001b[38;5;28;43mself\u001b[39;49m\u001b[38;5;241;43m.\u001b[39;49m\u001b[43mclose\u001b[49m\u001b[43m(\u001b[49m\u001b[43m)\u001b[49m\n",
      "File \u001b[0;32m/usr/lib/python3.13/site-packages/shapefile.py:1873\u001b[0m, in \u001b[0;36mWriter.close\u001b[0;34m(self)\u001b[0m\n\u001b[1;32m   1871\u001b[0m \u001b[38;5;66;03m# Update the dbf header with final length etc\u001b[39;00m\n\u001b[1;32m   1872\u001b[0m \u001b[38;5;28;01mif\u001b[39;00m \u001b[38;5;28mself\u001b[39m\u001b[38;5;241m.\u001b[39mdbf \u001b[38;5;129;01mand\u001b[39;00m dbf_open:\n\u001b[0;32m-> 1873\u001b[0m     \u001b[38;5;28;43mself\u001b[39;49m\u001b[38;5;241;43m.\u001b[39;49m\u001b[43m__dbfHeader\u001b[49m\u001b[43m(\u001b[49m\u001b[43m)\u001b[49m\n\u001b[1;32m   1875\u001b[0m \u001b[38;5;66;03m# Flush files\u001b[39;00m\n\u001b[1;32m   1876\u001b[0m \u001b[38;5;28;01mfor\u001b[39;00m attribute \u001b[38;5;129;01min\u001b[39;00m (\u001b[38;5;28mself\u001b[39m\u001b[38;5;241m.\u001b[39mshp, \u001b[38;5;28mself\u001b[39m\u001b[38;5;241m.\u001b[39mshx, \u001b[38;5;28mself\u001b[39m\u001b[38;5;241m.\u001b[39mdbf):\n",
      "File \u001b[0;32m/usr/lib/python3.13/site-packages/shapefile.py:2072\u001b[0m, in \u001b[0;36mWriter.__dbfHeader\u001b[0;34m(self)\u001b[0m\n\u001b[1;32m   2070\u001b[0m \u001b[38;5;66;03m# Ensure has at least one field\u001b[39;00m\n\u001b[1;32m   2071\u001b[0m \u001b[38;5;28;01mif\u001b[39;00m \u001b[38;5;129;01mnot\u001b[39;00m fields:\n\u001b[0;32m-> 2072\u001b[0m     \u001b[38;5;28;01mraise\u001b[39;00m ShapefileException(\u001b[38;5;124m\"\u001b[39m\u001b[38;5;124mShapefile dbf file must contain at least one field.\u001b[39m\u001b[38;5;124m\"\u001b[39m)\n\u001b[1;32m   2073\u001b[0m numRecs \u001b[38;5;241m=\u001b[39m \u001b[38;5;28mself\u001b[39m\u001b[38;5;241m.\u001b[39mrecNum\n\u001b[1;32m   2074\u001b[0m numFields \u001b[38;5;241m=\u001b[39m \u001b[38;5;28mlen\u001b[39m(fields)\n",
      "\u001b[0;31mShapefileException\u001b[0m: Shapefile dbf file must contain at least one field."
     ]
    }
   ],
   "source": [
    "import shapefile\n",
    "\n",
    "\n",
    "shp_path = 'UNISYS_tracks_1956_2018Dec31.shp'\n",
    "shx_path = 'UNISYS_tracks_1956_2018Dec31.shx'\n",
    "\n",
    "# Create a .shx file if it doesn't exist\n",
    "with shapefile.Writer(shx_path):\n",
    "    pass\n"
   ]
  },
  {
   "cell_type": "code",
   "execution_count": null,
   "id": "e3045b26-c67f-468e-8659-78a5305331e6",
   "metadata": {},
   "outputs": [],
   "source": [
    "import geopandas as gpd\n",
    "\n",
    "shp_file_path = 'UNISYS_tracks_1956_2018Dec31.shp'\n",
    "\n",
    "# Read the shapefile into a GeoDataFrame\n",
    "gdf = gpd.read_file(shp_file_path)\n",
    "\n",
    "# Now, you should be able to access the attribute data\n",
    "print(gdf.head())  # To display the first few rows of the GeoDataFrame\n"
   ]
  },
  {
   "cell_type": "code",
   "execution_count": null,
   "id": "7c84fc20-d8e6-4fe4-a7c4-7593f2d8992c",
   "metadata": {},
   "outputs": [],
   "source": [
    "gdf.head()"
   ]
  },
  {
   "cell_type": "code",
   "execution_count": null,
   "id": "7dcda6cb-809c-41d0-895f-a858b8089469",
   "metadata": {},
   "outputs": [],
   "source": [
    "import pandas as pd\n",
    "import geopandas as gpd\n",
    "import numpy as np\n",
    "import seaborn as sns\n",
    "import matplotlib.pyplot as plt\n",
    "import plotly.express as px\n",
    "from scipy import stats\n",
    "\n",
    "shp_file_path = 'UNISYS_tracks_1956_2018Dec31.shp'\n",
    "\n",
    "# Read the shapefile into a GeoDataFrame\n",
    "gdf = gpd.read_file(shp_file_path)\n",
    "\n",
    "gdf.head()\n"
   ]
  },
  {
   "cell_type": "code",
   "execution_count": null,
   "id": "5e311534-ffd9-43da-b0be-1adb268b6bae",
   "metadata": {},
   "outputs": [],
   "source": [
    "!pip install seaborn"
   ]
  },
  {
   "cell_type": "code",
   "execution_count": null,
   "id": "d100a68c-4175-47ab-9e96-48b57e75e85b",
   "metadata": {},
   "outputs": [],
   "source": []
  }
 ],
 "metadata": {
  "kernelspec": {
   "display_name": "Python 3 (ipykernel)",
   "language": "python",
   "name": "python3"
  },
  "language_info": {
   "codemirror_mode": {
    "name": "ipython",
    "version": 3
   },
   "file_extension": ".py",
   "mimetype": "text/x-python",
   "name": "python",
   "nbconvert_exporter": "python",
   "pygments_lexer": "ipython3",
   "version": "3.13.1"
  }
 },
 "nbformat": 4,
 "nbformat_minor": 5
}
