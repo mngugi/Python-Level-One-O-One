{
 "cells": [
  {
   "cell_type": "code",
   "execution_count": 6,
   "id": "38230235",
   "metadata": {},
   "outputs": [
    {
     "ename": "ModuleNotFoundError",
     "evalue": "No module named 'torch'",
     "output_type": "error",
     "traceback": [
      "\u001b[0;31m---------------------------------------------------------------------------\u001b[0m",
      "\u001b[0;31mModuleNotFoundError\u001b[0m                       Traceback (most recent call last)",
      "Cell \u001b[0;32mIn[6], line 2\u001b[0m\n\u001b[1;32m      1\u001b[0m \u001b[38;5;28;01mimport\u001b[39;00m \u001b[38;5;21;01mmatplotlib\u001b[39;00m\u001b[38;5;21;01m.\u001b[39;00m\u001b[38;5;21;01mpyplot\u001b[39;00m \u001b[38;5;28;01mas\u001b[39;00m \u001b[38;5;21;01mplt\u001b[39;00m\n\u001b[0;32m----> 2\u001b[0m \u001b[38;5;28;01mimport\u001b[39;00m \u001b[38;5;21;01mtorch\u001b[39;00m\n\u001b[1;32m      3\u001b[0m x \u001b[38;5;241m=\u001b[39m torch\u001b[38;5;241m.\u001b[39mtensor(\u001b[38;5;241m3.0\u001b[39m, requires_grad \u001b[38;5;241m=\u001b[39m \u001b[38;5;28;01mTrue\u001b[39;00m)\n\u001b[1;32m      4\u001b[0m \u001b[38;5;28mprint\u001b[39m(\u001b[38;5;124m\"\u001b[39m\u001b[38;5;124mcreating tensor x: \u001b[39m\u001b[38;5;124m\"\u001b[39m, x)\n",
      "\u001b[0;31mModuleNotFoundError\u001b[0m: No module named 'torch'"
     ]
    }
   ],
   "source": [
    "import matplotlib.pyplot as plt\n",
    "import torch\n",
    "x = torch.tensor(3.0, requires_grad = True)\n",
    "print(\"creating tensor x: \", x)\n",
    "\n",
    "y = 3 * x ** 2\n",
    "print(\"Result of the equation is: \", y)\n",
    "y.backward()\n",
    "print(\"Dervative of the equation at x = 3 is: \", x.grad)    \n",
    "print('data attribute of the tensor:',x.data)\n",
    "print('grad attribute of the tensor::',x.grad)\n",
    "print('grad_fn attribute of the tensor::',x.grad_fn)\n",
    "print(\"is_leaf attribute of the tensor::\",x.is_leaf)\n",
    "\n",
    "print(\"requires_grad attribute of the tensor::\",x.requires_grad)\n",
    "u = torch.tensor(3., requires_grad=True)\n",
    "v = torch.tensor(4., requires_grad=True)\n",
    "\n",
    "f = u**3 + v**2 + 4*u*v\n",
    "\n",
    "print(u)\n",
    "print(v)\n",
    "print(f)\n",
    "\n",
    "f.backward()\n",
    "print(\"Partial derivative with respect to u: \", u.grad)\n",
    "print(\"Partial derivative with respect to v: \", v.grad)\n",
    "# compute the derivative of the function with multiple values\n",
    "x = torch.linspace(-20, 20, 20, requires_grad = True)\n",
    "Y = x ** 2\n",
    "y = torch.sum(Y)\n",
    "y.backward()\n",
    "\n",
    "# ploting the function and derivative\n",
    "function_line, = plt.plot(x.detach().numpy(), Y.detach().numpy(), label = 'Function')\n",
    "function_line.set_color(\"red\")\n",
    "derivative_line, = plt.plot(x.detach().numpy(), x.grad.detach().numpy(), label = 'Derivative')\n",
    "derivative_line.set_color(\"green\")\n",
    "plt.xlabel('x')\n",
    "plt.legend()\n",
    "plt.show()"
   ]
  },
  {
   "cell_type": "code",
   "execution_count": null,
   "id": "ec333e36-7f91-4450-bf9b-8e223d0f7ec0",
   "metadata": {},
   "outputs": [
    {
     "ename": "",
     "evalue": "",
     "output_type": "error",
     "traceback": [
      "\u001b[1;31mRunning cells with 'Python 3.13.0' requires the ipykernel package.\n",
      "\u001b[1;31mRun the following command to install 'ipykernel' into the Python environment. \n",
      "\u001b[1;31mCommand: '/bin/python3.13 -m pip install ipykernel -U --user --force-reinstall'"
     ]
    }
   ],
   "source": []
  }
 ],
 "metadata": {
  "kernelspec": {
   "display_name": "Python 3",
   "language": "python",
   "name": "python3"
  },
  "language_info": {
   "codemirror_mode": {
    "name": "ipython",
    "version": 3
   },
   "file_extension": ".py",
   "mimetype": "text/x-python",
   "name": "python",
   "nbconvert_exporter": "python",
   "pygments_lexer": "ipython3",
   "version": "3.12.5"
  }
 },
 "nbformat": 4,
 "nbformat_minor": 5
}
