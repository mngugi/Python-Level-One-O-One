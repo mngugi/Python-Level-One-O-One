{
 "cells": [
  {
   "cell_type": "code",
   "execution_count": 16,
   "id": "66789e42-c6c4-4199-bb3b-102fc30325b8",
   "metadata": {},
   "outputs": [
    {
     "name": "stdout",
     "output_type": "stream",
     "text": [
      "US\n"
     ]
    }
   ],
   "source": [
    "from geolite2 import geolite2\n",
    "\n",
    "reader = geolite2.reader()\n",
    "\n",
    "# google's ip\n",
    "match = reader.get('172.217.16.163')\n",
    "if match:\n",
    "    # print(match)\n",
    "    if 'country' in match:\n",
    "        print(match['country']['iso_code'])\n",
    "    else:\n",
    "        print(match['continent']['code'])\n",
    "else:\n",
    "    print('') "
   ]
  },
  {
   "cell_type": "code",
   "execution_count": null,
   "id": "03454cd0-9621-4310-a113-031310e52d65",
   "metadata": {},
   "outputs": [],
   "source": []
  },
  {
   "cell_type": "code",
   "execution_count": null,
   "id": "bd5aebc3-87eb-4789-9978-543e49cb95ae",
   "metadata": {},
   "outputs": [],
   "source": []
  }
 ],
 "metadata": {
  "kernelspec": {
   "display_name": "Python 3 (ipykernel)",
   "language": "python",
   "name": "python3"
  },
  "language_info": {
   "codemirror_mode": {
    "name": "ipython",
    "version": 3
   },
   "file_extension": ".py",
   "mimetype": "text/x-python",
   "name": "python",
   "nbconvert_exporter": "python",
   "pygments_lexer": "ipython3",
   "version": "3.9.13"
  }
 },
 "nbformat": 4,
 "nbformat_minor": 5
}
