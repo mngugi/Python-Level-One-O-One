{
 "cells": [
  {
   "cell_type": "code",
   "execution_count": 1,
   "id": "75d8446c-0470-486c-ab46-1fda15effdb8",
   "metadata": {},
   "outputs": [
    {
     "name": "stdout",
     "output_type": "stream",
     "text": [
      "Area under the curve from 0 to 2: 2.666666666666667\n",
      "Estimated error in the result: 2.960594732333751e-14\n"
     ]
    }
   ],
   "source": [
    "import numpy as np\n",
    "from scipy.integrate import quad\n",
    "\n",
    "# Define the function to integrate\n",
    "def f(x):\n",
    "    return x**2\n",
    "\n",
    "# Define the limits of integration\n",
    "a = 0  # Lower limit\n",
    "b = 2  # Upper limit\n",
    "\n",
    "# Perform the integration\n",
    "area, error = quad(f, a, b)\n",
    "\n",
    "# Print the result\n",
    "print(f\"Area under the curve from {a} to {b}: {area}\")\n",
    "print(f\"Estimated error in the result: {error}\")\n"
   ]
  },
  {
   "cell_type": "code",
   "execution_count": null,
   "id": "30cfe8eb-d457-494e-8cc5-51a8b275b96f",
   "metadata": {},
   "outputs": [],
   "source": []
  }
 ],
 "metadata": {
  "kernelspec": {
   "display_name": "Python 3 (ipykernel)",
   "language": "python",
   "name": "python3"
  },
  "language_info": {
   "codemirror_mode": {
    "name": "ipython",
    "version": 3
   },
   "file_extension": ".py",
   "mimetype": "text/x-python",
   "name": "python",
   "nbconvert_exporter": "python",
   "pygments_lexer": "ipython3",
   "version": "3.12.3"
  }
 },
 "nbformat": 4,
 "nbformat_minor": 5
}
