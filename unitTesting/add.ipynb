{
 "cells": [
  {
   "cell_type": "code",
   "execution_count": 2,
   "id": "d07e05ca-7ba7-4deb-8499-ff0ae437d858",
   "metadata": {},
   "outputs": [],
   "source": [
    "# function to add 2 numbers\n",
    "\n",
    "def add(i , j):\n",
    "    \n",
    "    return i + j\n",
    "    \n",
    "    \n"
   ]
  },
  {
   "cell_type": "code",
   "execution_count": null,
   "id": "f9d2e6b3-02d5-401e-b931-ff9dcb39a7db",
   "metadata": {},
   "outputs": [],
   "source": []
  }
 ],
 "metadata": {
  "kernelspec": {
   "display_name": "Python 3 (ipykernel)",
   "language": "python",
   "name": "python3"
  },
  "language_info": {
   "codemirror_mode": {
    "name": "ipython",
    "version": 3
   },
   "file_extension": ".py",
   "mimetype": "text/x-python",
   "name": "python",
   "nbconvert_exporter": "python",
   "pygments_lexer": "ipython3",
   "version": "3.13.0"
  }
 },
 "nbformat": 4,
 "nbformat_minor": 5
}
