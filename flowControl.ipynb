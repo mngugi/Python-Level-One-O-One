{
 "cells": [
  {
   "cell_type": "code",
   "execution_count": 6,
   "id": "1e4ec6b5-888c-423a-a92f-0dc8f5fbaaa0",
   "metadata": {},
   "outputs": [
    {
     "name": "stdout",
     "output_type": "stream",
     "text": [
      "Go outside\n"
     ]
    }
   ],
   "source": [
    "# a flow control using if\n",
    "r = \"is raining\"\n",
    "\n",
    "if r == \" is raining\":\n",
    "    print(\"Carry an umbrella\")\n",
    "\n",
    "else:\n",
    "    print(\"Go outside\")"
   ]
  },
  {
   "cell_type": "code",
   "execution_count": 8,
   "id": "539c70e5-01ff-4d71-945a-1c7b357cf393",
   "metadata": {},
   "outputs": [
    {
     "name": "stdout",
     "output_type": "stream",
     "text": [
      "Welcome Andingra\n",
      "Wrong Password or Username please try again after 2 minutes\n"
     ]
    }
   ],
   "source": [
    "name = 'Andingra'\n",
    "pasWd = '098uyt#'\n",
    "\n",
    "if name == 'Andingra':\n",
    "    print(f'Welcome {name}')\n",
    "    if pasWd == '098yt#' :\n",
    "        print(f'Access Granted {name}')\n",
    "    else:\n",
    "        print('Wrong Password or Username please try again after 2 minutes')\n"
   ]
  },
  {
   "cell_type": "code",
   "execution_count": null,
   "id": "4fcfad00-fe79-4031-87eb-353be39872ee",
   "metadata": {},
   "outputs": [],
   "source": [
    "if name == 'Alice':\n",
    "    print('Hi, Alice.')\n",
    "elif age < 12:\n",
    "    print('You are not Alice, kiddo.')"
   ]
  }
 ],
 "metadata": {
  "kernelspec": {
   "display_name": "Python 3 (ipykernel)",
   "language": "python",
   "name": "python3"
  },
  "language_info": {
   "codemirror_mode": {
    "name": "ipython",
    "version": 3
   },
   "file_extension": ".py",
   "mimetype": "text/x-python",
   "name": "python",
   "nbconvert_exporter": "python",
   "pygments_lexer": "ipython3",
   "version": "3.13.1"
  }
 },
 "nbformat": 4,
 "nbformat_minor": 5
}
