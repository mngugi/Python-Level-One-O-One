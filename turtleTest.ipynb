{
 "cells": [
  {
   "cell_type": "code",
   "execution_count": 2,
   "id": "0c59b1c1-2ae5-4b9a-9290-c73127c45489",
   "metadata": {},
   "outputs": [],
   "source": [
    "import turtle \n",
    "\n",
    "screen = turtle.Screen()\n",
    "\n",
    "turt = turtle.Turtle()\n",
    "\n",
    "turt.forward(150)\n",
    "turt.backward(150)\n",
    "screen.mainloop()"
   ]
  },
  {
   "cell_type": "code",
   "execution_count": null,
   "id": "20ae4d62-11d2-436c-8714-11ec14ab64da",
   "metadata": {},
   "outputs": [],
   "source": []
  }
 ],
 "metadata": {
  "kernelspec": {
   "display_name": "Python 3 (ipykernel)",
   "language": "python",
   "name": "python3"
  },
  "language_info": {
   "codemirror_mode": {
    "name": "ipython",
    "version": 3
   },
   "file_extension": ".py",
   "mimetype": "text/x-python",
   "name": "python",
   "nbconvert_exporter": "python",
   "pygments_lexer": "ipython3",
   "version": "3.12.3"
  }
 },
 "nbformat": 4,
 "nbformat_minor": 5
}
