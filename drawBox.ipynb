{
 "cells": [
  {
   "cell_type": "code",
   "execution_count": null,
   "id": "7e8860f0-7d36-4e67-a5b0-67f274ecf2af",
   "metadata": {},
   "outputs": [],
   "source": [
    "import plotly.express as plotly\n",
    "import plotly.graph_objects as graph\n",
    "\n",
    "plot = plotly.box( x = 10, 25, )"
   ]
  }
 ],
 "metadata": {
  "kernelspec": {
   "display_name": "Python 3 (ipykernel)",
   "language": "python",
   "name": "python3"
  },
  "language_info": {
   "codemirror_mode": {
    "name": "ipython",
    "version": 3
   },
   "file_extension": ".py",
   "mimetype": "text/x-python",
   "name": "python",
   "nbconvert_exporter": "python",
   "pygments_lexer": "ipython3",
   "version": "3.13.1"
  }
 },
 "nbformat": 4,
 "nbformat_minor": 5
}
