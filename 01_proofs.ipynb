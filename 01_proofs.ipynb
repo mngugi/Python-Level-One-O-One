{
  "nbformat": 4,
  "nbformat_minor": 0,
  "metadata": {
    "colab": {
      "provenance": [],
      "authorship_tag": "ABX9TyPWhJv8nbhw+gxb0zvUaT35",
      "include_colab_link": true
    },
    "kernelspec": {
      "name": "python3",
      "display_name": "Python 3"
    },
    "language_info": {
      "name": "python"
    }
  },
  "cells": [
    {
      "cell_type": "markdown",
      "metadata": {
        "id": "view-in-github",
        "colab_type": "text"
      },
      "source": [
        "<a href=\"https://colab.research.google.com/github/mngugi/Python_Collections-/blob/master/01_proofs.ipynb\" target=\"_parent\"><img src=\"https://colab.research.google.com/assets/colab-badge.svg\" alt=\"Open In Colab\"/></a>"
      ]
    },
    {
      "cell_type": "code",
      "execution_count": 1,
      "metadata": {
        "colab": {
          "base_uri": "https://localhost:8080/"
        },
        "id": "fU6stN4e8Y0b",
        "outputId": "487c936b-c39c-42ab-be59-55798ce97151"
      },
      "outputs": [
        {
          "output_type": "stream",
          "name": "stdout",
          "text": [
            "35\n"
          ]
        }
      ],
      "source": [
        "for n in range(10, 100):\n",
        "  if n == 7* int(str(n)[1:]):\n",
        "    print(n)\n",
        "\n",
        "\n",
        "for n in range(4000):\n",
        "  if 2**n + 3**n > 10 ** 1000:\n",
        "    print(n)\n",
        "    break"
      ]
    }
  ]
}