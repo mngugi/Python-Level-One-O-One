{
  "nbformat": 4,
  "nbformat_minor": 0,
  "metadata": {
    "colab": {
      "provenance": [],
      "authorship_tag": "ABX9TyMuXypSyODJ/NEEoqznCBQf",
      "include_colab_link": true
    },
    "kernelspec": {
      "name": "python3",
      "display_name": "Python 3"
    },
    "language_info": {
      "name": "python"
    }
  },
  "cells": [
    {
      "cell_type": "markdown",
      "metadata": {
        "id": "view-in-github",
        "colab_type": "text"
      },
      "source": [
        "<a href=\"https://colab.research.google.com/github/mngugi/Python_Collections-/blob/master/functions_Recap.ipynb\" target=\"_parent\"><img src=\"https://colab.research.google.com/assets/colab-badge.svg\" alt=\"Open In Colab\"/></a>"
      ]
    },
    {
      "cell_type": "code",
      "execution_count": 5,
      "metadata": {
        "id": "EY2gvUed99-H"
      },
      "outputs": [],
      "source": [
        "def greet(jina):\n",
        "  print(\"Sasa ? \")\n",
        "\n"
      ]
    },
    {
      "cell_type": "code",
      "source": [
        "def greet(jina):\n",
        "  print(f\"Sasa, {jina}!\")\n",
        "\n",
        "greet(\"Katano\")"
      ],
      "metadata": {
        "colab": {
          "base_uri": "https://localhost:8080/"
        },
        "id": "vpNMcFs7-Rj9",
        "outputId": "6a8b2c5b-4ebf-435c-ac87-f364fe98aa6b"
      },
      "execution_count": 6,
      "outputs": [
        {
          "output_type": "stream",
          "name": "stdout",
          "text": [
            "Sasa, Katano!\n"
          ]
        }
      ]
    }
  ]
}