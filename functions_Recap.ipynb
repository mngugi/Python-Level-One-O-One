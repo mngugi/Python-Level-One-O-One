{
  "nbformat": 4,
  "nbformat_minor": 0,
  "metadata": {
    "colab": {
      "provenance": [],
      "authorship_tag": "ABX9TyNQKXSC6vWBQ2/Te3ttfWFn",
      "include_colab_link": true
    },
    "kernelspec": {
      "name": "python3",
      "display_name": "Python 3"
    },
    "language_info": {
      "name": "python"
    }
  },
  "cells": [
    {
      "cell_type": "markdown",
      "metadata": {
        "id": "view-in-github",
        "colab_type": "text"
      },
      "source": [
        "<a href=\"https://colab.research.google.com/github/mngugi/Python_Collections-/blob/master/functions_Recap.ipynb\" target=\"_parent\"><img src=\"https://colab.research.google.com/assets/colab-badge.svg\" alt=\"Open In Colab\"/></a>"
      ]
    },
    {
      "cell_type": "code",
      "execution_count": 1,
      "metadata": {
        "id": "EY2gvUed99-H"
      },
      "outputs": [],
      "source": [
        "def greet():\n",
        "  print(\"Sasa ? \")\n",
        "\n"
      ]
    },
    {
      "cell_type": "code",
      "source": [
        "def gr"
      ],
      "metadata": {
        "id": "vpNMcFs7-Rj9"
      },
      "execution_count": null,
      "outputs": []
    }
  ]
}