{
 "cells": [
  {
   "cell_type": "code",
   "execution_count": null,
   "id": "9c09c748-dff1-4981-88dd-592bc86a9914",
   "metadata": {},
   "outputs": [],
   "source": [
    "number = int(input(\"Enter a Number: \")) # input number\n",
    "\n",
    "def number_to_words(number):\n",
    "    units = [\"zero\",\"one\",\"two\",\"three\",\"four\",\"five\",\"six\",\"seven\",\"eight\",\"nine\",\n",
    "            \"ten\",\"eleven\",\"twelve\",\"thirteen\",\"fourteen\",\"fifteen\",\"sixteen\",\"seventeen\",\"eighteen\",\"nineteen\"]\n",
    "    \n",
    "    tens = [\"\",\"\",\"twenty\",\"thirty\",\"fourty\",\"fifty\",\"sixty\",\"seventy\",\"eighty\",\"ninety\"]  \n",
    "\n",
    "    if number < 20:\n",
    "        return units[number]\n",
    "\n",
    "    elif number < 100:\n",
    "        return tens[number//10] + ('' if number % 10 == else '' + units[number % 10])\n",
    "\n",
    "    elif number < 1000:\n",
    "        return units[number//100] + 'hundred' +  ('' if number % 100 == else '' + number_to_words(number % 100)) \n",
    "\n",
    "    elif number < 1000000:\n",
    "        return number_to_words(number//1000) + 'thousand' +  ('' if number % 1000 == 0 else '' + number_to_words(number % 1000))\n",
    "\n",
    "    else:\n",
    "        return \"Number out of range\"\n",
    "\n",
    "print(number_to_words(number))        \n",
    "        \n",
    "    "
   ]
  }
 ],
 "metadata": {
  "kernelspec": {
   "display_name": "Python 3 (ipykernel)",
   "language": "python",
   "name": "python3"
  },
  "language_info": {
   "codemirror_mode": {
    "name": "ipython",
    "version": 3
   },
   "file_extension": ".py",
   "mimetype": "text/x-python",
   "name": "python",
   "nbconvert_exporter": "python",
   "pygments_lexer": "ipython3",
   "version": "3.13.1"
  }
 },
 "nbformat": 4,
 "nbformat_minor": 5
}
