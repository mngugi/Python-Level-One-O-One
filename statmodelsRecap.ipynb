{
 "cells": [
  {
   "cell_type": "code",
   "execution_count": null,
   "id": "94eb3618-a943-4199-a818-1800b5213f5f",
   "metadata": {},
   "outputs": [],
   "source": [
    "import statsmodels.api as sm\n",
    "import pandas as pd\n",
    "from patsy import dmatrices\n",
    "\n",
    "df = pd.read_csv('datasets.csv')\n",
    "df\n",
    "\n"
   ]
  },
  {
   "cell_type": "code",
   "execution_count": null,
   "id": "4905d731-722f-4a59-a218-a46ea446ddf2",
   "metadata": {},
   "outputs": [],
   "source": [
    "df2 = sm.datasets.get_rdataset(\"Guerry\", \"HistData\").data\n",
    "df2"
   ]
  },
  {
   "cell_type": "code",
   "execution_count": null,
   "id": "28df3272-e102-443a-aebe-6c2ddf11d60d",
   "metadata": {},
   "outputs": [],
   "source": [
    "vars = ['Department', 'Lottery', 'Literacy', 'Wealth', 'Region']\n",
    "df3 = df2[vars]\n",
    "df3"
   ]
  },
  {
   "cell_type": "code",
   "execution_count": null,
   "id": "a25b34a6-4459-493f-82c0-c7cff7fa572c",
   "metadata": {},
   "outputs": [],
   "source": [
    "df3[:-5]"
   ]
  },
  {
   "cell_type": "code",
   "execution_count": null,
   "id": "ae9976ec-3b78-4600-b4ec-bca17d1fb2f1",
   "metadata": {},
   "outputs": [],
   "source": [
    "import warnings\n",
    "warnings.filterwarnings('ignore')\n",
    "y, X = dmatrices('Lottery ~ Literacy + Wealth + Region', data=df, return_type='dataframe')\n"
   ]
  },
  {
   "cell_type": "code",
   "execution_count": null,
   "id": "45774bf0-8f2f-45fc-bd97-9e6daa7d1522",
   "metadata": {},
   "outputs": [],
   "source": [
    "y[:3]"
   ]
  },
  {
   "cell_type": "code",
   "execution_count": null,
   "id": "5b1448e0-7601-49c9-be84-35259f35cc25",
   "metadata": {},
   "outputs": [],
   "source": [
    "X[:3]"
   ]
  },
  {
   "cell_type": "code",
   "execution_count": null,
   "id": "e821ff80-0ffa-4e93-a6d4-3f64798c55d3",
   "metadata": {},
   "outputs": [],
   "source": [
    "mod = sm.OLS(y, X)    # Describe model\n",
    "\n",
    "res = mod.fit()       # Fit model\n",
    "\n",
    "print(res.summary())   # Summarize model\n",
    "                            "
   ]
  },
  {
   "cell_type": "code",
   "execution_count": null,
   "id": "84f35115-7965-46de-a383-5d40a879d696",
   "metadata": {},
   "outputs": [],
   "source": [
    "sm.stats.linear_rainbow(res)"
   ]
  },
  {
   "cell_type": "code",
   "execution_count": null,
   "id": "cabf9ae3-ae0d-4f86-8de7-e331d5c8777f",
   "metadata": {},
   "outputs": [],
   "source": [
    "sm.graphics.plot_partregress('Lottery', 'Wealth', ['Region', 'Literacy'],data=df, obs_labels=False)"
   ]
  },
  {
   "cell_type": "code",
   "execution_count": null,
   "id": "9508119c-a37c-4dde-9f1f-37ddffe8e8ca",
   "metadata": {},
   "outputs": [],
   "source": []
  }
 ],
 "metadata": {
  "kernelspec": {
   "display_name": "Python 3 (ipykernel)",
   "language": "python",
   "name": "python3"
  },
  "language_info": {
   "codemirror_mode": {
    "name": "ipython",
    "version": 3
   },
   "file_extension": ".py",
   "mimetype": "text/x-python",
   "name": "python",
   "nbconvert_exporter": "python",
   "pygments_lexer": "ipython3",
   "version": "3.13.1"
  }
 },
 "nbformat": 4,
 "nbformat_minor": 5
}
