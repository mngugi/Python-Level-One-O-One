{
 "cells": [
  {
   "cell_type": "code",
   "execution_count": 13,
   "id": "d07e05ca-7ba7-4deb-8499-ff0ae437d858",
   "metadata": {},
   "outputs": [
    {
     "name": "stdout",
     "output_type": "stream",
     "text": [
      "         date                    country  price\n",
      "0  1966-03-31  Emerging market economies    NaN\n",
      "1  1966-03-31         Advanced economies    NaN\n",
      "2  1966-03-31       United Arab Emirates    NaN\n",
      "3  1966-03-31                    Austria    NaN\n",
      "4  1966-03-31                  Australia    NaN\n"
     ]
    }
   ],
   "source": [
    "import pandas as pd\n",
    "\n",
    "# Provide the full path to the CSV file\n",
    "file_path = '/home/x38fed/DataScience/Houseprices//nominal-index.csv'\n",
    "\n",
    "# Read the CSV file into a DataFrame\n",
    "nominal_index = pd.read_csv(file_path)\n",
    "\n",
    "# Display the first few rows of the DataFrame\n",
    "print(nominal_index.head())\n",
    "\n"
   ]
  },
  {
   "cell_type": "code",
   "execution_count": null,
   "id": "df3a0dd9-7c42-4b07-86ee-a871ed601cbc",
   "metadata": {},
   "outputs": [],
   "source": []
  }
 ],
 "metadata": {
  "kernelspec": {
   "display_name": "Python 3 (ipykernel)",
   "language": "python",
   "name": "python3"
  },
  "language_info": {
   "codemirror_mode": {
    "name": "ipython",
    "version": 3
   },
   "file_extension": ".py",
   "mimetype": "text/x-python",
   "name": "python",
   "nbconvert_exporter": "python",
   "pygments_lexer": "ipython3",
   "version": "3.11.4"
  }
 },
 "nbformat": 4,
 "nbformat_minor": 5
}
