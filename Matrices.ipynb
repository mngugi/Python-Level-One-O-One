{
  "nbformat": 4,
  "nbformat_minor": 0,
  "metadata": {
    "colab": {
      "provenance": [],
      "authorship_tag": "ABX9TyM+y7cUX3pXdgi5L+OqHFbf",
      "include_colab_link": true
    },
    "kernelspec": {
      "name": "python3",
      "display_name": "Python 3"
    },
    "language_info": {
      "name": "python"
    }
  },
  "cells": [
    {
      "cell_type": "markdown",
      "metadata": {
        "id": "view-in-github",
        "colab_type": "text"
      },
      "source": [
        "<a href=\"https://colab.research.google.com/github/mngugi/Python_Collections-/blob/master/Matrices.ipynb\" target=\"_parent\"><img src=\"https://colab.research.google.com/assets/colab-badge.svg\" alt=\"Open In Colab\"/></a>"
      ]
    },
    {
      "cell_type": "code",
      "execution_count": 1,
      "metadata": {
        "colab": {
          "base_uri": "https://localhost:8080/"
        },
        "id": "TB_6Ee6x5Fdc",
        "outputId": "f900efbf-6754-4d55-e6d8-ba1850990d8d"
      },
      "outputs": [
        {
          "output_type": "stream",
          "name": "stdout",
          "text": [
            "[[ 0.1668064  -1.0772786  -2.81670734]\n",
            " [-0.98746107 -0.25694347  1.38842923]\n",
            " [-0.03014958 -0.79706134  0.62701345]]\n",
            "---------------\n",
            "A string Matrix\n"
          ]
        },
        {
          "output_type": "execute_result",
          "data": {
            "text/plain": [
              "array([['Ford', 'Benz'],\n",
              "       ['Toyota', 'Honda']], dtype='<U6')"
            ]
          },
          "metadata": {},
          "execution_count": 1
        }
      ],
      "source": [
        "import numpy as np\n",
        "matrA = np.random.randn(3,3)\n",
        "print(matrA)\n",
        "print('---------------')\n",
        "\n",
        "print('A string Matrix')\n",
        "matrB = np.array([['Ford', 'Benz'], ['Toyota', 'Honda']])\n",
        "matrB"
      ]
    }
  ]
}