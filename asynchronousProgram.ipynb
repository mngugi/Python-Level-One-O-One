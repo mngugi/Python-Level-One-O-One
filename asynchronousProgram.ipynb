{
 "cells": [
  {
   "cell_type": "code",
   "execution_count": null,
   "id": "ac99f03f-0d2c-4238-99ff-29c06238e7f4",
   "metadata": {},
   "outputs": [],
   "source": []
  },
  {
   "cell_type": "code",
   "execution_count": 2,
   "id": "6f8dd6de-86e7-44a0-ac76-6cc45f36796d",
   "metadata": {},
   "outputs": [
    {
     "name": "stdout",
     "output_type": "stream",
     "text": [
      "Start main\n",
      "Start fetching data\n",
      "Data fetched\n",
      "Received data: {'data': 'sample'}\n",
      "End main\n"
     ]
    }
   ],
   "source": [
    "import asyncio\n",
    "import nest_asyncio\n",
    "\n",
    "# Apply the nest_asyncio patch\n",
    "nest_asyncio.apply()\n",
    "\n",
    "async def fetch_data():\n",
    "    print(\"Start fetching data\")\n",
    "    await asyncio.sleep(2)\n",
    "    print(\"Data fetched\")\n",
    "    return {\"data\": \"sample\"}\n",
    "\n",
    "async def main():\n",
    "    print(\"Start main\")\n",
    "    data = await fetch_data()\n",
    "    print(\"Received data:\", data)\n",
    "    print(\"End main\")\n",
    "\n",
    "# Use asyncio.run() as usual\n",
    "asyncio.run(main())\n"
   ]
  },
  {
   "cell_type": "code",
   "execution_count": 1,
   "id": "36bea6b5-e283-407c-bd27-13632f854d94",
   "metadata": {},
   "outputs": [
    {
     "name": "stdout",
     "output_type": "stream",
     "text": [
      "Start main\n",
      "Start fetching data\n",
      "Data fetched\n",
      "Received data: {'data': 'sample'}\n",
      "End main\n"
     ]
    }
   ],
   "source": [
    "import asyncio\n",
    "\n",
    "async def fetch_data():\n",
    "    print(\"Start fetching data\")\n",
    "    await asyncio.sleep(2)\n",
    "    print(\"Data fetched\")\n",
    "    return {\"data\": \"sample\"}\n",
    "\n",
    "async def main():\n",
    "    print(\"Start main\")\n",
    "    data = await fetch_data()\n",
    "    print(\"Received data:\", data)\n",
    "    print(\"End main\")\n",
    "\n",
    "# Directly await the main function if you're in a Jupyter notebook or an environment with a running event loop\n",
    "await main()\n"
   ]
  },
  {
   "cell_type": "code",
   "execution_count": null,
   "id": "195c280f",
   "metadata": {},
   "outputs": [],
   "source": []
  }
 ],
 "metadata": {
  "interpreter": {
   "hash": "916dbcbb3f70747c44a77c7bcd40155683ae19c65e1c03b4aa3499c5328201f1"
  },
  "kernelspec": {
   "display_name": "Python 3.12.3 64-bit",
   "language": "python",
   "name": "python3"
  },
  "language_info": {
   "codemirror_mode": {
    "name": "ipython",
    "version": 3
   },
   "file_extension": ".py",
   "mimetype": "text/x-python",
   "name": "python",
   "nbconvert_exporter": "python",
   "pygments_lexer": "ipython3",
   "version": "3.12.3"
  }
 },
 "nbformat": 4,
 "nbformat_minor": 5
}
