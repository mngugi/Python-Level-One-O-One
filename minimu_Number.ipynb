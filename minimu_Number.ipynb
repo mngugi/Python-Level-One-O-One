{
 "cells": [
  {
   "cell_type": "code",
   "execution_count": null,
   "id": "03eedaf2-4f3d-4d50-ac74-d77c07a7ec52",
   "metadata": {},
   "outputs": [],
   "source": [
    "# find the minimum number of the three\n",
    "\n",
    "num_1 = int(input('Enter first integer number'))\n",
    "num_2 = int(input('Enter second integer number'))\n",
    "num_3 = int(input('Enter third integer number'))\n",
    "\n",
    "minimum = num_1\n",
    "\n",
    "if num_2 < minimum:\n",
    "    minimum = num_2\n",
    "\n",
    "if num_3 < minimum:\n",
    "    minimum = num_3\n",
    "\n",
    "print('Minimum number is: ', minimum)"
   ]
  }
 ],
 "metadata": {
  "kernelspec": {
   "display_name": "Python 3 (ipykernel)",
   "language": "python",
   "name": "python3"
  },
  "language_info": {
   "codemirror_mode": {
    "name": "ipython",
    "version": 3
   },
   "file_extension": ".py",
   "mimetype": "text/x-python",
   "name": "python",
   "nbconvert_exporter": "python",
   "pygments_lexer": "ipython3",
   "version": "3.12.3"
  }
 },
 "nbformat": 4,
 "nbformat_minor": 5
}
