{
 "cells": [
  {
   "cell_type": "code",
   "execution_count": 2,
   "id": "03eedaf2-4f3d-4d50-ac74-d77c07a7ec52",
   "metadata": {},
   "outputs": [
    {
     "name": "stdin",
     "output_type": "stream",
     "text": [
      "Enter first integer number 23\n",
      "Enter second integer number 65\n",
      "Enter third integer number 98\n"
     ]
    },
    {
     "name": "stdout",
     "output_type": "stream",
     "text": [
      "Minimum number is:  23\n"
     ]
    }
   ],
   "source": [
    "# find the minimum number of the three\n",
    "\n",
    "num_1 = int(input('Enter first integer number'))\n",
    "num_2 = int(input('Enter second integer number'))\n",
    "num_3 = int(input('Enter third integer number'))\n",
    "\n",
    "minimum = num_1\n",
    "\n",
    "if num_2 < minimum:\n",
    "    minimum = num_2\n",
    "\n",
    "if num_3 < minimum:\n",
    "    minimum = num_3\n",
    "\n",
    "print('Minimum number is: ', minimum)"
   ]
  },
  {
   "cell_type": "code",
   "execution_count": 3,
   "id": "51dc574b-35df-4607-b897-582bc0224254",
   "metadata": {},
   "outputs": [
    {
     "data": {
      "text/plain": [
       "23"
      ]
     },
     "execution_count": 3,
     "metadata": {},
     "output_type": "execute_result"
    }
   ],
   "source": [
    "# determine min and max using in built python libralies\n",
    "\n",
    "min(23,65,98)"
   ]
  },
  {
   "cell_type": "code",
   "execution_count": null,
   "id": "6f2d0fd5-1ee1-43dc-abc9-0685b655fdb2",
   "metadata": {},
   "outputs": [],
   "source": [
    "# find the minimum number of the three\n",
    "\n",
    "num_1 = int(input('Enter first integer number'))\n",
    "num_2 = int(input('Enter second integer number'))\n",
    "num_3 = int(input('Enter third integer number'))\n",
    "\n",
    "maximum = num_1\n",
    "\n",
    "if num_2 < minimum:\n",
    "    minimum = num_2\n",
    "\n",
    "if num_3 < minimum:\n",
    "    minimum = num_3\n",
    "\n",
    "print('Minimum number is: ', minimum)"
   ]
  }
 ],
 "metadata": {
  "kernelspec": {
   "display_name": "Python 3 (ipykernel)",
   "language": "python",
   "name": "python3"
  },
  "language_info": {
   "codemirror_mode": {
    "name": "ipython",
    "version": 3
   },
   "file_extension": ".py",
   "mimetype": "text/x-python",
   "name": "python",
   "nbconvert_exporter": "python",
   "pygments_lexer": "ipython3",
   "version": "3.12.3"
  }
 },
 "nbformat": 4,
 "nbformat_minor": 5
}
