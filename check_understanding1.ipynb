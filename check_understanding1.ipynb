{
 "cells": [
  {
   "cell_type": "code",
   "execution_count": 1,
   "id": "702b45f9-6e76-44c5-80d4-5962d4ed5312",
   "metadata": {},
   "outputs": [
    {
     "name": "stdout",
     "output_type": "stream",
     "text": [
      "8\n"
     ]
    }
   ],
   "source": [
    "class Animal():\n",
    "    def __init__(self, arms, legs):\n",
    "        self.arms = arms\n",
    "        self.legs = legs\n",
    "        \n",
    "    def limbs(self):\n",
    "        return self.arms + self.legs\n",
    "\n",
    "spider = Animal(4, 4)\n",
    "spidlimbs = spider.limbs()\n",
    "print(spidlimbs)"
   ]
  },
  {
   "cell_type": "code",
   "execution_count": 1,
   "id": "e9fd2472-7a75-41d5-a54c-be1370d49759",
   "metadata": {},
   "outputs": [
    {
     "name": "stdout",
     "output_type": "stream",
     "text": [
      "1. <__main__.Point object at 0x73170015bdd0>\n",
      "2. <__main__.Point object at 0x73170015bf80>\n",
      "3. False\n",
      "4. 3\n",
      "5 10\n"
     ]
    },
    {
     "data": {
      "image/png": "[encoded data removed]",
      "text/plain": [
       "<Figure size 640x480 with 1 Axes>"
      ]
     },
     "metadata": {},
     "output_type": "display_data"
    }
   ],
   "source": [
    "# a python class that represents points a 2D graph\n",
    "class Point():\n",
    "    # a method for the point class\n",
    "    def __init__(self, x,y):\n",
    "        self.x = x\n",
    "        self.y = y\n",
    "\n",
    "    def getX(self):\n",
    "        return self.x\n",
    "\n",
    "    def getY(self):\n",
    "        return self.y    \n",
    "# create an instance variable example1\n",
    "point_1 = Point(3,10)\n",
    "point_2 = Point(2, 5)\n",
    "\n",
    "# create an instance variable example2\n",
    "point_1.x = 3\n",
    "point_2.x = 10\n",
    "\n",
    "\n",
    "print('1.',point_1)\n",
    "print('2.',point_2)\n",
    "print('3.',point_1 == point_2)\n",
    "print('4.',point_1.getX())\n",
    "print('5',point_2.getX())\n",
    "\n",
    "\n",
    "# lets plot the points on a 2D graph\n",
    "import matplotlib.pyplot as plt\n",
    "\n",
    "# coordinates of the point\n",
    "x = 3\n",
    "y = 10\n",
    "\n",
    "#plt.scatter(x,y)\n",
    "\n",
    "plt.bar(x,y)\n",
    "\n",
    "\n",
    "plt.xlabel('x')\n",
    "\n",
    "\n",
    "plt.show()\n",
    "\n",
    "\n"
   ]
  },
  {
   "cell_type": "code",
   "execution_count": 3,
   "id": "5f34815a-0439-4118-a5dd-2ad772b0bcea",
   "metadata": {},
   "outputs": [
    {
     "name": "stdout",
     "output_type": "stream",
     "text": [
      "5.0\n"
     ]
    }
   ],
   "source": [
    "import math\n",
    "class Point:\n",
    "    \"\"\" Point class for representing and manipulating x,y coordinates. \"\"\"\n",
    "\n",
    "    def __init__(self, initX, initY):\n",
    "\n",
    "        self.x = initX\n",
    "        self.y = initY\n",
    "\n",
    "    def getX(self):\n",
    "        return self.x\n",
    "\n",
    "    def getY(self):\n",
    "        return self.y\n",
    "\n",
    "    def distanceFromOrigin(self):\n",
    "        return ((self.x ** 2) + (self.y ** 2)) ** 0.5\n",
    "\n",
    "    def distance(self, point2):\n",
    "        xdiff = point2.getX()-self.getX()\n",
    "        ydiff = point2.getY()-self.getY()\n",
    "\n",
    "        dist = math.sqrt(xdiff**2 + ydiff**2)\n",
    "        return dist\n",
    "\n",
    "p = Point(4,3)\n",
    "q = Point(0,0)\n",
    "print(p.distance(q))\n"
   ]
  },
  {
   "cell_type": "code",
   "execution_count": 5,
   "id": "6392d3ed-abd5-43eb-9870-94aab0e57725",
   "metadata": {},
   "outputs": [
    {
     "name": "stdout",
     "output_type": "stream",
     "text": [
      "Mean is:  63.285714285714285\n"
     ]
    },
    {
     "data": {
      "image/png": "[encoded data removed]",
      "text/plain": [
       "<Figure size 640x480 with 1 Axes>"
      ]
     },
     "metadata": {},
     "output_type": "display_data"
    }
   ],
   "source": [
    "import matplotlib.pyplot as plt\n",
    "\n",
    "X = [32,62,83,45,96,83,74,65,45,96,21,85,74,25]\n",
    "N = 14\n",
    "\n",
    "sum_X = sum(X)\n",
    "X_u = sum_X/N\n",
    "\n",
    "print(\"Mean is: \", X_u)\n",
    "\n",
    "\n",
    "\n",
    "plt.hist(X, bins=10, edgecolor='orange')\n",
    "\n",
    "plt.title('Mean Distribution Sample')\n",
    "\n",
    "plt.xlabel('vlaues')\n",
    "plt.ylabel('Frequency')\n",
    "\n",
    "plt.show()\n"
   ]
  },
  {
   "cell_type": "code",
   "execution_count": 4,
   "id": "696477df-6adc-44aa-9326-ddee28b1061d",
   "metadata": {},
   "outputs": [
    {
     "name": "stdout",
     "output_type": "stream",
     "text": [
      "Enter Element Atomic Number:  12\n"
     ]
    },
    {
     "name": "stdout",
     "output_type": "stream",
     "text": [
      "Atomic Number:  12\n",
      "Symbol:  Mg\n",
      "Name:  magnesium\n",
      "Atomic mass:  24.305\n",
      "Density 1.738\n"
     ]
    }
   ],
   "source": [
    "import periodictable\n",
    "\n",
    "Atomic_No = int(input(\"Enter Element Atomic Number: \"))\n",
    "element = periodictable.elements[Atomic_No]\n",
    "\n",
    "print('Atomic Number: ', element.number)\n",
    "print('Symbol: ', element.symbol)\n",
    "print('Name: ', element.name )\n",
    "print('Atomic mass: ',element.mass)\n",
    "print('Density', element.density)\n"
   ]
  },
  {
   "cell_type": "code",
   "execution_count": null,
   "id": "9ca9d454-e9c6-470a-b206-45756b8244de",
   "metadata": {},
   "outputs": [],
   "source": []
  }
 ],
 "metadata": {
  "interpreter": {
   "hash": "916dbcbb3f70747c44a77c7bcd40155683ae19c65e1c03b4aa3499c5328201f1"
  },
  "kernelspec": {
   "display_name": "Python 3.12.3 64-bit",
   "language": "python",
   "name": "python3"
  },
  "language_info": {
   "codemirror_mode": {
    "name": "ipython",
    "version": 3
   },
   "file_extension": ".py",
   "mimetype": "text/x-python",
   "name": "python",
   "nbconvert_exporter": "python",
   "pygments_lexer": "ipython3",
   "version": "3.12.3"
  }
 },
 "nbformat": 4,
 "nbformat_minor": 5
}
