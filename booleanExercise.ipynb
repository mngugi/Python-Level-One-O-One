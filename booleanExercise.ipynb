{
 "cells": [
  {
   "cell_type": "code",
   "execution_count": 1,
   "id": "9f16258c-710a-4f5f-bca7-df6874faa515",
   "metadata": {},
   "outputs": [
    {
     "name": "stdout",
     "output_type": "stream",
     "text": [
      " ____              _                   \n",
      "| __ )  ___   ___ | | ___  __ _ _ __   \n",
      "|  _ \\ / _ \\ / _ \\| |/ _ \\/ _` | '_ \\  \n",
      "| |_) | (_) | (_) | |  __/ (_| | | | | \n",
      "|____/ \\___/ \\___/|_|\\___|\\__,_|_| |_| \n",
      "                                       \n",
      "\n"
     ]
    }
   ],
   "source": [
    "import pyfiglet # type: ignore\n",
    "\n",
    "def display_title(title):\n",
    "    ascii_art = pyfiglet.figlet_format(title)\n",
    "    print(ascii_art)\n",
    "\n",
    "if __name__ == \"__main__\":\n",
    "    display_title(\"Boolean \")\n"
   ]
  },
  {
   "cell_type": "code",
   "execution_count": null,
   "id": "84243193-a622-4411-85e5-8214f43ed6d9",
   "metadata": {},
   "outputs": [
    {
     "name": "stdout",
     "output_type": "stream",
     "text": [
      "True\n"
     ]
    }
   ],
   "source": [
    "boo = (5>2)and (5<9)\n",
    "foo = (5<2) and (5>9)\n",
    "print(boo)"
   ]
  },
  {
   "cell_type": "code",
   "execution_count": null,
   "id": "0abc95a0-c3d4-4b76-817b-7e93d83fbcc9",
   "metadata": {},
   "outputs": [
    {
     "name": "stdout",
     "output_type": "stream",
     "text": [
      "boo is True\n"
     ]
    }
   ],
   "source": [
    "if (5>2)and (5<9):\n",
    "    print(f'boo is {boo}')"
   ]
  },
  {
   "cell_type": "code",
   "execution_count": null,
   "id": "2f9212a2-5765-4977-8682-690ce57e489b",
   "metadata": {},
   "outputs": [
    {
     "name": "stdout",
     "output_type": "stream",
     "text": [
      "False\n"
     ]
    }
   ],
   "source": [
    "print(foo)"
   ]
  },
  {
   "cell_type": "code",
   "execution_count": null,
   "id": "e4a4ea26-3b82-4f30-96e5-46fb7bab4eed",
   "metadata": {},
   "outputs": [],
   "source": []
  }
 ],
 "metadata": {
  "kernelspec": {
   "display_name": "Python 3 (ipykernel)",
   "language": "python",
   "name": "python3"
  },
  "language_info": {
   "codemirror_mode": {
    "name": "ipython",
    "version": 3
   },
   "file_extension": ".py",
   "mimetype": "text/x-python",
   "name": "python",
   "nbconvert_exporter": "python",
   "pygments_lexer": "ipython3",
   "version": "3.13.1"
  }
 },
 "nbformat": 4,
 "nbformat_minor": 5
}
