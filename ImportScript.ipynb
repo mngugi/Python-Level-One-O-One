{
 "cells": [
  {
   "cell_type": "code",
   "execution_count": 3,
   "id": "94b1d31e-3d3a-4f9e-aacd-c48cd6507475",
   "metadata": {},
   "outputs": [
    {
     "name": "stdout",
     "output_type": "stream",
     "text": [
      "    _                            __    ____ _          _      \n",
      "   / \\   _ __ ___  __ _    ___  / _|  / ___(_)_ __ ___| | ___ \n",
      "  / _ \\ | '__/ _ \\/ _` |  / _ \\| |_  | |   | | '__/ __| |/ _ \\\n",
      " / ___ \\| | |  __/ (_| | | (_) |  _| | |___| | | | (__| |  __/\n",
      "/_/   \\_\\_|  \\___|\\__,_|  \\___/|_|    \\____|_|_|  \\___|_|\\___|\n",
      "                                                              \n",
      "\n",
      "Circle Area: 12.57 square meters\n",
      "Cylinder Surface Area: 150.80 square meters\n",
      "Total Area: 163.36 square meters\n"
     ]
    }
   ],
   "source": [
    "%run Area_Circle.py"
   ]
  },
  {
   "cell_type": "code",
   "execution_count": 2,
   "id": "461b1388-b352-430a-92f4-04ab45d00602",
   "metadata": {},
   "outputs": [],
   "source": [
    "import Area_Circle\n"
   ]
  },
  {
   "cell_type": "code",
   "execution_count": 12,
   "id": "562a7b8f-a001-4cc2-a2fa-147878576c10",
   "metadata": {},
   "outputs": [
    {
     "name": "stdout",
     "output_type": "stream",
     "text": [
      "Defaulting to user installation because normal site-packages is not writeable\n",
      "Requirement already satisfied: rich in /home/sigma69/.local/lib/python3.13/site-packages (13.9.4)\n",
      "Requirement already satisfied: markdown-it-py>=2.2.0 in /home/sigma69/.local/lib/python3.13/site-packages (from rich) (3.0.0)\n",
      "Requirement already satisfied: pygments<3.0.0,>=2.13.0 in /usr/lib/python3.13/site-packages (from rich) (2.18.0)\n",
      "Requirement already satisfied: mdurl~=0.1 in /home/sigma69/.local/lib/python3.13/site-packages (from markdown-it-py>=2.2.0->rich) (0.1.2)\n"
     ]
    }
   ],
   "source": [
    "!pip install rich\n"
   ]
  },
  {
   "cell_type": "code",
   "execution_count": 13,
   "id": "518d6d0b-0fda-4a87-9cec-bb38182631be",
   "metadata": {},
   "outputs": [
    {
     "name": "stdout",
     "output_type": "stream",
     "text": [
      " ____        _   _                 \n",
      "|  _ \\ _   _| |_| |__   ___  _ __  \n",
      "| |_) | | | | __| '_ \\ / _ \\| '_ \\ \n",
      "|  __/| |_| | |_| | | | (_) | | | |\n",
      "|_|    \\__, |\\__|_| |_|\\___/|_| |_|\n",
      "       |___/                       \n",
      "    _                                            \n",
      "   / \\   ___ _ __ ___  _ __  _   _ _ __ ___  ___ \n",
      "  / _ \\ / __| '__/ _ \\| '_ \\| | | | '_ ` _ \\/ __|\n",
      " / ___ \\ (__| | | (_) | | | | |_| | | | | | \\__ \\\n",
      "/_/   \\_\\___|_|  \\___/|_| |_|\\__, |_| |_| |_|___/\n",
      "                             |___/               \n",
      "\n",
      "Python Acronyms and Their Meanings:\n",
      "\n",
      "PEP: Python Enhancement Proposal\n"
     ]
    },
    {
     "data": {
      "text/html": [
       "<pre style=\"white-space:pre;overflow-x:auto;line-height:normal;font-family:Menlo,'DejaVu Sans Mono',consolas,'Courier New',monospace\"><span style=\"color: #008000; text-decoration-color: #008000; font-weight: bold\">PEP: Python Enhancement Proposal</span>\n",
       "</pre>\n"
      ],
      "text/plain": [
       "\u001b[1;32mPEP: Python Enhancement Proposal\u001b[0m\n"
      ]
     },
     "metadata": {},
     "output_type": "display_data"
    },
    {
     "name": "stdout",
     "output_type": "stream",
     "text": [
      "GIL: Global Interpreter Lock\n"
     ]
    },
    {
     "data": {
      "text/html": [
       "<pre style=\"white-space:pre;overflow-x:auto;line-height:normal;font-family:Menlo,'DejaVu Sans Mono',consolas,'Courier New',monospace\"><span style=\"color: #008000; text-decoration-color: #008000; font-weight: bold\">GIL: Global Interpreter Lock</span>\n",
       "</pre>\n"
      ],
      "text/plain": [
       "\u001b[1;32mGIL: Global Interpreter Lock\u001b[0m\n"
      ]
     },
     "metadata": {},
     "output_type": "display_data"
    },
    {
     "name": "stdout",
     "output_type": "stream",
     "text": [
      "CPython: C implementation of Python\n"
     ]
    },
    {
     "data": {
      "text/html": [
       "<pre style=\"white-space:pre;overflow-x:auto;line-height:normal;font-family:Menlo,'DejaVu Sans Mono',consolas,'Courier New',monospace\"><span style=\"color: #008000; text-decoration-color: #008000; font-weight: bold\">CPython: C implementation of Python</span>\n",
       "</pre>\n"
      ],
      "text/plain": [
       "\u001b[1;32mCPython: C implementation of Python\u001b[0m\n"
      ]
     },
     "metadata": {},
     "output_type": "display_data"
    },
    {
     "name": "stdout",
     "output_type": "stream",
     "text": [
      "IDLE: Integrated Development and Learning Environment\n"
     ]
    },
    {
     "data": {
      "text/html": [
       "<pre style=\"white-space:pre;overflow-x:auto;line-height:normal;font-family:Menlo,'DejaVu Sans Mono',consolas,'Courier New',monospace\"><span style=\"color: #008000; text-decoration-color: #008000; font-weight: bold\">IDLE: Integrated Development and Learning Environment</span>\n",
       "</pre>\n"
      ],
      "text/plain": [
       "\u001b[1;32mIDLE: Integrated Development and Learning Environment\u001b[0m\n"
      ]
     },
     "metadata": {},
     "output_type": "display_data"
    },
    {
     "name": "stdout",
     "output_type": "stream",
     "text": [
      "PyPI: Python Package Index\n"
     ]
    },
    {
     "data": {
      "text/html": [
       "<pre style=\"white-space:pre;overflow-x:auto;line-height:normal;font-family:Menlo,'DejaVu Sans Mono',consolas,'Courier New',monospace\"><span style=\"color: #008000; text-decoration-color: #008000; font-weight: bold\">PyPI: Python Package Index</span>\n",
       "</pre>\n"
      ],
      "text/plain": [
       "\u001b[1;32mPyPI: Python Package Index\u001b[0m\n"
      ]
     },
     "metadata": {},
     "output_type": "display_data"
    },
    {
     "name": "stdout",
     "output_type": "stream",
     "text": [
      "Pandas: Panel Data\n"
     ]
    },
    {
     "data": {
      "text/html": [
       "<pre style=\"white-space:pre;overflow-x:auto;line-height:normal;font-family:Menlo,'DejaVu Sans Mono',consolas,'Courier New',monospace\"><span style=\"color: #008000; text-decoration-color: #008000; font-weight: bold\">Pandas: Panel Data</span>\n",
       "</pre>\n"
      ],
      "text/plain": [
       "\u001b[1;32mPandas: Panel Data\u001b[0m\n"
      ]
     },
     "metadata": {},
     "output_type": "display_data"
    },
    {
     "name": "stdout",
     "output_type": "stream",
     "text": [
      "SciPy: Scientific Python\n"
     ]
    },
    {
     "data": {
      "text/html": [
       "<pre style=\"white-space:pre;overflow-x:auto;line-height:normal;font-family:Menlo,'DejaVu Sans Mono',consolas,'Courier New',monospace\"><span style=\"color: #008000; text-decoration-color: #008000; font-weight: bold\">SciPy: Scientific Python</span>\n",
       "</pre>\n"
      ],
      "text/plain": [
       "\u001b[1;32mSciPy: Scientific Python\u001b[0m\n"
      ]
     },
     "metadata": {},
     "output_type": "display_data"
    },
    {
     "name": "stdout",
     "output_type": "stream",
     "text": [
      "Django: Named after Django Reinhardt, jazz guitarist\n"
     ]
    },
    {
     "data": {
      "text/html": [
       "<pre style=\"white-space:pre;overflow-x:auto;line-height:normal;font-family:Menlo,'DejaVu Sans Mono',consolas,'Courier New',monospace\"><span style=\"color: #008000; text-decoration-color: #008000; font-weight: bold\">Django: Named after Django Reinhardt, jazz guitarist</span>\n",
       "</pre>\n"
      ],
      "text/plain": [
       "\u001b[1;32mDjango: Named after Django Reinhardt, jazz guitarist\u001b[0m\n"
      ]
     },
     "metadata": {},
     "output_type": "display_data"
    },
    {
     "name": "stdout",
     "output_type": "stream",
     "text": [
      "Flask: A lightweight web framework in Python\n"
     ]
    },
    {
     "data": {
      "text/html": [
       "<pre style=\"white-space:pre;overflow-x:auto;line-height:normal;font-family:Menlo,'DejaVu Sans Mono',consolas,'Courier New',monospace\"><span style=\"color: #008000; text-decoration-color: #008000; font-weight: bold\">Flask: A lightweight web framework in Python</span>\n",
       "</pre>\n"
      ],
      "text/plain": [
       "\u001b[1;32mFlask: A lightweight web framework in Python\u001b[0m\n"
      ]
     },
     "metadata": {},
     "output_type": "display_data"
    },
    {
     "name": "stdout",
     "output_type": "stream",
     "text": [
      "JSON: JavaScript Object Notation\n"
     ]
    },
    {
     "data": {
      "text/html": [
       "<pre style=\"white-space:pre;overflow-x:auto;line-height:normal;font-family:Menlo,'DejaVu Sans Mono',consolas,'Courier New',monospace\"><span style=\"color: #008000; text-decoration-color: #008000; font-weight: bold\">JSON: JavaScript Object Notation</span>\n",
       "</pre>\n"
      ],
      "text/plain": [
       "\u001b[1;32mJSON: JavaScript Object Notation\u001b[0m\n"
      ]
     },
     "metadata": {},
     "output_type": "display_data"
    }
   ],
   "source": [
    "import Acronyms\n",
    "%run Acronyms.py"
   ]
  },
  {
   "cell_type": "code",
   "execution_count": 9,
   "id": "1d1e102d-b049-4874-bc29-fd8abbfb94f5",
   "metadata": {},
   "outputs": [
    {
     "name": "stdout",
     "output_type": "stream",
     "text": [
      "    _                               _   _     _     _   \n",
      "   / \\   _ __  _ __   ___ _ __   __| | | |   (_)___| |_ \n",
      "  / _ \\ | '_ \\| '_ \\ / _ \\ '_ \\ / _` | | |   | / __| __|\n",
      " / ___ \\| |_) | |_) |  __/ | | | (_| | | |___| \\__ \\ |_ \n",
      "/_/   \\_\\ .__/| .__/ \\___|_| |_|\\__,_| |_____|_|___/\\__|\n",
      "        |_|   |_|                                       \n",
      "\n",
      "1. Append an integer\n",
      "-------------------\n",
      "2. Append a float\n",
      "-------------------\n",
      "3. Append a double (float in Python)\n",
      "-------------------\n",
      "4. Append a string\n",
      "-------------------\n",
      "-------------------\n",
      "[21, 50.0889, 2.0, 'Stingo', 'Stingo is a funny name!', ':0 , :))']\n",
      "-------------------\n"
     ]
    }
   ],
   "source": [
    "import appendlist\n",
    "%run appendlist.py"
   ]
  },
  {
   "cell_type": "code",
   "execution_count": 14,
   "id": "06c23724-1c97-4ff5-b1f3-9b074fb1be2e",
   "metadata": {},
   "outputs": [
    {
     "name": "stdout",
     "output_type": "stream",
     "text": [
      "    _       _     _   _____               \n",
      "   / \\   __| | __| | |_   _|_      _____  \n",
      "  / _ \\ / _` |/ _` |   | | \\ \\ /\\ / / _ \\ \n",
      " / ___ \\ (_| | (_| |   | |  \\ V  V / (_) |\n",
      "/_/   \\_\\__,_|\\__,_|   |_|   \\_/\\_/ \\___/ \n",
      "                                          \n",
      " _   _                 _                   \n",
      "| \\ | |_   _ _ __ ___ | |__   ___ _ __ ___ \n",
      "|  \\| | | | | '_ ` _ \\| '_ \\ / _ \\ '__/ __|\n",
      "| |\\  | |_| | | | | | | |_) |  __/ |  \\__ \\\n",
      "|_| \\_|\\__,_|_| |_| |_|_.__/ \\___|_|  |___/\n",
      "                                           \n",
      "\n"
     ]
    },
    {
     "name": "stdin",
     "output_type": "stream",
     "text": [
      "Enter Two Numbers:  2 96\n"
     ]
    },
    {
     "name": "stdout",
     "output_type": "stream",
     "text": [
      "98\n"
     ]
    }
   ],
   "source": [
    "%run add2Number.py"
   ]
  },
  {
   "cell_type": "code",
   "execution_count": 15,
   "id": "ea6a47bc-786f-4392-a538-adc8e2aaa2fd",
   "metadata": {},
   "outputs": [
    {
     "name": "stdout",
     "output_type": "stream",
     "text": [
      "    _         _ _   _                    _   _      \n",
      "   / \\   _ __(_) |_| |__  _ __ ___   ___| |_(_) ___ \n",
      "  / _ \\ | '__| | __| '_ \\| '_ ` _ \\ / _ \\ __| |/ __|\n",
      " / ___ \\| |  | | |_| | | | | | | | |  __/ |_| | (__ \n",
      "/_/   \\_\\_|  |_|\\__|_| |_|_| |_| |_|\\___|\\__|_|\\___|\n",
      "                                                    \n",
      "  ___                       _   _                 \n",
      " / _ \\ _ __   ___ _ __ __ _| |_(_) ___  _ __  ___ \n",
      "| | | | '_ \\ / _ \\ '__/ _` | __| |/ _ \\| '_ \\/ __|\n",
      "| |_| | |_) |  __/ | | (_| | |_| | (_) | | | \\__ \\\n",
      " \\___/| .__/ \\___|_|  \\__,_|\\__|_|\\___/|_| |_|___/\n",
      "      |_|                                         \n",
      "\n",
      "array1 [0 1 2 3 4]\n",
      "array2  [5 6 7 8 9]\n",
      " \n",
      "Addition operator: \n",
      "[4 5 6 7 8]\n",
      " \n",
      "Subtraction operator: \n",
      "[-4 -3 -2 -1  0]\n",
      " \n",
      "Multiplication operator: \n",
      "[4 5 6 7 8]\n",
      " \n",
      "Division operator: \n",
      "[0.  0.5 1.  1.5 2. ]\n",
      " \n",
      "Modulus operator: \n",
      "[0 1 2 3 0]\n",
      " \n",
      " ================================ \n",
      "Arithmetic operations using multidimensional arrays: \n",
      " \n",
      "Addition operator\n",
      "[ 5  7  9 11 13]\n",
      " \n",
      "Subtraction operator\n",
      "[-5 -5 -5 -5 -5]\n",
      " \n",
      "Multiplication operator: \n",
      "[ 5  7  9 11 13]\n",
      " \n",
      "Division operator: \n",
      "[0.  0.5 1.  1.5 2. ]\n",
      " \n",
      "Modulus operator: \n",
      "[0 1 2 3 4]\n",
      " \n",
      " ================================ \n",
      "Arithmetic operations using sine and square root: \n",
      " \n",
      "sine operator: \n",
      "[ 0.          0.84147098  0.90929743  0.14112001 -0.7568025 ]\n",
      " \n",
      "square root operator: \n",
      "[0.         1.         1.41421356 1.73205081 2.        ]\n",
      " \n",
      " ================================ \n",
      " Multidimentional operations: \n",
      "[[0 1 2 3]\n",
      " [4 5 6 7]]\n",
      " \n",
      "Multidimentional array multiplied by ones: \n",
      "[[1. 1. 1. 1.]\n",
      " [1. 1. 1. 1.]]\n",
      " \n",
      "[[0. 1. 2. 3.]\n",
      " [4. 5. 6. 7.]]\n"
     ]
    }
   ],
   "source": [
    "%run Arithmetic_Operations.py"
   ]
  },
  {
   "cell_type": "code",
   "execution_count": 17,
   "id": "499c0fe4-9990-4327-8b2a-417674ff57f8",
   "metadata": {},
   "outputs": [
    {
     "name": "stdout",
     "output_type": "stream",
     "text": [
      "    _                           _____         _   \n",
      "   / \\   _ __ _ __ __ _ _   _  |_   _|__  ___| |_ \n",
      "  / _ \\ | '__| '__/ _` | | | |   | |/ _ \\/ __| __|\n",
      " / ___ \\| |  | | | (_| | |_| |   | |  __/\\__ \\ |_ \n",
      "/_/   \\_\\_|  |_|  \\__,_|\\__, |   |_|\\___||___/\\__|\n",
      "                        |___/                     \n",
      "\n",
      "================================\n",
      "row array('i', [4, 6, 7, 9, 8])\n",
      "________________________________\n"
     ]
    }
   ],
   "source": [
    "%run array_test.py"
   ]
  },
  {
   "cell_type": "code",
   "execution_count": 18,
   "id": "a6966145-c419-470b-8018-3b8a2387b060",
   "metadata": {},
   "outputs": [
    {
     "name": "stdout",
     "output_type": "stream",
     "text": [
      " ____        _ _      _                _      \n",
      "| __ )  __ _| | |    / \\   _ __   __ _| | ___ \n",
      "|  _ \\ / _` | | |   / _ \\ | '_ \\ / _` | |/ _ \\\n",
      "| |_) | (_| | | |  / ___ \\| | | | (_| | |  __/\n",
      "|____/ \\__,_|_|_| /_/   \\_\\_| |_|\\__, |_|\\___|\n",
      "                                 |___/        \n",
      "\n",
      "45.0\n"
     ]
    }
   ],
   "source": [
    "%run ballAngle.py"
   ]
  },
  {
   "cell_type": "code",
   "execution_count": 20,
   "id": "2291258e-7679-4072-b6b1-0f27e13e8d69",
   "metadata": {},
   "outputs": [
    {
     "name": "stdout",
     "output_type": "stream",
     "text": [
      " ____        _ _   ____  _       _   \n",
      "| __ )  __ _| | | |  _ \\| | ___ | |_ \n",
      "|  _ \\ / _` | | | | |_) | |/ _ \\| __|\n",
      "| |_) | (_| | | | |  __/| | (_) | |_ \n",
      "|____/ \\__,_|_|_| |_|   |_|\\___/ \\__|\n",
      "                                     \n",
      "\n"
     ]
    },
    {
     "data": {
      "image/png": "[encoded data removed]",
      "text/plain": [
       "<Figure size 640x480 with 1 Axes>"
      ]
     },
     "metadata": {},
     "output_type": "display_data"
    }
   ],
   "source": [
    "%run ballPlot.py"
   ]
  },
  {
   "cell_type": "code",
   "execution_count": null,
   "id": "f47bcc66-b100-461f-8dce-84a861d4f41e",
   "metadata": {},
   "outputs": [],
   "source": []
  }
 ],
 "metadata": {
  "kernelspec": {
   "display_name": "Python 3 (ipykernel)",
   "language": "python",
   "name": "python3"
  },
  "language_info": {
   "codemirror_mode": {
    "name": "ipython",
    "version": 3
   },
   "file_extension": ".py",
   "mimetype": "text/x-python",
   "name": "python",
   "nbconvert_exporter": "python",
   "pygments_lexer": "ipython3",
   "version": "3.13.1"
  }
 },
 "nbformat": 4,
 "nbformat_minor": 5
}
