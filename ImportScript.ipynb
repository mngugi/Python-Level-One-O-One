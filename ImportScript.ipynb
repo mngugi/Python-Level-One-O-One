{
 "cells": [
  {
   "cell_type": "code",
   "execution_count": 3,
   "id": "94b1d31e-3d3a-4f9e-aacd-c48cd6507475",
   "metadata": {},
   "outputs": [
    {
     "name": "stdout",
     "output_type": "stream",
     "text": [
      "    _                            __    ____ _          _      \n",
      "   / \\   _ __ ___  __ _    ___  / _|  / ___(_)_ __ ___| | ___ \n",
      "  / _ \\ | '__/ _ \\/ _` |  / _ \\| |_  | |   | | '__/ __| |/ _ \\\n",
      " / ___ \\| | |  __/ (_| | | (_) |  _| | |___| | | | (__| |  __/\n",
      "/_/   \\_\\_|  \\___|\\__,_|  \\___/|_|    \\____|_|_|  \\___|_|\\___|\n",
      "                                                              \n",
      "\n",
      "Circle Area: 12.57 square meters\n",
      "Cylinder Surface Area: 150.80 square meters\n",
      "Total Area: 163.36 square meters\n"
     ]
    }
   ],
   "source": [
    "%run Area_Circle.py"
   ]
  },
  {
   "cell_type": "code",
   "execution_count": 2,
   "id": "461b1388-b352-430a-92f4-04ab45d00602",
   "metadata": {},
   "outputs": [],
   "source": [
    "import Area_Circle\n"
   ]
  },
  {
   "cell_type": "code",
   "execution_count": null,
   "id": "562a7b8f-a001-4cc2-a2fa-147878576c10",
   "metadata": {},
   "outputs": [],
   "source": []
  },
  {
   "cell_type": "code",
   "execution_count": 11,
   "id": "518d6d0b-0fda-4a87-9cec-bb38182631be",
   "metadata": {},
   "outputs": [
    {
     "name": "stdout",
     "output_type": "stream",
     "text": [
      " ____        _   _                 \n",
      "|  _ \\ _   _| |_| |__   ___  _ __  \n",
      "| |_) | | | | __| '_ \\ / _ \\| '_ \\ \n",
      "|  __/| |_| | |_| | | | (_) | | | |\n",
      "|_|    \\__, |\\__|_| |_|\\___/|_| |_|\n",
      "       |___/                       \n",
      "    _                                            \n",
      "   / \\   ___ _ __ ___  _ __  _   _ _ __ ___  ___ \n",
      "  / _ \\ / __| '__/ _ \\| '_ \\| | | | '_ ` _ \\/ __|\n",
      " / ___ \\ (__| | | (_) | | | | |_| | | | | | \\__ \\\n",
      "/_/   \\_\\___|_|  \\___/|_| |_|\\__, |_| |_| |_|___/\n",
      "                             |___/               \n",
      "\n"
     ]
    },
    {
     "ename": "NameError",
     "evalue": "name 'console' is not defined",
     "output_type": "error",
     "traceback": [
      "\u001b[0;31m---------------------------------------------------------------------------\u001b[0m",
      "\u001b[0;31mNameError\u001b[0m                                 Traceback (most recent call last)",
      "File \u001b[0;32m~/Documents/GitHub/Python_Collections-/Acronyms.py:48\u001b[0m\n\u001b[1;32m     32\u001b[0m acronyms \u001b[38;5;241m=\u001b[39m {\n\u001b[1;32m     33\u001b[0m     \u001b[38;5;124m\"\u001b[39m\u001b[38;5;124mPEP\u001b[39m\u001b[38;5;124m\"\u001b[39m: \u001b[38;5;124m\"\u001b[39m\u001b[38;5;124mPython Enhancement Proposal\u001b[39m\u001b[38;5;124m\"\u001b[39m,\n\u001b[1;32m     34\u001b[0m     \u001b[38;5;124m\"\u001b[39m\u001b[38;5;124mGIL\u001b[39m\u001b[38;5;124m\"\u001b[39m: \u001b[38;5;124m\"\u001b[39m\u001b[38;5;124mGlobal Interpreter Lock\u001b[39m\u001b[38;5;124m\"\u001b[39m,\n\u001b[0;32m   (...)\u001b[0m\n\u001b[1;32m     43\u001b[0m     \n\u001b[1;32m     44\u001b[0m }\n\u001b[1;32m     46\u001b[0m \u001b[38;5;66;03m# Print Acronyms\u001b[39;00m\n\u001b[1;32m     47\u001b[0m \u001b[38;5;66;03m# creat a console \u001b[39;00m\n\u001b[0;32m---> 48\u001b[0m console \u001b[38;5;241m=\u001b[39m \u001b[43mconsole\u001b[49m()\n\u001b[1;32m     49\u001b[0m \u001b[38;5;28mprint\u001b[39m(\u001b[38;5;124m\"\u001b[39m\u001b[38;5;124mPython Acronyms and Their Meanings:\u001b[39m\u001b[38;5;130;01m\\n\u001b[39;00m\u001b[38;5;124m\"\u001b[39m)\n\u001b[1;32m     50\u001b[0m \u001b[38;5;28;01mfor\u001b[39;00m acronym, meaning \u001b[38;5;129;01min\u001b[39;00m acronyms\u001b[38;5;241m.\u001b[39mitems():\n",
      "\u001b[0;31mNameError\u001b[0m: name 'console' is not defined"
     ]
    }
   ],
   "source": [
    "import Acronyms\n",
    "%run Acronyms.py"
   ]
  },
  {
   "cell_type": "code",
   "execution_count": 9,
   "id": "1d1e102d-b049-4874-bc29-fd8abbfb94f5",
   "metadata": {},
   "outputs": [
    {
     "name": "stdout",
     "output_type": "stream",
     "text": [
      "    _                               _   _     _     _   \n",
      "   / \\   _ __  _ __   ___ _ __   __| | | |   (_)___| |_ \n",
      "  / _ \\ | '_ \\| '_ \\ / _ \\ '_ \\ / _` | | |   | / __| __|\n",
      " / ___ \\| |_) | |_) |  __/ | | | (_| | | |___| \\__ \\ |_ \n",
      "/_/   \\_\\ .__/| .__/ \\___|_| |_|\\__,_| |_____|_|___/\\__|\n",
      "        |_|   |_|                                       \n",
      "\n",
      "1. Append an integer\n",
      "-------------------\n",
      "2. Append a float\n",
      "-------------------\n",
      "3. Append a double (float in Python)\n",
      "-------------------\n",
      "4. Append a string\n",
      "-------------------\n",
      "-------------------\n",
      "[21, 50.0889, 2.0, 'Stingo', 'Stingo is a funny name!', ':0 , :))']\n",
      "-------------------\n"
     ]
    }
   ],
   "source": [
    "import appendlist\n",
    "%run appendlist.py"
   ]
  },
  {
   "cell_type": "code",
   "execution_count": null,
   "id": "06c23724-1c97-4ff5-b1f3-9b074fb1be2e",
   "metadata": {},
   "outputs": [],
   "source": []
  }
 ],
 "metadata": {
  "kernelspec": {
   "display_name": "Python 3 (ipykernel)",
   "language": "python",
   "name": "python3"
  },
  "language_info": {
   "codemirror_mode": {
    "name": "ipython",
    "version": 3
   },
   "file_extension": ".py",
   "mimetype": "text/x-python",
   "name": "python",
   "nbconvert_exporter": "python",
   "pygments_lexer": "ipython3",
   "version": "3.13.1"
  }
 },
 "nbformat": 4,
 "nbformat_minor": 5
}
