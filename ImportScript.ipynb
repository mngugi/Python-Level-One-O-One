{
 "cells": [
  {
   "cell_type": "code",
   "execution_count": 3,
   "id": "94b1d31e-3d3a-4f9e-aacd-c48cd6507475",
   "metadata": {},
   "outputs": [
    {
     "name": "stdout",
     "output_type": "stream",
     "text": [
      "    _                            __    ____ _          _      \n",
      "   / \\   _ __ ___  __ _    ___  / _|  / ___(_)_ __ ___| | ___ \n",
      "  / _ \\ | '__/ _ \\/ _` |  / _ \\| |_  | |   | | '__/ __| |/ _ \\\n",
      " / ___ \\| | |  __/ (_| | | (_) |  _| | |___| | | | (__| |  __/\n",
      "/_/   \\_\\_|  \\___|\\__,_|  \\___/|_|    \\____|_|_|  \\___|_|\\___|\n",
      "                                                              \n",
      "\n",
      "Circle Area: 12.57 square meters\n",
      "Cylinder Surface Area: 150.80 square meters\n",
      "Total Area: 163.36 square meters\n"
     ]
    }
   ],
   "source": [
    "%run Area_Circle.py"
   ]
  },
  {
   "cell_type": "code",
   "execution_count": 2,
   "id": "461b1388-b352-430a-92f4-04ab45d00602",
   "metadata": {},
   "outputs": [],
   "source": [
    "import Area_Circle\n"
   ]
  },
  {
   "cell_type": "code",
   "execution_count": 4,
   "id": "518d6d0b-0fda-4a87-9cec-bb38182631be",
   "metadata": {},
   "outputs": [
    {
     "name": "stdout",
     "output_type": "stream",
     "text": [
      "Python Acronyms and Their Meanings:\n",
      "\n",
      "PEP: Python Enhancement Proposal\n",
      "GIL: Global Interpreter Lock\n",
      "CPython: C implementation of Python\n",
      "IDLE: Integrated Development and Learning Environment\n",
      "PyPI: Python Package Index\n",
      "Pandas: Panel Data\n",
      "SciPy: Scientific Python\n",
      "Django: Named after Django Reinhardt, jazz guitarist\n",
      "Flask: A lightweight web framework in Python\n",
      "JSON: JavaScript Object Notation\n",
      " ____        _   _                 \n",
      "|  _ \\ _   _| |_| |__   ___  _ __  \n",
      "| |_) | | | | __| '_ \\ / _ \\| '_ \\ \n",
      "|  __/| |_| | |_| | | | (_) | | | |\n",
      "|_|    \\__, |\\__|_| |_|\\___/|_| |_|\n",
      "       |___/                       \n",
      "    _                                            \n",
      "   / \\   ___ _ __ ___  _ __  _   _ _ __ ___  ___ \n",
      "  / _ \\ / __| '__/ _ \\| '_ \\| | | | '_ ` _ \\/ __|\n",
      " / ___ \\ (__| | | (_) | | | | |_| | | | | | \\__ \\\n",
      "/_/   \\_\\___|_|  \\___/|_| |_|\\__, |_| |_| |_|___/\n",
      "                             |___/               \n",
      "\n",
      "Python Acronyms and Their Meanings:\n",
      "\n",
      "PEP: Python Enhancement Proposal\n",
      "GIL: Global Interpreter Lock\n",
      "CPython: C implementation of Python\n",
      "IDLE: Integrated Development and Learning Environment\n",
      "PyPI: Python Package Index\n",
      "Pandas: Panel Data\n",
      "SciPy: Scientific Python\n",
      "Django: Named after Django Reinhardt, jazz guitarist\n",
      "Flask: A lightweight web framework in Python\n",
      "JSON: JavaScript Object Notation\n"
     ]
    }
   ],
   "source": [
    "import Acronyms\n",
    "%run Acronyms.py"
   ]
  },
  {
   "cell_type": "code",
   "execution_count": 5,
   "id": "8abf6b03-2ea1-4c06-9be5-98bbbd484c46",
   "metadata": {},
   "outputs": [
    {
     "ename": "DisplayConnectionError",
     "evalue": "Can't connect to display \":0\": b'Authorization required, but no authorization protocol specified\\n'",
     "output_type": "error",
     "traceback": [
      "\u001b[0;31m---------------------------------------------------------------------------\u001b[0m",
      "\u001b[0;31mDisplayConnectionError\u001b[0m                    Traceback (most recent call last)",
      "Cell \u001b[0;32mIn[5], line 1\u001b[0m\n\u001b[0;32m----> 1\u001b[0m \u001b[38;5;28;01mimport\u001b[39;00m \u001b[38;5;21;01mauto_library\u001b[39;00m\n\u001b[1;32m      2\u001b[0m get_ipython()\u001b[38;5;241m.\u001b[39mrun_line_magic(\u001b[38;5;124m'\u001b[39m\u001b[38;5;124mrun\u001b[39m\u001b[38;5;124m'\u001b[39m, \u001b[38;5;124m'\u001b[39m\u001b[38;5;124mauto_library.py\u001b[39m\u001b[38;5;124m'\u001b[39m)\n",
      "File \u001b[0;32m~/Documents/GitHub/Python_Collections-/auto_library.py:1\u001b[0m\n\u001b[0;32m----> 1\u001b[0m \u001b[38;5;28;01mimport\u001b[39;00m \u001b[38;5;21;01mpyautogui\u001b[39;00m\n\u001b[1;32m      2\u001b[0m \u001b[38;5;28;01mimport\u001b[39;00m \u001b[38;5;21;01mpyfiglet\u001b[39;00m \u001b[38;5;66;03m# type: ignore\u001b[39;00m\n\u001b[1;32m      4\u001b[0m \u001b[38;5;28;01mdef\u001b[39;00m \u001b[38;5;21mdisplay_title\u001b[39m(title):\n",
      "File \u001b[0;32m~/.local/lib/python3.13/site-packages/pyautogui/__init__.py:246\u001b[0m\n\u001b[1;32m    242\u001b[0m     screenshot \u001b[38;5;241m=\u001b[39m _couldNotImportPyScreeze\n\u001b[1;32m    245\u001b[0m \u001b[38;5;28;01mtry\u001b[39;00m:\n\u001b[0;32m--> 246\u001b[0m     \u001b[38;5;28;01mimport\u001b[39;00m \u001b[38;5;21;01mmouseinfo\u001b[39;00m\n\u001b[1;32m    248\u001b[0m     \u001b[38;5;28;01mdef\u001b[39;00m \u001b[38;5;21mmouseInfo\u001b[39m():\n\u001b[1;32m    249\u001b[0m \u001b[38;5;250m        \u001b[39m\u001b[38;5;124;03m\"\"\"\u001b[39;00m\n\u001b[1;32m    250\u001b[0m \u001b[38;5;124;03m        Launches the MouseInfo app. This application provides mouse coordinate information which can be useful when\u001b[39;00m\n\u001b[1;32m    251\u001b[0m \u001b[38;5;124;03m        planning GUI automation tasks. This function blocks until the application is closed.\u001b[39;00m\n\u001b[1;32m    252\u001b[0m \u001b[38;5;124;03m        \"\"\"\u001b[39;00m\n",
      "File \u001b[0;32m~/.local/lib/python3.13/site-packages/mouseinfo/__init__.py:223\u001b[0m\n\u001b[1;32m    220\u001b[0m     \u001b[38;5;28;01melse\u001b[39;00m:\n\u001b[1;32m    221\u001b[0m         \u001b[38;5;28;01mraise\u001b[39;00m\n\u001b[0;32m--> 223\u001b[0m _display \u001b[38;5;241m=\u001b[39m \u001b[43mDisplay\u001b[49m\u001b[43m(\u001b[49m\u001b[43mos\u001b[49m\u001b[38;5;241;43m.\u001b[39;49m\u001b[43menviron\u001b[49m\u001b[43m[\u001b[49m\u001b[38;5;124;43m'\u001b[39;49m\u001b[38;5;124;43mDISPLAY\u001b[39;49m\u001b[38;5;124;43m'\u001b[39;49m\u001b[43m]\u001b[49m\u001b[43m)\u001b[49m\n\u001b[1;32m    225\u001b[0m \u001b[38;5;28;01mdef\u001b[39;00m \u001b[38;5;21m_linuxPosition\u001b[39m():\n\u001b[1;32m    226\u001b[0m     coord \u001b[38;5;241m=\u001b[39m _display\u001b[38;5;241m.\u001b[39mscreen()\u001b[38;5;241m.\u001b[39mroot\u001b[38;5;241m.\u001b[39mquery_pointer()\u001b[38;5;241m.\u001b[39m_data\n",
      "File \u001b[0;32m~/.local/lib/python3.13/site-packages/Xlib/display.py:80\u001b[0m, in \u001b[0;36mDisplay.__init__\u001b[0;34m(self, display)\u001b[0m\n\u001b[1;32m     79\u001b[0m \u001b[38;5;28;01mdef\u001b[39;00m \u001b[38;5;21m__init__\u001b[39m(\u001b[38;5;28mself\u001b[39m, display \u001b[38;5;241m=\u001b[39m \u001b[38;5;28;01mNone\u001b[39;00m):\n\u001b[0;32m---> 80\u001b[0m     \u001b[38;5;28mself\u001b[39m\u001b[38;5;241m.\u001b[39mdisplay \u001b[38;5;241m=\u001b[39m \u001b[43m_BaseDisplay\u001b[49m\u001b[43m(\u001b[49m\u001b[43mdisplay\u001b[49m\u001b[43m)\u001b[49m\n\u001b[1;32m     82\u001b[0m     \u001b[38;5;66;03m# Create the keymap cache\u001b[39;00m\n\u001b[1;32m     83\u001b[0m     \u001b[38;5;28mself\u001b[39m\u001b[38;5;241m.\u001b[39m_keymap_codes \u001b[38;5;241m=\u001b[39m [()] \u001b[38;5;241m*\u001b[39m \u001b[38;5;241m256\u001b[39m\n",
      "File \u001b[0;32m~/.local/lib/python3.13/site-packages/Xlib/display.py:62\u001b[0m, in \u001b[0;36m_BaseDisplay.__init__\u001b[0;34m(self, *args, **keys)\u001b[0m\n\u001b[1;32m     61\u001b[0m \u001b[38;5;28;01mdef\u001b[39;00m \u001b[38;5;21m__init__\u001b[39m(\u001b[38;5;28mself\u001b[39m, \u001b[38;5;241m*\u001b[39margs, \u001b[38;5;241m*\u001b[39m\u001b[38;5;241m*\u001b[39mkeys):\n\u001b[0;32m---> 62\u001b[0m     \u001b[43mdisplay\u001b[49m\u001b[38;5;241;43m.\u001b[39;49m\u001b[43mDisplay\u001b[49m\u001b[38;5;241;43m.\u001b[39;49m\u001b[38;5;21;43m__init__\u001b[39;49m\u001b[43m(\u001b[49m\u001b[38;5;241;43m*\u001b[39;49m\u001b[43m(\u001b[49m\u001b[38;5;28;43mself\u001b[39;49m\u001b[43m,\u001b[49m\u001b[43m \u001b[49m\u001b[43m)\u001b[49m\u001b[43m \u001b[49m\u001b[38;5;241;43m+\u001b[39;49m\u001b[43m \u001b[49m\u001b[43margs\u001b[49m\u001b[43m,\u001b[49m\u001b[43m \u001b[49m\u001b[38;5;241;43m*\u001b[39;49m\u001b[38;5;241;43m*\u001b[39;49m\u001b[43mkeys\u001b[49m\u001b[43m)\u001b[49m\n\u001b[1;32m     63\u001b[0m     \u001b[38;5;28mself\u001b[39m\u001b[38;5;241m.\u001b[39m_atom_cache \u001b[38;5;241m=\u001b[39m {}\n",
      "File \u001b[0;32m~/.local/lib/python3.13/site-packages/Xlib/protocol/display.py:129\u001b[0m, in \u001b[0;36mDisplay.__init__\u001b[0;34m(self, display)\u001b[0m\n\u001b[1;32m    127\u001b[0m \u001b[38;5;66;03m# Did connection fail?\u001b[39;00m\n\u001b[1;32m    128\u001b[0m \u001b[38;5;28;01mif\u001b[39;00m r\u001b[38;5;241m.\u001b[39mstatus \u001b[38;5;241m!=\u001b[39m \u001b[38;5;241m1\u001b[39m:\n\u001b[0;32m--> 129\u001b[0m     \u001b[38;5;28;01mraise\u001b[39;00m error\u001b[38;5;241m.\u001b[39mDisplayConnectionError(\u001b[38;5;28mself\u001b[39m\u001b[38;5;241m.\u001b[39mdisplay_name, r\u001b[38;5;241m.\u001b[39mreason)\n\u001b[1;32m    131\u001b[0m \u001b[38;5;66;03m# Set up remaining info\u001b[39;00m\n\u001b[1;32m    132\u001b[0m \u001b[38;5;28mself\u001b[39m\u001b[38;5;241m.\u001b[39minfo \u001b[38;5;241m=\u001b[39m r\n",
      "\u001b[0;31mDisplayConnectionError\u001b[0m: Can't connect to display \":0\": b'Authorization required, but no authorization protocol specified\\n'"
     ]
    }
   ],
   "source": [
    "import auto_library\n",
    "%run auto_library.py"
   ]
  },
  {
   "cell_type": "code",
   "execution_count": null,
   "id": "1d1e102d-b049-4874-bc29-fd8abbfb94f5",
   "metadata": {},
   "outputs": [],
   "source": []
  }
 ],
 "metadata": {
  "kernelspec": {
   "display_name": "Python 3 (ipykernel)",
   "language": "python",
   "name": "python3"
  },
  "language_info": {
   "codemirror_mode": {
    "name": "ipython",
    "version": 3
   },
   "file_extension": ".py",
   "mimetype": "text/x-python",
   "name": "python",
   "nbconvert_exporter": "python",
   "pygments_lexer": "ipython3",
   "version": "3.13.1"
  }
 },
 "nbformat": 4,
 "nbformat_minor": 5
}
