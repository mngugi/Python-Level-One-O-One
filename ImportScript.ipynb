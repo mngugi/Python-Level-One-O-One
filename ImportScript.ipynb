{
 "cells": [
  {
   "cell_type": "code",
   "execution_count": 3,
   "id": "94b1d31e-3d3a-4f9e-aacd-c48cd6507475",
   "metadata": {},
   "outputs": [
    {
     "name": "stdout",
     "output_type": "stream",
     "text": [
      "    _                            __    ____ _          _      \n",
      "   / \\   _ __ ___  __ _    ___  / _|  / ___(_)_ __ ___| | ___ \n",
      "  / _ \\ | '__/ _ \\/ _` |  / _ \\| |_  | |   | | '__/ __| |/ _ \\\n",
      " / ___ \\| | |  __/ (_| | | (_) |  _| | |___| | | | (__| |  __/\n",
      "/_/   \\_\\_|  \\___|\\__,_|  \\___/|_|    \\____|_|_|  \\___|_|\\___|\n",
      "                                                              \n",
      "\n",
      "Circle Area: 12.57 square meters\n",
      "Cylinder Surface Area: 150.80 square meters\n",
      "Total Area: 163.36 square meters\n"
     ]
    }
   ],
   "source": [
    "%run Area_Circle.py"
   ]
  },
  {
   "cell_type": "code",
   "execution_count": 2,
   "id": "461b1388-b352-430a-92f4-04ab45d00602",
   "metadata": {},
   "outputs": [],
   "source": [
    "import Area_Circle\n"
   ]
  },
  {
   "cell_type": "code",
   "execution_count": 7,
   "id": "518d6d0b-0fda-4a87-9cec-bb38182631be",
   "metadata": {},
   "outputs": [
    {
     "ename": "SyntaxError",
     "evalue": "':' expected after dictionary key (Acronyms.py, line 41)",
     "output_type": "error",
     "traceback": [
      "\u001b[0;36m  File \u001b[0;32m~/Documents/GitHub/Python_Collections-/Acronyms.py:41\u001b[0;36m\u001b[0m\n\u001b[0;31m    [bold/green],\u001b[0m\n\u001b[0m               ^\u001b[0m\n\u001b[0;31mSyntaxError\u001b[0m\u001b[0;31m:\u001b[0m ':' expected after dictionary key\n"
     ]
    }
   ],
   "source": [
    "import Acronyms\n",
    "%run Acronyms.py"
   ]
  },
  {
   "cell_type": "code",
   "execution_count": 6,
   "id": "1d1e102d-b049-4874-bc29-fd8abbfb94f5",
   "metadata": {},
   "outputs": [
    {
     "name": "stdout",
     "output_type": "stream",
     "text": [
      "1. Append an integer\n",
      "-------------------\n",
      "2. Append a float\n",
      "-------------------\n",
      "3. Append a double (float in Python)\n",
      "-------------------\n",
      "4. Append a string\n",
      "-------------------\n",
      "-------------------\n",
      "[21, 50.0889, 2.0, 'Stingo', 'Stingo is a funny name!', ':0 , :))']\n",
      "-------------------\n",
      "    _                               _   _     _     _   \n",
      "   / \\   _ __  _ __   ___ _ __   __| | | |   (_)___| |_ \n",
      "  / _ \\ | '_ \\| '_ \\ / _ \\ '_ \\ / _` | | |   | / __| __|\n",
      " / ___ \\| |_) | |_) |  __/ | | | (_| | | |___| \\__ \\ |_ \n",
      "/_/   \\_\\ .__/| .__/ \\___|_| |_|\\__,_| |_____|_|___/\\__|\n",
      "        |_|   |_|                                       \n",
      "\n",
      "1. Append an integer\n",
      "-------------------\n",
      "2. Append a float\n",
      "-------------------\n",
      "3. Append a double (float in Python)\n",
      "-------------------\n",
      "4. Append a string\n",
      "-------------------\n",
      "-------------------\n",
      "[21, 50.0889, 2.0, 'Stingo', 'Stingo is a funny name!', ':0 , :))']\n",
      "-------------------\n"
     ]
    }
   ],
   "source": [
    "import appendlist\n",
    "%run appendlist.py"
   ]
  },
  {
   "cell_type": "code",
   "execution_count": null,
   "id": "06c23724-1c97-4ff5-b1f3-9b074fb1be2e",
   "metadata": {},
   "outputs": [],
   "source": []
  }
 ],
 "metadata": {
  "kernelspec": {
   "display_name": "Python 3 (ipykernel)",
   "language": "python",
   "name": "python3"
  },
  "language_info": {
   "codemirror_mode": {
    "name": "ipython",
    "version": 3
   },
   "file_extension": ".py",
   "mimetype": "text/x-python",
   "name": "python",
   "nbconvert_exporter": "python",
   "pygments_lexer": "ipython3",
   "version": "3.13.1"
  }
 },
 "nbformat": 4,
 "nbformat_minor": 5
}
