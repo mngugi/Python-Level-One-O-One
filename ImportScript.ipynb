{
 "cells": [
  {
   "cell_type": "code",
   "execution_count": 3,
   "id": "94b1d31e-3d3a-4f9e-aacd-c48cd6507475",
   "metadata": {},
   "outputs": [
    {
     "name": "stdout",
     "output_type": "stream",
     "text": [
      "    _                            __    ____ _          _      \n",
      "   / \\   _ __ ___  __ _    ___  / _|  / ___(_)_ __ ___| | ___ \n",
      "  / _ \\ | '__/ _ \\/ _` |  / _ \\| |_  | |   | | '__/ __| |/ _ \\\n",
      " / ___ \\| | |  __/ (_| | | (_) |  _| | |___| | | | (__| |  __/\n",
      "/_/   \\_\\_|  \\___|\\__,_|  \\___/|_|    \\____|_|_|  \\___|_|\\___|\n",
      "                                                              \n",
      "\n",
      "Circle Area: 12.57 square meters\n",
      "Cylinder Surface Area: 150.80 square meters\n",
      "Total Area: 163.36 square meters\n"
     ]
    }
   ],
   "source": [
    "%run Area_Circle.py"
   ]
  },
  {
   "cell_type": "code",
   "execution_count": 2,
   "id": "461b1388-b352-430a-92f4-04ab45d00602",
   "metadata": {},
   "outputs": [],
   "source": [
    "import Area_Circle\n"
   ]
  },
  {
   "cell_type": "code",
   "execution_count": null,
   "id": "518d6d0b-0fda-4a87-9cec-bb38182631be",
   "metadata": {},
   "outputs": [],
   "source": [
    "import Acronyms\n",
    "%run "
   ]
  }
 ],
 "metadata": {
  "kernelspec": {
   "display_name": "Python 3 (ipykernel)",
   "language": "python",
   "name": "python3"
  },
  "language_info": {
   "codemirror_mode": {
    "name": "ipython",
    "version": 3
   },
   "file_extension": ".py",
   "mimetype": "text/x-python",
   "name": "python",
   "nbconvert_exporter": "python",
   "pygments_lexer": "ipython3",
   "version": "3.13.1"
  }
 },
 "nbformat": 4,
 "nbformat_minor": 5
}
