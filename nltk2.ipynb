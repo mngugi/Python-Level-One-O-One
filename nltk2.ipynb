{
 "cells": [
  {
   "cell_type": "code",
   "execution_count": 1,
   "id": "192f8593-51db-4baa-ace3-37e11975934b",
   "metadata": {},
   "outputs": [
    {
     "data": {
      "text/plain": [
       "['The', 'Fulton', 'County', 'Grand', 'Jury', 'said', ...]"
      ]
     },
     "execution_count": 1,
     "metadata": {},
     "output_type": "execute_result"
    }
   ],
   "source": [
    "from nltk.corpus import brown\n",
    "brown.words()"
   ]
  },
  {
   "cell_type": "code",
   "execution_count": 5,
   "id": "3d161f45-a3bb-4cbe-bdb7-91d3f78794bb",
   "metadata": {},
   "outputs": [
    {
     "name": "stdout",
     "output_type": "stream",
     "text": [
      " _   _ _   _____ _  __\n",
      "| \\ | | | |_   _| |/ /\n",
      "|  \\| | |   | | | ' / \n",
      "| |\\  | |___| | | . \\ \n",
      "|_| \\_|_____|_| |_|\\_\\\n",
      "                      \n",
      "\n"
     ]
    },
    {
     "data": {
      "text/plain": [
       "['It', 'Works', 'at', '8', 'o', \"'\", 'clock', 'in', 'the', 'morning']"
      ]
     },
     "execution_count": 5,
     "metadata": {},
     "output_type": "execute_result"
    }
   ],
   "source": [
    "import nltk\n",
    "import pyfiglet\n",
    "\n",
    "ascii_art = pyfiglet.figlet_format(\"NLTK\")\n",
    "print(ascii_art)\n",
    "\n",
    "sentence = \"It Works at 8 o' clock in the morning\"\n",
    "tokens = nltk.word_tokenize(sentence)\n",
    "tokens"
   ]
  },
  {
   "cell_type": "code",
   "execution_count": null,
   "id": "ff86dd44-fdaf-4794-8889-4be28006e4a8",
   "metadata": {},
   "outputs": [],
   "source": []
  }
 ],
 "metadata": {
  "kernelspec": {
   "display_name": "Python 3 (ipykernel)",
   "language": "python",
   "name": "python3"
  },
  "language_info": {
   "codemirror_mode": {
    "name": "ipython",
    "version": 3
   },
   "file_extension": ".py",
   "mimetype": "text/x-python",
   "name": "python",
   "nbconvert_exporter": "python",
   "pygments_lexer": "ipython3",
   "version": "3.13.1"
  }
 },
 "nbformat": 4,
 "nbformat_minor": 5
}
