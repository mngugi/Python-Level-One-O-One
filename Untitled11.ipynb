{
 "cells": [
  {
   "cell_type": "code",
   "execution_count": null,
   "id": "3715310f-7c97-4f43-8d3f-937968d42e8b",
   "metadata": {},
   "outputs": [],
   "source": [
    "% Sample data\n",
    "x = linspace(0, 10, 100);  % Generate 100 points from 0 to 10\n",
    "y = sin(x) + 0.5*randn(size(x));  % Sinusoidal data with noise\n",
    "\n",
    "% Find peaks\n",
    "[pks, locs] = findpeaks(y, x);  % 'pks' are peak values, 'locs' are x-coordinates\n",
    "\n",
    "% Plot the data and the peaks\n",
    "figure;\n",
    "plot(x, y);  % Plot the original data\n",
    "hold on;\n",
    "plot(locs, pks, 'ro', 'MarkerFaceColor', 'r');  % Plot the peaks\n",
    "title('Peaks in Noisy Sinusoidal Data');\n",
    "xlabel('X');\n",
    "ylabel('Y');\n",
    "legend('Data', 'Peaks');\n",
    "hold off;\n"
   ]
  },
  {
   "cell_type": "code",
   "execution_count": null,
   "id": "bb0ba321-7604-474e-bf60-64f0eed2ecc3",
   "metadata": {},
   "outputs": [],
   "source": []
  }
 ],
 "metadata": {
  "kernelspec": {
   "display_name": "Python 3 (ipykernel)",
   "language": "python",
   "name": "python3"
  },
  "language_info": {
   "codemirror_mode": {
    "name": "ipython",
    "version": 3
   },
   "file_extension": ".py",
   "mimetype": "text/x-python",
   "name": "python",
   "nbconvert_exporter": "python",
   "pygments_lexer": "ipython3",
   "version": "3.12.5"
  }
 },
 "nbformat": 4,
 "nbformat_minor": 5
}
