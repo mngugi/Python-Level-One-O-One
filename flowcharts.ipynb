{
 "cells": [
  {
   "cell_type": "code",
   "execution_count": 12,
   "id": "c7d24c95-798a-4771-90c1-f04f5422bf79",
   "metadata": {},
   "outputs": [
    {
     "ename": "ModuleNotFoundError",
     "evalue": "No module named 'tkinter'",
     "output_type": "error",
     "traceback": [
      "\u001b[0;31m---------------------------------------------------------------------------\u001b[0m",
      "\u001b[0;31mModuleNotFoundError\u001b[0m                       Traceback (most recent call last)",
      "Cell \u001b[0;32mIn[12], line 1\u001b[0m\n\u001b[0;32m----> 1\u001b[0m \u001b[38;5;28;01mfrom\u001b[39;00m \u001b[38;5;21;01mtkinter\u001b[39;00m \u001b[38;5;28;01mimport\u001b[39;00m \u001b[38;5;241m*\u001b[39m\n\u001b[1;32m      2\u001b[0m \u001b[38;5;28;01mimport\u001b[39;00m \u001b[38;5;21;01mPySimpleGUI\u001b[39;00m \u001b[38;5;28;01mas\u001b[39;00m \u001b[38;5;21;01msg\u001b[39;00m\n\u001b[1;32m      4\u001b[0m layout \u001b[38;5;241m=\u001b[39m [\n\u001b[1;32m      5\u001b[0m     [sg\u001b[38;5;241m.\u001b[39mGraph((\u001b[38;5;241m500\u001b[39m, \u001b[38;5;241m500\u001b[39m), (\u001b[38;5;241m0\u001b[39m, \u001b[38;5;241m0\u001b[39m), (\u001b[38;5;241m500\u001b[39m, \u001b[38;5;241m500\u001b[39m), background_color\u001b[38;5;241m=\u001b[39m\u001b[38;5;124m'\u001b[39m\u001b[38;5;124mwhite\u001b[39m\u001b[38;5;124m'\u001b[39m, key\u001b[38;5;241m=\u001b[39m\u001b[38;5;124m'\u001b[39m\u001b[38;5;124mgraph\u001b[39m\u001b[38;5;124m'\u001b[39m)],\n\u001b[1;32m      6\u001b[0m     [sg\u001b[38;5;241m.\u001b[39mButton(\u001b[38;5;124m'\u001b[39m\u001b[38;5;124mDraw\u001b[39m\u001b[38;5;124m'\u001b[39m), sg\u001b[38;5;241m.\u001b[39mButton(\u001b[38;5;124m'\u001b[39m\u001b[38;5;124mExit\u001b[39m\u001b[38;5;124m'\u001b[39m)]\n\u001b[1;32m      7\u001b[0m ]\n",
      "\u001b[0;31mModuleNotFoundError\u001b[0m: No module named 'tkinter'"
     ]
    }
   ],
   "source": [
    "from tkinter import *\n",
    "import PySimpleGUI as sg\n",
    "\n",
    "layout = [\n",
    "    [sg.Graph((500, 500), (0, 0), (500, 500), background_color='white', key='graph')],\n",
    "    [sg.Button('Draw'), sg.Button('Exit')]\n",
    "]\n",
    "\n",
    "window = sg.Window('My Flowchart', layout)\n",
    "\n",
    "while True:\n",
    "    event, values = window.read()\n",
    "    if event in (None, 'Exit'):\n",
    "        break\n",
    "    if event == 'Draw':\n",
    "        graph = window['graph']\n",
    "        graph.draw_line((100, 100), (400, 400))\n",
    "\n",
    "\n",
    "# Define the flowchart elements\n",
    "elements = {\n",
    "    'Start': (100, 500),\n",
    "    'Process 1': (100, 400),\n",
    "    'Process 2': (100, 300),\n",
    "    'Decision': (300, 300),\n",
    "    'Process 3': (500, 300),\n",
    "    'End': (700, 500)\n",
    "}\n",
    "\n",
    "connections = [\n",
    "    ('Start', 'Process 1'),\n",
    "    ('Process 1', 'Process 2'),\n",
    "    ('Process 2', 'Decision'),\n",
    "    ('Decision', 'Process 3', 'yes'),  # This connection has a label of 'yes'\n",
    "    ('Decision', 'End', 'no'),\n",
    "    ('Process 3', 'End')\n",
    "]\n",
    "\n",
    "# ...\n",
    "\n",
    "for connection in connections:\n",
    "    start = elements[connection[0]]\n",
    "    for i in range(1, len(connection)):\n",
    "        end = elements[connection[i]]\n",
    "        graph.draw_line(start, end)\n",
    "        if i < len(connection) - 1:\n",
    "            graph.draw_text(connection[i], ((start[0] + end[0]) / 2, (start[1] + end[1]) / 2), font='Arial 12')\n",
    "        start = end\n",
    "\n",
    "# Draw the flowchart\n",
    "graph = window['graph']\n",
    "for element, position in elements.items():\n",
    "    graph.draw_text(element, position, font='Arial 12')\n",
    "    graph.draw_rectangle((position[0] - 50, position[1] - 20), (position[0] + 50, position[1] + 20))\n",
    "for connection in connections:\n",
    "    start = elements[connection[0]]\n",
    "    for i in range(1, len(connection)):\n",
    "        end = elements[connection[i]]\n",
    "        graph.draw_line(start, end)\n",
    "        if i < len(connection) - 1:\n",
    "            graph.draw_text(connection[i], ((start[0] + end[0]) / 2, (start[1] + end[1]) / 2), font='Arial 12')\n",
    "        start = end\n",
    "\n",
    "# Run the event loop\n",
    "while True:\n",
    "    event, values = window.read()\n",
    "    if event == sg.WINDOW_CLOSED:\n",
    "        break\n",
    "\n",
    "# Close the window\n",
    "window.close()\n"
   ]
  },
  {
   "cell_type": "code",
   "execution_count": null,
   "id": "1d9a7ed2-e4af-4190-a4b8-50d6f622090e",
   "metadata": {},
   "outputs": [],
   "source": []
  }
 ],
 "metadata": {
  "kernelspec": {
   "display_name": "Python 3 (ipykernel)",
   "language": "python",
   "name": "python3"
  },
  "language_info": {
   "codemirror_mode": {
    "name": "ipython",
    "version": 3
   },
   "file_extension": ".py",
   "mimetype": "text/x-python",
   "name": "python",
   "nbconvert_exporter": "python",
   "pygments_lexer": "ipython3",
   "version": "3.11.9"
  }
 },
 "nbformat": 4,
 "nbformat_minor": 5
}
