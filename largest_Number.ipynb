{
 "cells": [
  {
   "cell_type": "code",
   "execution_count": 6,
   "id": "b3b99d89-b7e4-4cdd-9e9a-2144bec2e1b7",
   "metadata": {},
   "outputs": [
    {
     "name": "stdout",
     "output_type": "stream",
     "text": [
      "\n",
      "Algorithm FindLargest(L)\n",
      "    Input: A list L with Length(L) ≥ 1\n",
      "    Output: The largest item in the list\n",
      "\n",
      "    // Initialize the largest variable to the first element of the list\n",
      "    largest = L[0]\n",
      "    \n",
      "    // Iterate through each item in the list starting from the second element\n",
      "    for each item in L[1..Length(L)-1] do\n",
      "        // If the current item is greater than or equal to the largest\n",
      "        if item ≥ largest then\n",
      "            // Update the largest variable to the current item\n",
      "            largest = item\n",
      "    end for\n",
      "\n",
      "    // Return the largest item found\n",
      "    return largest\n",
      "\n",
      "\n",
      "\n"
     ]
    }
   ],
   "source": [
    "algorithm = '''\n",
    "Algorithm FindLargest(L)\n",
    "    Input: A list L with Length(L) ≥ 1\n",
    "    Output: The largest item in the list\n",
    "\n",
    "    // Initialize the largest variable to the first element of the list\n",
    "    largest = L[0]\n",
    "    \n",
    "    // Iterate through each item in the list starting from the second element\n",
    "    for each item in L[1..Length(L)-1] do\n",
    "        // If the current item is greater than or equal to the largest\n",
    "        if item ≥ largest then\n",
    "            // Update the largest variable to the current item\n",
    "            largest = item\n",
    "    end for\n",
    "\n",
    "    // Return the largest item found\n",
    "    return largest\n",
    "\n",
    "\n",
    "'''\n",
    "print(algorithm)"
   ]
  },
  {
   "cell_type": "code",
   "execution_count": 5,
   "id": "e0d8fca2",
   "metadata": {},
   "outputs": [
    {
     "name": "stdout",
     "output_type": "stream",
     "text": [
      "96\n"
     ]
    }
   ],
   "source": [
    "L = [65,78,96,52,36,48]\n",
    "largest = L[0]\n",
    "\n",
    "for item in L[1:]:\n",
    "    if item >= largest:\n",
    "        largest = item\n",
    "print(largest)        "
   ]
  },
  {
   "cell_type": "code",
   "execution_count": null,
   "id": "dffa86dc",
   "metadata": {},
   "outputs": [],
   "source": []
  }
 ],
 "metadata": {
  "kernelspec": {
   "display_name": "Python 3 (ipykernel)",
   "language": "python",
   "name": "python3"
  },
  "language_info": {
   "codemirror_mode": {
    "name": "ipython",
    "version": 3
   },
   "file_extension": ".py",
   "mimetype": "text/x-python",
   "name": "python",
   "nbconvert_exporter": "python",
   "pygments_lexer": "ipython3",
   "version": "3.10.12"
  }
 },
 "nbformat": 4,
 "nbformat_minor": 5
}
