{
 "cells": [
  {
   "cell_type": "code",
   "execution_count": 1,
   "id": "b3b99d89-b7e4-4cdd-9e9a-2144bec2e1b7",
   "metadata": {},
   "outputs": [
    {
     "name": "stdout",
     "output_type": "stream",
     "text": [
      "\n",
      "Algorithm using pseudocode:\n",
      "largest = L0\n",
      "for each item in the list (Length(L) ≥ 1), do\n",
      "if the item ≥ largest, then\n",
      "largest = the item\n",
      "return largest\n",
      "\n",
      "\n"
     ]
    }
   ],
   "source": [
    "algorithm = '''\n",
    "Algorithm using pseudocode:\n",
    "largest = L0\n",
    "for each item in the list (Length(L) ≥ 1), do\n",
    "if the item ≥ largest, then\n",
    "largest = the item\n",
    "return largest\n",
    "\n",
    "'''\n",
    "print(algorithm)"
   ]
  },
  {
   "cell_type": "code",
   "execution_count": 5,
   "id": "f4267ed8",
   "metadata": {},
   "outputs": [
    {
     "name": "stdout",
     "output_type": "stream",
     "text": [
      "96\n"
     ]
    }
   ],
   "source": [
    "L = [65,78,96,52,36,48]\n",
    "largest = L[0]\n",
    "\n",
    "for item in L[1:]:\n",
    "    if item >= largest:\n",
    "        largest = item\n",
    "print(largest)        "
   ]
  },
  {
   "cell_type": "code",
   "execution_count": null,
   "id": "46f292d0",
   "metadata": {},
   "outputs": [],
   "source": []
  }
 ],
 "metadata": {
  "kernelspec": {
   "display_name": "Python 3 (ipykernel)",
   "language": "python",
   "name": "python3"
  },
  "language_info": {
   "codemirror_mode": {
    "name": "ipython",
    "version": 3
   },
   "file_extension": ".py",
   "mimetype": "text/x-python",
   "name": "python",
   "nbconvert_exporter": "python",
   "pygments_lexer": "ipython3",
   "version": "3.10.12"
  }
 },
 "nbformat": 4,
 "nbformat_minor": 5
}
