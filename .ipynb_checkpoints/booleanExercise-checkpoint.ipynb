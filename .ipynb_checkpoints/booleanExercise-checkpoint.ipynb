{
 "cells": [
  {
   "cell_type": "code",
   "execution_count": 1,
   "id": "84243193-a622-4411-85e5-8214f43ed6d9",
   "metadata": {},
   "outputs": [
    {
     "name": "stdout",
     "output_type": "stream",
     "text": [
      "True\n"
     ]
    }
   ],
   "source": [
    "boo = (5>2)and (5<9)\n",
    "print(boo)"
   ]
  },
  {
   "cell_type": "code",
   "execution_count": 2,
   "id": "0abc95a0-c3d4-4b76-817b-7e93d83fbcc9",
   "metadata": {},
   "outputs": [
    {
     "name": "stdout",
     "output_type": "stream",
     "text": [
      "boo is True\n"
     ]
    }
   ],
   "source": [
    "if (5>2)and (5<9):\n",
    "    print(f'boo is {boo}')"
   ]
  },
  {
   "cell_type": "code",
   "execution_count": null,
   "id": "2f9212a2-5765-4977-8682-690ce57e489b",
   "metadata": {},
   "outputs": [],
   "source": []
  }
 ],
 "metadata": {
  "kernelspec": {
   "display_name": "Python 3 (ipykernel)",
   "language": "python",
   "name": "python3"
  },
  "language_info": {
   "codemirror_mode": {
    "name": "ipython",
    "version": 3
   },
   "file_extension": ".py",
   "mimetype": "text/x-python",
   "name": "python",
   "nbconvert_exporter": "python",
   "pygments_lexer": "ipython3",
   "version": "3.13.1"
  }
 },
 "nbformat": 4,
 "nbformat_minor": 5
}
