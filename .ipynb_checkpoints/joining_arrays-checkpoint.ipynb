{
 "cells": [
  {
   "cell_type": "code",
   "execution_count": null,
   "id": "db14b498",
   "metadata": {},
   "outputs": [],
   "source": [
    "'''\n",
    " vertical stacking\n",
    "with the vstack() function, which combines the second array as new rows of the first array. In this case you\n",
    "have a growth of the array in the vertical direction. By contrast, the hstack() function performs horizontal\n",
    "stacking; that is, the second array is added to the columns of the first array.\n",
    "\n",
    "'''\n",
    "\n",
    "import numpy as np\n",
    "arr1= np.arange(5)\n",
    "arr2= np.ones(5)\n",
    "arr3= np.zeros(5)\n",
    "print(\"Arrays \")\n",
    "print(arr1,arr2,arr3)\n",
    "\n",
    "print(\"this is vertical stacking\")\n",
    "a= np.vstack((arr1,arr2,arr3))\n",
    "print(a)\n",
    "\n",
    "print(\" \")\n",
    "print(\"this is horizontal stacking\")\n",
    "b= np.hstack((arr1,arr2,arr3))\n",
    "print(b)\n",
    "\n",
    "print(\" \")\n",
    "print(\"this is row stacking\")\n",
    "c= np.row_stack((arr1,arr2,arr3))\n",
    "print(c)\n",
    "\n",
    "print(\" \")\n",
    "print(\"this is column stacking\")\n",
    "d= np.column_stack((arr1,arr2,arr3))\n",
    "print(d)\n"
   ]
  }
 ],
 "metadata": {},
 "nbformat": 4,
 "nbformat_minor": 5
}
