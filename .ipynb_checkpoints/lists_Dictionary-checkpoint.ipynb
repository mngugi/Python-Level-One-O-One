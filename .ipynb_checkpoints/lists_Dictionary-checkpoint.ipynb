{
 "cells": [
  {
   "cell_type": "code",
   "execution_count": 1,
   "id": "0bb72d4d-576d-44cb-9de4-901fcc1c236e",
   "metadata": {},
   "outputs": [
    {
     "name": "stdout",
     "output_type": "stream",
     "text": [
      "---------Lists----------\n",
      "\n",
      "[10, 21, 23, 36, 25, 14, 78, 96, 85, 74, 41, 52, 63, 30, 20]\n",
      "23\n",
      "96\n",
      "14\n",
      "74\n",
      "---------Sets----------\n",
      "\n",
      "Curtis\n",
      "Penalty\n",
      "Ben\n",
      "Yidah\n",
      "Everton\n",
      "---------Dictionaries----------\n",
      "\n",
      "Ben - Male \n",
      "Penalty - Sports\n",
      "Curtis - Boy\n",
      "Yidah - Man\n",
      "Everton - Club\n"
     ]
    }
   ],
   "source": [
    "# -*- coding: utf-8 -*-\n",
    "\"\"\"\n",
    "Created on Sat Jun 22 14:47:20 2019\n",
    "\n",
    "Author:Mwangi\n",
    "Purpose: Lists ,Sets and Dictionaries in Python\n",
    "- A list is a container which we used to store multiple data\n",
    "- Set is also another python collection data type. Set’s can’t have duplicates.\n",
    "- Dictionary is also a python collection data type. These are unordered, changeable \n",
    "- and indexed. In python dictionaries are written using curly brackets. “{}”. Dictionaries have keys and values.\n",
    "\"\"\"\n",
    "print(\"---------Lists----------\\n\")\n",
    "\n",
    "Lists_Participants = [10,21,23,36,25,14,78,96,85,74,41,52,63,30,20,]\n",
    "print (Lists_Participants)\n",
    "print(Lists_Participants[2])\n",
    "print(Lists_Participants[7])\n",
    "print(Lists_Participants[5])\n",
    "print(Lists_Participants[9])\n",
    "\n",
    "print(\"---------Sets----------\\n\")\n",
    "\n",
    "names = {'Ben','Penalty', 'Curtis', 'Yidah','Curtis', 'Everton', 'Yidah'}\n",
    "for i in names:\n",
    "    print(i)\n",
    "    \n",
    "\n",
    "print(\"---------Dictionaries----------\\n\")\n",
    "\n",
    "names = {'Ben - ':'Male ','Penalty - ':'Sports', 'Curtis - ':'Male', 'Yidah - ':'Player','Curtis - ':'Boy','Everton - ':'Club', 'Yidah - ':'Man'}\n",
    "for i, j  in names.items():\n",
    "    print(i+j)\n",
    "\n",
    "\n"
   ]
  },
  {
   "cell_type": "code",
   "execution_count": 2,
   "id": "7573cc16-22e5-45b6-9441-d2af7bebb492",
   "metadata": {},
   "outputs": [
    {
     "data": {
      "text/plain": [
       "('wangwang',\n",
       " array([0. , 0.2, 0.4, 0.6, 0.8, 1. , 1.2, 1.4, 1.6, 1.8, 2. , 2.2, 2.4,\n",
       "        2.6, 2.8]),\n",
       " 2.5)"
      ]
     },
     "execution_count": 2,
     "metadata": {},
     "output_type": "execute_result"
    }
   ],
   "source": [
    "# tuples are immutable\n",
    "\n",
    "import numpy as np\n",
    "\n",
    "tupl = ('wangwang', np.arange(0,3,0.2), 2.5)\n",
    "tupl"
   ]
  },
  {
   "cell_type": "code",
   "execution_count": 4,
   "id": "e39c3f15-197a-42f4-b499-32a8ced34ec6",
   "metadata": {},
   "outputs": [
    {
     "data": {
      "text/plain": [
       "['wangwang', 'Wangwang-ngo']"
      ]
     },
     "execution_count": 4,
     "metadata": {},
     "output_type": "execute_result"
    }
   ],
   "source": [
    "tupl = ['wangwang']\n",
    "tupl.append('Wangwang-ngo')\n",
    "tupl"
   ]
  },
  {
   "cell_type": "code",
   "execution_count": 8,
   "id": "13448a6f-7f4c-4a07-8825-94b1564703b5",
   "metadata": {},
   "outputs": [
    {
     "data": {
      "text/plain": [
       "['Wangwang-ngo']"
      ]
     },
     "execution_count": 8,
     "metadata": {},
     "output_type": "execute_result"
    }
   ],
   "source": [
    "'''\n",
    "a[start:end]\n",
    "# items start through end-1 a[start:] \n",
    "# items start through the rest of the array a[:end] \n",
    "# items from the beginning through end-1 a[:] \n",
    "# a copy of the whole array\n",
    "\n",
    "'''\n",
    "tupl[-1]\n",
    "tupl[-2:]\n",
    "tupl[:-2]\n",
    "tupl[-1:3]"
   ]
  },
  {
   "cell_type": "markdown",
   "id": "133f84db-5b4e-4313-8b1c-4ed3eebd82f8",
   "metadata": {},
   "source": [
    "Vectors and Arrays\n"
   ]
  },
  {
   "cell_type": "code",
   "execution_count": 9,
   "id": "143b0f0b-fe15-4efb-9363-07e288e68a6e",
   "metadata": {},
   "outputs": [
    {
     "data": {
      "text/plain": [
       "array([0., 0., 0., 0., 0.])"
      ]
     },
     "execution_count": 9,
     "metadata": {},
     "output_type": "execute_result"
    }
   ],
   "source": [
    "import numpy as np\n",
    "\n",
    "np.zeros(5)\n"
   ]
  },
  {
   "cell_type": "markdown",
   "id": "4d3162bd-e782-4484-a971-b5bbbafb7fd4",
   "metadata": {},
   "source": [
    "np.zeros()"
   ]
  },
  {
   "cell_type": "code",
   "execution_count": 11,
   "id": "d403c3d2-6e1b-4b40-b414-df194eaca70d",
   "metadata": {},
   "outputs": [
    {
     "data": {
      "text/plain": [
       "array([[0., 0., 0.],\n",
       "       [0., 0., 0.],\n",
       "       [0., 0., 0.]])"
      ]
     },
     "execution_count": 11,
     "metadata": {},
     "output_type": "execute_result"
    }
   ],
   "source": [
    "np.zeros((3,3))"
   ]
  },
  {
   "cell_type": "markdown",
   "id": "1117a8f5-bb77-4a61-affa-6cae3a1da28b",
   "metadata": {},
   "source": [
    "np.ones()"
   ]
  },
  {
   "cell_type": "markdown",
   "id": "9dc59e2d-ccb8-4e6b-892b-b6731dc86dfe",
   "metadata": {},
   "source": [
    "np.arange()"
   ]
  },
  {
   "cell_type": "code",
   "execution_count": 12,
   "id": "16f43916-41d7-4afc-96ae-d140c80425b4",
   "metadata": {},
   "outputs": [
    {
     "data": {
      "text/plain": [
       "array([0, 1, 2])"
      ]
     },
     "execution_count": 12,
     "metadata": {},
     "output_type": "execute_result"
    }
   ],
   "source": [
    "np.arange(3)"
   ]
  },
  {
   "cell_type": "markdown",
   "id": "2b21f230-a3ed-4214-a9fd-06fb8cfb783a",
   "metadata": {},
   "source": [
    "np.linspace"
   ]
  },
  {
   "cell_type": "code",
   "execution_count": 13,
   "id": "e1967bf5-ef65-4df7-be4b-d27b967ad5f2",
   "metadata": {},
   "outputs": [
    {
     "data": {
      "text/plain": [
       "array([ 0.,  2.,  4.,  6.,  8., 10.])"
      ]
     },
     "execution_count": 13,
     "metadata": {},
     "output_type": "execute_result"
    }
   ],
   "source": [
    "np.linspace(0,10,6)"
   ]
  },
  {
   "cell_type": "markdown",
   "id": "a07c85f2-03ac-4b2f-b0bf-ff280919b6bf",
   "metadata": {},
   "source": [
    "np.array()"
   ]
  },
  {
   "cell_type": "code",
   "execution_count": 15,
   "id": "22bb6c06-f7c3-4f19-8481-7d66f915d3c5",
   "metadata": {},
   "outputs": [
    {
     "data": {
      "text/plain": [
       "array([[1, 2],\n",
       "       [4, 9]])"
      ]
     },
     "execution_count": 15,
     "metadata": {},
     "output_type": "execute_result"
    }
   ],
   "source": [
    "np.array([[1,2], [4,9]])"
   ]
  },
  {
   "cell_type": "code",
   "execution_count": 17,
   "id": "e7b4332d-dbe7-426a-bb0d-ca93f33ac790",
   "metadata": {},
   "outputs": [
    {
     "name": "stdout",
     "output_type": "stream",
     "text": [
      "'''\n",
      "a[start:end]\n",
      "# items start through end-1 a[start:] \n",
      "# items start through the rest of the array a[:end] \n",
      "# items from the beginning through end-1 a[:] \n",
      "# a copy of the whole array\n",
      "\n",
      "'''\n",
      "tupl[-1]\n",
      "tupl = ['wangwang']\n",
      "tupl.append('Wangwangngo')\n",
      "tupl\n",
      "'''\n",
      "a[start:end]\n",
      "# items start through end-1 a[start:] \n",
      "# items start through the rest of the array a[:end] \n",
      "# items from the beginning through end-1 a[:] \n",
      "# a copy of the whole array\n",
      "\n",
      "'''\n",
      "tupl[-1]\n",
      "tupl = ['wangwang']\n",
      "tupl.append('Wangwang-ngo')\n",
      "tupl\n",
      "'''\n",
      "a[start:end]\n",
      "# items start through end-1 a[start:] \n",
      "# items start through the rest of the array a[:end] \n",
      "# items from the beginning through end-1 a[:] \n",
      "# a copy of the whole array\n",
      "\n",
      "'''\n",
      "tupl[-1]\n",
      "'''\n",
      "a[start:end]\n",
      "# items start through end-1 a[start:] \n",
      "# items start through the rest of the array a[:end] \n",
      "# items from the beginning through end-1 a[:] \n",
      "# a copy of the whole array\n",
      "\n",
      "'''\n",
      "tupl[-1]\n",
      "tupl[-2:]\n",
      "'''\n",
      "a[start:end]\n",
      "# items start through end-1 a[start:] \n",
      "# items start through the rest of the array a[:end] \n",
      "# items from the beginning through end-1 a[:] \n",
      "# a copy of the whole array\n",
      "\n",
      "'''\n",
      "tupl[-1]\n",
      "tupl[-2:]\n",
      "tupl[:-2]\n",
      "'''\n",
      "a[start:end]\n",
      "# items start through end-1 a[start:] \n",
      "# items start through the rest of the array a[:end] \n",
      "# items from the beginning through end-1 a[:] \n",
      "# a copy of the whole array\n",
      "\n",
      "'''\n",
      "tupl[-1]\n",
      "tupl[-2:]\n",
      "tupl[:-2]\n",
      "tupl[-1:3]\n",
      "import numpy as np\n",
      "\n",
      "np.zeros(5)\n",
      "np.zeros(3,3)\n",
      "np.zeros((3,3))\n",
      "np.arange(3)\n",
      "np.linspace(0,10,6)\n",
      "np.array([1,2], [4,9])\n",
      "np.array([[1,2], [4,9]])\n",
      "!pip install rpy2\n",
      "%history\n"
     ]
    }
   ],
   "source": [
    "%history"
   ]
  },
  {
   "cell_type": "code",
   "execution_count": 18,
   "id": "8e3c1edd-b5a0-40c0-a875-12b6b5697c1f",
   "metadata": {},
   "outputs": [
    {
     "name": "stdout",
     "output_type": "stream",
     "text": [
      "Using matplotlib backend: module://matplotlib_inline.backend_inline\n",
      "%pylab is deprecated, use %matplotlib inline and import the required libraries.\n",
      "Populating the interactive namespace from numpy and matplotlib\n"
     ]
    }
   ],
   "source": [
    "%pylab"
   ]
  },
  {
   "cell_type": "code",
   "execution_count": 19,
   "id": "ccef2f53-27d5-46c6-9948-232a9be1af20",
   "metadata": {},
   "outputs": [
    {
     "name": "stdout",
     "output_type": "stream",
     "text": [
      "Using matplotlib backend: module://matplotlib_inline.backend_inline\n"
     ]
    }
   ],
   "source": [
    "%matplotlib"
   ]
  },
  {
   "cell_type": "code",
   "execution_count": 20,
   "id": "8fe4cd56-df3f-4f40-887c-4f8e4fd6a894",
   "metadata": {},
   "outputs": [
    {
     "name": "stdout",
     "output_type": "stream",
     "text": [
      "'''\n",
      "a[start:end]\n",
      "# items start through end-1 a[start:] \n",
      "# items start through the rest of the array a[:end] \n",
      "# items from the beginning through end-1 a[:] \n",
      "# a copy of the whole array\n",
      "\n",
      "'''\n",
      "tupl[-1]\n",
      "tupl = ['wangwang']\n",
      "tupl.append('Wangwangngo')\n",
      "tupl\n",
      "'''\n",
      "a[start:end]\n",
      "# items start through end-1 a[start:] \n",
      "# items start through the rest of the array a[:end] \n",
      "# items from the beginning through end-1 a[:] \n",
      "# a copy of the whole array\n",
      "\n",
      "'''\n",
      "tupl[-1]\n",
      "tupl = ['wangwang']\n",
      "tupl.append('Wangwang-ngo')\n",
      "tupl\n",
      "'''\n",
      "a[start:end]\n",
      "# items start through end-1 a[start:] \n",
      "# items start through the rest of the array a[:end] \n",
      "# items from the beginning through end-1 a[:] \n",
      "# a copy of the whole array\n",
      "\n",
      "'''\n",
      "tupl[-1]\n",
      "'''\n",
      "a[start:end]\n",
      "# items start through end-1 a[start:] \n",
      "# items start through the rest of the array a[:end] \n",
      "# items from the beginning through end-1 a[:] \n",
      "# a copy of the whole array\n",
      "\n",
      "'''\n",
      "tupl[-1]\n",
      "tupl[-2:]\n",
      "'''\n",
      "a[start:end]\n",
      "# items start through end-1 a[start:] \n",
      "# items start through the rest of the array a[:end] \n",
      "# items from the beginning through end-1 a[:] \n",
      "# a copy of the whole array\n",
      "\n",
      "'''\n",
      "tupl[-1]\n",
      "tupl[-2:]\n",
      "tupl[:-2]\n",
      "'''\n",
      "a[start:end]\n",
      "# items start through end-1 a[start:] \n",
      "# items start through the rest of the array a[:end] \n",
      "# items from the beginning through end-1 a[:] \n",
      "# a copy of the whole array\n",
      "\n",
      "'''\n",
      "tupl[-1]\n",
      "tupl[-2:]\n",
      "tupl[:-2]\n",
      "tupl[-1:3]\n",
      "import numpy as np\n",
      "\n",
      "np.zeros(5)\n",
      "np.zeros(3,3)\n",
      "np.zeros((3,3))\n",
      "np.arange(3)\n",
      "np.linspace(0,10,6)\n",
      "np.array([1,2], [4,9])\n",
      "np.array([[1,2], [4,9]])\n",
      "!pip install rpy2\n",
      "%history\n",
      "%pylab\n",
      "%matplotlib\n",
      "%hist\n"
     ]
    }
   ],
   "source": [
    "%hist"
   ]
  },
  {
   "cell_type": "markdown",
   "id": "f652a3cb-687f-4721-b72e-a715d10a6b96",
   "metadata": {},
   "source": [
    "Plot a Graph\n"
   ]
  },
  {
   "cell_type": "code",
   "execution_count": null,
   "id": "81caa1df-84c0-4952-90c7-3b9215efdaf3",
   "metadata": {},
   "outputs": [],
   "source": [
    "import numpy as np\n",
    "import matplotlib.pylab as plt\n",
    "\n",
    "# generate the time values\n",
    "t = np.r_[0:10:0.1]\n",
    "\n",
    "freq = 0.5\n",
    "x = np.sin(2*np.pi*freq*t)\n",
    "\n",
    "plt.plot(t,x)\n",
    "\n",
    "plt.xlabel('Time[sec]')\n",
    "plt.ylabel('Values')\n",
    "\n",
    "plt.savefig(r'../Sinewave.png', dpi=200)\n",
    "\n",
    "plt.show()"
   ]
  }
 ],
 "metadata": {
  "kernelspec": {
   "display_name": "Python 3 (ipykernel)",
   "language": "python",
   "name": "python3"
  },
  "language_info": {
   "codemirror_mode": {
    "name": "ipython",
    "version": 3
   },
   "file_extension": ".py",
   "mimetype": "text/x-python",
   "name": "python",
   "nbconvert_exporter": "python",
   "pygments_lexer": "ipython3",
   "version": "3.13.1"
  }
 },
 "nbformat": 4,
 "nbformat_minor": 5
}
