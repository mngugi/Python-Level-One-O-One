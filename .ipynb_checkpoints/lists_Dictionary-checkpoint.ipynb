{
 "cells": [
  {
   "cell_type": "code",
   "execution_count": 1,
   "id": "0bb72d4d-576d-44cb-9de4-901fcc1c236e",
   "metadata": {},
   "outputs": [
    {
     "name": "stdout",
     "output_type": "stream",
     "text": [
      "---------Lists----------\n",
      "\n",
      "[10, 21, 23, 36, 25, 14, 78, 96, 85, 74, 41, 52, 63, 30, 20]\n",
      "23\n",
      "96\n",
      "14\n",
      "74\n",
      "---------Sets----------\n",
      "\n",
      "Curtis\n",
      "Penalty\n",
      "Ben\n",
      "Yidah\n",
      "Everton\n",
      "---------Dictionaries----------\n",
      "\n",
      "Ben - Male \n",
      "Penalty - Sports\n",
      "Curtis - Boy\n",
      "Yidah - Man\n",
      "Everton - Club\n"
     ]
    }
   ],
   "source": [
    "# -*- coding: utf-8 -*-\n",
    "\"\"\"\n",
    "Created on Sat Jun 22 14:47:20 2019\n",
    "\n",
    "Author:Mwangi\n",
    "Purpose: Lists ,Sets and Dictionaries in Python\n",
    "- A list is a container which we used to store multiple data\n",
    "- Set is also another python collection data type. Set’s can’t have duplicates.\n",
    "- Dictionary is also a python collection data type. These are unordered, changeable \n",
    "- and indexed. In python dictionaries are written using curly brackets. “{}”. Dictionaries have keys and values.\n",
    "\"\"\"\n",
    "print(\"---------Lists----------\\n\")\n",
    "\n",
    "Lists_Participants = [10,21,23,36,25,14,78,96,85,74,41,52,63,30,20,]\n",
    "print (Lists_Participants)\n",
    "print(Lists_Participants[2])\n",
    "print(Lists_Participants[7])\n",
    "print(Lists_Participants[5])\n",
    "print(Lists_Participants[9])\n",
    "\n",
    "print(\"---------Sets----------\\n\")\n",
    "\n",
    "names = {'Ben','Penalty', 'Curtis', 'Yidah','Curtis', 'Everton', 'Yidah'}\n",
    "for i in names:\n",
    "    print(i)\n",
    "    \n",
    "\n",
    "print(\"---------Dictionaries----------\\n\")\n",
    "\n",
    "names = {'Ben - ':'Male ','Penalty - ':'Sports', 'Curtis - ':'Male', 'Yidah - ':'Player','Curtis - ':'Boy','Everton - ':'Club', 'Yidah - ':'Man'}\n",
    "for i, j  in names.items():\n",
    "    print(i+j)\n",
    "\n",
    "\n"
   ]
  },
  {
   "cell_type": "code",
   "execution_count": 2,
   "id": "7573cc16-22e5-45b6-9441-d2af7bebb492",
   "metadata": {},
   "outputs": [
    {
     "data": {
      "text/plain": [
       "('wangwang',\n",
       " array([0. , 0.2, 0.4, 0.6, 0.8, 1. , 1.2, 1.4, 1.6, 1.8, 2. , 2.2, 2.4,\n",
       "        2.6, 2.8]),\n",
       " 2.5)"
      ]
     },
     "execution_count": 2,
     "metadata": {},
     "output_type": "execute_result"
    }
   ],
   "source": [
    "# tuples are immutable\n",
    "\n",
    "import numpy as np\n",
    "\n",
    "tupl = ('wangwang', np.arange(0,3,0.2), 2.5)\n",
    "tupl"
   ]
  },
  {
   "cell_type": "code",
   "execution_count": 4,
   "id": "e39c3f15-197a-42f4-b499-32a8ced34ec6",
   "metadata": {},
   "outputs": [
    {
     "data": {
      "text/plain": [
       "['wangwang', 'Wangwang-ngo']"
      ]
     },
     "execution_count": 4,
     "metadata": {},
     "output_type": "execute_result"
    }
   ],
   "source": [
    "tupl = ['wangwang']\n",
    "tupl.append('Wangwang-ngo')\n",
    "tupl"
   ]
  },
  {
   "cell_type": "code",
   "execution_count": 8,
   "id": "13448a6f-7f4c-4a07-8825-94b1564703b5",
   "metadata": {},
   "outputs": [
    {
     "data": {
      "text/plain": [
       "['Wangwang-ngo']"
      ]
     },
     "execution_count": 8,
     "metadata": {},
     "output_type": "execute_result"
    }
   ],
   "source": [
    "'''\n",
    "a[start:end]\n",
    "# items start through end-1 a[start:] \n",
    "# items start through the rest of the array a[:end] \n",
    "# items from the beginning through end-1 a[:] \n",
    "# a copy of the whole array\n",
    "\n",
    "'''\n",
    "tupl[-1]\n",
    "tupl[-2:]\n",
    "tupl[:-2]\n",
    "tupl[-1:3]"
   ]
  },
  {
   "cell_type": "code",
   "execution_count": null,
   "id": "000c829a-c058-485b-96f1-e94da3c4d09e",
   "metadata": {},
   "outputs": [],
   "source": []
  }
 ],
 "metadata": {
  "kernelspec": {
   "display_name": "Python 3 (ipykernel)",
   "language": "python",
   "name": "python3"
  },
  "language_info": {
   "codemirror_mode": {
    "name": "ipython",
    "version": 3
   },
   "file_extension": ".py",
   "mimetype": "text/x-python",
   "name": "python",
   "nbconvert_exporter": "python",
   "pygments_lexer": "ipython3",
   "version": "3.13.1"
  }
 },
 "nbformat": 4,
 "nbformat_minor": 5
}
