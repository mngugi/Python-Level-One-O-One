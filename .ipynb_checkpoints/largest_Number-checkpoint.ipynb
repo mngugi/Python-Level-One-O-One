{
 "cells": [
  {
   "cell_type": "code",
   "execution_count": 1,
   "id": "b3b99d89-b7e4-4cdd-9e9a-2144bec2e1b7",
   "metadata": {},
   "outputs": [
    {
     "name": "stdout",
     "output_type": "stream",
     "text": [
      "\n",
      "Algorithm using pseudocode:\n",
      "largest = L0\n",
      "for each item in the list (Length(L) ≥ 1), do\n",
      "if the item ≥ largest, then\n",
      "largest = the item\n",
      "return largest\n",
      "\n",
      "\n"
     ]
    }
   ],
   "source": [
    "algorithm = '''\n",
    "Algorithm using pseudocode:\n",
    "largest = L0\n",
    "for each item in the list (Length(L) ≥ 1), do\n",
    "if the item ≥ largest, then\n",
    "largest = the item\n",
    "return largest\n",
    "\n",
    "'''\n",
    "print(algorithm)"
   ]
  },
  {
   "cell_type": "code",
   "execution_count": null,
   "id": "ed0df422",
   "metadata": {},
   "outputs": [],
   "source": []
  }
 ],
 "metadata": {
  "kernelspec": {
   "display_name": "Python 3 (ipykernel)",
   "language": "python",
   "name": "python3"
  },
  "language_info": {
   "codemirror_mode": {
    "name": "ipython",
    "version": 3
   },
   "file_extension": ".py",
   "mimetype": "text/x-python",
   "name": "python",
   "nbconvert_exporter": "python",
   "pygments_lexer": "ipython3",
   "version": "3.10.12"
  }
 },
 "nbformat": 4,
 "nbformat_minor": 5
}
