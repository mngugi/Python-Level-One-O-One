{
 "cells": [
  {
   "cell_type": "code",
   "execution_count": 1,
   "id": "814c8c13-9db5-4b49-8469-e78fef04fac2",
   "metadata": {},
   "outputs": [
    {
     "name": "stdin",
     "output_type": "stream",
     "text": [
      "Enter name:  Embolo\n"
     ]
    },
    {
     "name": "stdout",
     "output_type": "stream",
     "text": [
      "Embolo\n"
     ]
    }
   ],
   "source": [
    "name = input(\"Enter name: \")\n",
    "print(name)"
   ]
  },
  {
   "cell_type": "code",
   "execution_count": 2,
   "id": "c557eec9-6b99-4538-aa2c-9107e9126c66",
   "metadata": {},
   "outputs": [
    {
     "name": "stdin",
     "output_type": "stream",
     "text": [
      "Enter value1 12\n"
     ]
    },
    {
     "name": "stdout",
     "output_type": "stream",
     "text": [
      "12\n"
     ]
    },
    {
     "name": "stdin",
     "output_type": "stream",
     "text": [
      "Enter value2 12\n"
     ]
    },
    {
     "name": "stdout",
     "output_type": "stream",
     "text": [
      "12\n"
     ]
    }
   ],
   "source": [
    "val1 = input(\"Enter value1\")\n",
    "print(val1)\n",
    "val2 = input(\"Enter value2\")\n",
    "print(val2)\n",
    "\n"
   ]
  },
  {
   "cell_type": "code",
   "execution_count": 3,
   "id": "187a6413-b861-4526-bcad-addb3e8e76b4",
   "metadata": {},
   "outputs": [
    {
     "data": {
      "text/plain": [
       "'1212'"
      ]
     },
     "execution_count": 3,
     "metadata": {},
     "output_type": "execute_result"
    }
   ],
   "source": [
    "val1 + val2"
   ]
  },
  {
   "cell_type": "code",
   "execution_count": 4,
   "id": "3ad33aa5-3376-4de3-aa1f-38da5af7e473",
   "metadata": {},
   "outputs": [],
   "source": [
    "val3 = val1 + val2"
   ]
  },
  {
   "cell_type": "code",
   "execution_count": 5,
   "id": "7c7cae37-ab23-4237-ba35-645ae44abe40",
   "metadata": {},
   "outputs": [
    {
     "name": "stdout",
     "output_type": "stream",
     "text": [
      "1212\n"
     ]
    }
   ],
   "source": [
    " print(val3)"
   ]
  },
  {
   "cell_type": "code",
   "execution_count": null,
   "id": "03293adf-e2dd-4c89-b159-9ee5c6949b39",
   "metadata": {},
   "outputs": [],
   "source": []
  }
 ],
 "metadata": {
  "kernelspec": {
   "display_name": "Python 3 (ipykernel)",
   "language": "python",
   "name": "python3"
  },
  "language_info": {
   "codemirror_mode": {
    "name": "ipython",
    "version": 3
   },
   "file_extension": ".py",
   "mimetype": "text/x-python",
   "name": "python",
   "nbconvert_exporter": "python",
   "pygments_lexer": "ipython3",
   "version": "3.10.12"
  }
 },
 "nbformat": 4,
 "nbformat_minor": 5
}
