{
 "cells": [
  {
   "cell_type": "markdown",
   "metadata": {
    "colab_type": "text",
    "id": "view-in-github"
   },
   "source": [
    "<a href=\"https://colab.research.google.com/github/mngugi/Python_Collections-/blob/master/01_proofs.ipynb\" target=\"_parent\"><img src=\"https://colab.research.google.com/assets/colab-badge.svg\" alt=\"Open In Colab\"/></a>"
   ]
  },
  {
   "cell_type": "code",
   "execution_count": 2,
   "metadata": {
    "colab": {
     "base_uri": "https://localhost:8080/"
    },
    "id": "fU6stN4e8Y0b",
    "outputId": "7e4f3361-ed5f-48ed-a9e2-11b42bf2484b"
   },
   "outputs": [
    {
     "name": "stdout",
     "output_type": "stream",
     "text": [
      "35\n",
      "=============\n",
      "\n",
      "2096\n",
      "=============\n",
      "\n",
      "154668681955649096041124884744577548760813\n",
      "924258656560243688205157719697353829222271\n",
      "649911522765675194248705923617475328053077\n",
      "332681969572827402286806763757583245401017\n",
      "866435439304866085259708320732310038665986\n"
     ]
    }
   ],
   "source": [
    "import nltk\n",
    "import pyfiglet\n",
    "\n",
    "ascii_art = pyfiglet.figlet_format(\"== Proof\")\n",
    "# Check if a number is equal to 7 times its last digit\n",
    "for n in range(10, 100):\n",
    "    if n == 7 * int(str(n)[1:]):\n",
    "        print(n)\n",
    "\n",
    "print(\"=============\\n\")\n",
    "\n",
    "# Find the smallest power of 2 and 3 whose sum exceeds 10^1000\n",
    "for n in range(4000):\n",
    "    if 2**n + 3**n > 10**1000:\n",
    "        print(n)\n",
    "        break\n",
    "\n",
    "print(\"=============\\n\")\n",
    "\n",
    "# Generate 30 random numbers between 10^6 and 10^7 - 1\n",
    "from random import randint, seed\n",
    "\n",
    "seed(10)\n",
    "\n",
    "for i in range(30):\n",
    "    print(randint(10**6, 10**7 - 1), end='')\n",
    "    if i % 6 == 5:\n",
    "        print()\n"
   ]
  },
  {
   "cell_type": "code",
   "execution_count": null,
   "metadata": {},
   "outputs": [],
   "source": []
  }
 ],
 "metadata": {
  "colab": {
   "authorship_tag": "ABX9TyNAiq2ZhvnowBJPcuKDKcd7",
   "include_colab_link": true,
   "provenance": []
  },
  "kernelspec": {
   "display_name": "Python 3 (ipykernel)",
   "language": "python",
   "name": "python3"
  },
  "language_info": {
   "codemirror_mode": {
    "name": "ipython",
    "version": 3
   },
   "file_extension": ".py",
   "mimetype": "text/x-python",
   "name": "python",
   "nbconvert_exporter": "python",
   "pygments_lexer": "ipython3",
   "version": "3.13.1"
  }
 },
 "nbformat": 4,
 "nbformat_minor": 4
}
