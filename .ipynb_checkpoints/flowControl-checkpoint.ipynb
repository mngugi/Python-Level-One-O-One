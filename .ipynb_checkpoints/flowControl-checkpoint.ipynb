{
 "cells": [
  {
   "cell_type": "code",
   "execution_count": 6,
   "id": "1e4ec6b5-888c-423a-a92f-0dc8f5fbaaa0",
   "metadata": {},
   "outputs": [
    {
     "name": "stdout",
     "output_type": "stream",
     "text": [
      "Go outside\n"
     ]
    }
   ],
   "source": [
    "# a flow control using if\n",
    "r = \"is raining\"\n",
    "\n",
    "if r == \" is raining\":\n",
    "    print(\"Carry an umbrella\")\n",
    "\n",
    "else:\n",
    "    print(\"Go outside\")"
   ]
  },
  {
   "cell_type": "code",
   "execution_count": 8,
   "id": "539c70e5-01ff-4d71-945a-1c7b357cf393",
   "metadata": {},
   "outputs": [
    {
     "name": "stdout",
     "output_type": "stream",
     "text": [
      "Welcome Andingra\n",
      "Wrong Password or Username please try again after 2 minutes\n"
     ]
    }
   ],
   "source": [
    "name = 'Andingra'\n",
    "pasWd = '098uyt#'\n",
    "\n",
    "if name == 'Andingra':\n",
    "    print(f'Welcome {name}')\n",
    "    if pasWd == '098yt#' :\n",
    "        print(f'Access Granted {name}')\n",
    "    else:\n",
    "        print('Wrong Password or Username please try again after 2 minutes')\n"
   ]
  },
  {
   "cell_type": "code",
   "execution_count": 9,
   "id": "4fcfad00-fe79-4031-87eb-353be39872ee",
   "metadata": {},
   "outputs": [
    {
     "ename": "NameError",
     "evalue": "name 'age' is not defined",
     "output_type": "error",
     "traceback": [
      "\u001b[0;31m---------------------------------------------------------------------------\u001b[0m",
      "\u001b[0;31mNameError\u001b[0m                                 Traceback (most recent call last)",
      "Cell \u001b[0;32mIn[9], line 3\u001b[0m\n\u001b[1;32m      1\u001b[0m \u001b[38;5;28;01mif\u001b[39;00m name \u001b[38;5;241m==\u001b[39m \u001b[38;5;124m'\u001b[39m\u001b[38;5;124mAlice\u001b[39m\u001b[38;5;124m'\u001b[39m:\n\u001b[1;32m      2\u001b[0m     \u001b[38;5;28mprint\u001b[39m(\u001b[38;5;124m'\u001b[39m\u001b[38;5;124mHi, Alice.\u001b[39m\u001b[38;5;124m'\u001b[39m)\n\u001b[0;32m----> 3\u001b[0m \u001b[38;5;28;01melif\u001b[39;00m \u001b[43mage\u001b[49m \u001b[38;5;241m<\u001b[39m \u001b[38;5;241m12\u001b[39m:\n\u001b[1;32m      4\u001b[0m     \u001b[38;5;28mprint\u001b[39m(\u001b[38;5;124m'\u001b[39m\u001b[38;5;124mYou are not Alice, kiddo.\u001b[39m\u001b[38;5;124m'\u001b[39m)\n",
      "\u001b[0;31mNameError\u001b[0m: name 'age' is not defined"
     ]
    }
   ],
   "source": [
    "int age\n",
    "if name == 'Alice':\n",
    "    print('Hi, Alice.')\n",
    "elif age < 12:\n",
    "    print('You are not Alice, kiddo.')"
   ]
  },
  {
   "cell_type": "code",
   "execution_count": null,
   "id": "63fdaaa8-0026-4ebd-b2be-9e1abc7dbc10",
   "metadata": {},
   "outputs": [],
   "source": []
  }
 ],
 "metadata": {
  "kernelspec": {
   "display_name": "Python 3 (ipykernel)",
   "language": "python",
   "name": "python3"
  },
  "language_info": {
   "codemirror_mode": {
    "name": "ipython",
    "version": 3
   },
   "file_extension": ".py",
   "mimetype": "text/x-python",
   "name": "python",
   "nbconvert_exporter": "python",
   "pygments_lexer": "ipython3",
   "version": "3.13.1"
  }
 },
 "nbformat": 4,
 "nbformat_minor": 5
}
