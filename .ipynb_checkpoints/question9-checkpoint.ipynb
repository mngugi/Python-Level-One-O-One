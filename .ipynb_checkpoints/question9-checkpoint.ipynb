{
 "cells": [
  {
   "cell_type": "code",
   "execution_count": null,
   "id": "1bc55a6c",
   "metadata": {},
   "outputs": [],
   "source": [
    "def function(n):\n",
    "    result = []\n",
    "    for i in  range(n):\n",
    "        result.append(lambda:i*2)\n",
    "    return result\n",
    "\n",
    "\n",
    "func = function(3)\n",
    "\n",
    "for f in func:\n",
    "    print(f())\n",
    "    break\n",
    "\n"
   ]
  }
 ],
 "metadata": {},
 "nbformat": 4,
 "nbformat_minor": 5
}
