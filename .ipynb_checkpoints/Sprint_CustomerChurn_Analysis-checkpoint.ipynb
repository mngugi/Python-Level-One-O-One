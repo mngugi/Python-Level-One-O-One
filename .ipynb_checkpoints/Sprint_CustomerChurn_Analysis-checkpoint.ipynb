{
 "cells": [
  {
   "cell_type": "code",
   "execution_count": 1,
   "id": "f56f9e51-c1e3-4ec2-aaf6-fbd2f74ed222",
   "metadata": {},
   "outputs": [
    {
     "name": "stdout",
     "output_type": "stream",
     "text": [
      "\n",
      "Week1 Write up : Lux Academy Data Science Bootcamp\n",
      "Project Name : Churn Prediction for Sprint Telecom\n",
      "Author: Peter Mwangi Ngugi\n",
      "\n",
      "Project Objectives:\n",
      "\n",
      "\n",
      "\n",
      "\n"
     ]
    }
   ],
   "source": [
    "a = '''\n",
    "Week1 Write up : Lux Academy Data Science Bootcamp\n",
    "Project Name : Churn Prediction for Sprint Telecom\n",
    "Author: Peter Mwangi Ngugi\n",
    "\n",
    "Project Objectives:\n",
    "\n",
    "\n",
    "\n",
    "'''\n",
    "print(a)"
   ]
  },
  {
   "cell_type": "code",
   "execution_count": null,
   "id": "407802e9-7a26-4489-a410-0b10eb6206f8",
   "metadata": {},
   "outputs": [],
   "source": []
  }
 ],
 "metadata": {
  "kernelspec": {
   "display_name": "Python 3 (ipykernel)",
   "language": "python",
   "name": "python3"
  },
  "language_info": {
   "codemirror_mode": {
    "name": "ipython",
    "version": 3
   },
   "file_extension": ".py",
   "mimetype": "text/x-python",
   "name": "python",
   "nbconvert_exporter": "python",
   "pygments_lexer": "ipython3",
   "version": "3.11.5"
  }
 },
 "nbformat": 4,
 "nbformat_minor": 5
}
