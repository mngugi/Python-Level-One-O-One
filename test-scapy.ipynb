{
 "cells": [
  {
   "cell_type": "code",
   "execution_count": 4,
   "id": "8cc94728-b087-4f5d-a596-46c5af4db4bf",
   "metadata": {},
   "outputs": [
    {
     "ename": "ImportError",
     "evalue": "PyX and its dependencies must be installed",
     "output_type": "error",
     "traceback": [
      "\u001b[0;31m---------------------------------------------------------------------------\u001b[0m",
      "\u001b[0;31mImportError\u001b[0m                               Traceback (most recent call last)",
      "Cell \u001b[0;32mIn[4], line 5\u001b[0m\n\u001b[1;32m      1\u001b[0m \u001b[38;5;28;01mfrom\u001b[39;00m \u001b[38;5;21;01mscapy\u001b[39;00m\u001b[38;5;21;01m.\u001b[39;00m\u001b[38;5;21;01mall\u001b[39;00m \u001b[38;5;28;01mimport\u001b[39;00m \u001b[38;5;241m*\u001b[39m\n\u001b[1;32m      3\u001b[0m pkt \u001b[38;5;241m=\u001b[39m IP()\n\u001b[0;32m----> 5\u001b[0m \u001b[43mpkt\u001b[49m\u001b[38;5;241;43m.\u001b[39;49m\u001b[43mcanvas_dump\u001b[49m\u001b[43m(\u001b[49m\u001b[43m)\u001b[49m\n\u001b[1;32m      7\u001b[0m \u001b[38;5;28mprint\u001b[39m(\u001b[38;5;124m'\u001b[39m\u001b[38;5;124m---------------------------------------\u001b[39m\u001b[38;5;124m'\u001b[39m)\n\u001b[1;32m      8\u001b[0m \u001b[38;5;28mprint\u001b[39m(\u001b[38;5;124m'\u001b[39m\u001b[38;5;124m'\u001b[39m)\n",
      "File \u001b[0;32m~/.local/lib/python3.12/site-packages/scapy/packet.py:787\u001b[0m, in \u001b[0;36mPacket.canvas_dump\u001b[0;34m(self, layer_shift, rebuild)\u001b[0m\n\u001b[1;32m    784\u001b[0m \u001b[38;5;28;01mdef\u001b[39;00m \u001b[38;5;21mcanvas_dump\u001b[39m(\u001b[38;5;28mself\u001b[39m, layer_shift\u001b[38;5;241m=\u001b[39m\u001b[38;5;241m0\u001b[39m, rebuild\u001b[38;5;241m=\u001b[39m\u001b[38;5;241m1\u001b[39m):\n\u001b[1;32m    785\u001b[0m     \u001b[38;5;66;03m# type: (int, int) -> pyx.canvas.canvas\u001b[39;00m\n\u001b[1;32m    786\u001b[0m     \u001b[38;5;28;01mif\u001b[39;00m PYX \u001b[38;5;241m==\u001b[39m \u001b[38;5;241m0\u001b[39m:\n\u001b[0;32m--> 787\u001b[0m         \u001b[38;5;28;01mraise\u001b[39;00m \u001b[38;5;167;01mImportError\u001b[39;00m(\u001b[38;5;124m\"\u001b[39m\u001b[38;5;124mPyX and its dependencies must be installed\u001b[39m\u001b[38;5;124m\"\u001b[39m)\n\u001b[1;32m    788\u001b[0m     canvas \u001b[38;5;241m=\u001b[39m pyx\u001b[38;5;241m.\u001b[39mcanvas\u001b[38;5;241m.\u001b[39mcanvas()\n\u001b[1;32m    789\u001b[0m     \u001b[38;5;28;01mif\u001b[39;00m rebuild:\n",
      "\u001b[0;31mImportError\u001b[0m: PyX and its dependencies must be installed"
     ]
    }
   ],
   "source": [
    "from scapy.all import *\n",
    "\n",
    "pkt = IP()\n",
    "\n",
    "pkt.canvas_dump()\n",
    "\n",
    "print('---------------------------------------')\n",
    "print('')\n",
    "\n",
    "\n",
    "packets = rdpcap('/home/sci-laptop/PyCode/scapy/sonosonePOWER_1.pcap')\n",
    "packets.summary()  \n",
    "\n",
    "ans, unans = traceroute('www.secdev.org', maxttl=15)\n",
    "pkt.canvas_dump()\n",
    "ans.world_trace()\n"
   ]
  },
  {
   "cell_type": "code",
   "execution_count": 5,
   "id": "e6fd80e3-b062-4471-a1ba-e9ad754502ea",
   "metadata": {},
   "outputs": [
    {
     "name": "stdout",
     "output_type": "stream",
     "text": [
      "Defaulting to user installation because normal site-packages is not writeable\n",
      "Requirement already satisfied: PyX in /home/vector64/.local/lib/python3.12/site-packages (0.16)\n"
     ]
    }
   ],
   "source": [
    "!pip3 install PyX\n"
   ]
  },
  {
   "cell_type": "code",
   "execution_count": 6,
   "id": "f30503f0-2ace-495d-a87a-b3bf6726b579",
   "metadata": {},
   "outputs": [
    {
     "name": "stdout",
     "output_type": "stream",
     "text": [
      "Requirement already satisfied: PyX in /home/vector64/.local/lib/python3.12/site-packages (0.16)\n"
     ]
    }
   ],
   "source": [
    "!pip3 install --user PyX\n"
   ]
  }
 ],
 "metadata": {
  "kernelspec": {
   "display_name": "Python 3 (ipykernel)",
   "language": "python",
   "name": "python3"
  },
  "language_info": {
   "codemirror_mode": {
    "name": "ipython",
    "version": 3
   },
   "file_extension": ".py",
   "mimetype": "text/x-python",
   "name": "python",
   "nbconvert_exporter": "python",
   "pygments_lexer": "ipython3",
   "version": "3.12.5"
  }
 },
 "nbformat": 4,
 "nbformat_minor": 5
}
