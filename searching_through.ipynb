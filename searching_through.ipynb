{
 "cells": [
  {
   "cell_type": "code",
   "execution_count": 2,
   "metadata": {},
   "outputs": [
    {
     "name": "stdout",
     "output_type": "stream",
     "text": [
      "2\n",
      "None\n"
     ]
    }
   ],
   "source": [
    "def binary_search(list, item):\n",
    "    low = 0\n",
    "    high = len(list) - 1  # Adjust high to be the index of the last element\n",
    "\n",
    "    while low <= high:\n",
    "        mid = (low + high) // 2  # Calculate the midpoint using floor division\n",
    "        guess = list[mid]  # Get the value of the middle element\n",
    "        \n",
    "        if guess == item:\n",
    "            return mid  # Return the index of the item if found\n",
    "        elif guess > item:\n",
    "            high = mid - 1\n",
    "        else:\n",
    "            low = mid + 1\n",
    "    return None  # Return None if the item is not found\n",
    "\n",
    "search_list = [1, 2, 3, 4, 9, 4, 5, 6, 4, 2, 1]\n",
    "\n",
    "print(binary_search(search_list, 3))  # Output: 2\n",
    "print(binary_search(search_list, -1))  # Output: None\n"
   ]
  }
 ],
 "metadata": {
  "kernelspec": {
   "display_name": "Python 3",
   "language": "python",
   "name": "python3"
  },
  "language_info": {
   "codemirror_mode": {
    "name": "ipython",
    "version": 3
   },
   "file_extension": ".py",
   "mimetype": "text/x-python",
   "name": "python",
   "nbconvert_exporter": "python",
   "pygments_lexer": "ipython3",
   "version": "3.11.9"
  }
 },
 "nbformat": 4,
 "nbformat_minor": 2
}
