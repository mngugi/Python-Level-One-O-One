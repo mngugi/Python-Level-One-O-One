{
 "cells": [
  {
   "cell_type": "code",
   "execution_count": null,
   "metadata": {},
   "outputs": [],
   "source": [
    "def binary_search(list, item):\n",
    "    low = 0\n",
    "    high = len(list)\n",
    "\n",
    "    while low <= high:\n",
    "        mid = (low+high)\n",
    "        guess = list[mid]\n",
    "        \n",
    "        if guess > item:\n",
    "            high = mid -1\n",
    "        else:\n",
    "            low = mid + 1\n",
    "    return None\n",
    "\n",
    "search_list = [1,2,3,4,9,4,5,6,4,2,1]\n",
    "\n",
    "\n",
    "print (binary_search(search_list, 5))\n",
    "print (binary_search(search_list, 5))\n",
    "\n",
    "\n"
   ]
  }
 ],
 "metadata": {
  "language_info": {
   "name": "python"
  }
 },
 "nbformat": 4,
 "nbformat_minor": 2
}
