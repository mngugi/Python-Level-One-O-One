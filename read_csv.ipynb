{
 "cells": [
  {
   "cell_type": "code",
   "execution_count": 13,
   "id": "b9cc4f91-0062-49cd-9ff8-1ae60da12a2b",
   "metadata": {},
   "outputs": [
    {
     "name": "stdout",
     "output_type": "stream",
     "text": [
      "<module 'pandas' from '/home/sci-laptop/anaconda3/lib/python3.9/site-packages/pandas/__init__.py'>\n",
      "    Unnamed: 0  L4_tcp  L4_udp  L7_http  L7_https  port_class_src  \\\n",
      "0            0       1       0        0         1               1   \n",
      "1            1       1       0        0         1               3   \n",
      "2            2       1       0        0         1               1   \n",
      "3            3       1       0        0         1               3   \n",
      "4            4       1       0        0         1               1   \n",
      "..         ...     ...     ...      ...       ...             ...   \n",
      "76          76       1       0        0         1               3   \n",
      "77          77       1       0        0         1               1   \n",
      "78          78       1       0        0         1               1   \n",
      "79          79       1       0        0         1               3   \n",
      "80          80       1       0        0         1               3   \n",
      "\n",
      "    port_class_dst  pck_size  ip_dst_new  ethernet_frame_size   ...  \\\n",
      "0                3       412  3232270669                   446  ...   \n",
      "1                1        53   911297469                    87  ...   \n",
      "2                3       385  3232270669                   419  ...   \n",
      "3                1        53   911297469                    87  ...   \n",
      "4                3        20  3232270669                    54  ...   \n",
      "..             ...       ...         ...                   ...  ...   \n",
      "76               1        20   916759411                    54  ...   \n",
      "77               3        51  3232270669                    85  ...   \n",
      "78               3        20  3232270669                    54  ...   \n",
      "79               1        20   916759411                    54  ...   \n",
      "80               1        20   916759411                    54  ...   \n",
      "\n",
      "       average    skew_e     kurt_e          var_e    q3_e    q1_e   iqr_e  \\\n",
      "0   412.000000  0.000000  -3.000000       0.000000  412.00  412.00    0.00   \n",
      "1   232.500000  0.000000  -2.000000   32220.250000  322.25  142.75  179.50   \n",
      "2   283.333333 -0.692626  -1.500000   26648.222222  398.50  219.00  179.50   \n",
      "3   225.750000  0.009119  -1.987851   29933.687500  391.75   53.00  338.75   \n",
      "4   184.600000  0.400763  -1.808827   30720.240000  385.00   53.00  332.00   \n",
      "..         ...       ...        ...            ...     ...     ...     ...   \n",
      "76  154.000000  3.549566  11.096032  113631.058824   95.00   20.00   75.00   \n",
      "77  148.277778  3.674797  12.026386  107874.867284   95.00   20.00   75.00   \n",
      "78  141.526316  3.790235  12.927137  103017.722992   95.00   20.00   75.00   \n",
      "79  135.450000  3.902429  13.828604   98568.347500   95.00   20.00   75.00   \n",
      "80   20.000000  0.000000  -3.000000       0.000000   20.00   20.00    0.00   \n",
      "\n",
      "    epoch_timestamp  inter_arrival_time  time_since_previously_displayed_frame  \n",
      "0      1.633441e+09            0.000000                               0.000000  \n",
      "1      1.633441e+09            0.013303                               0.013303  \n",
      "2      1.633441e+09            0.043204                               0.056507  \n",
      "3      1.633441e+09            0.010916                               0.067423  \n",
      "4      1.633441e+09            0.069090                               0.136513  \n",
      "..              ...                 ...                                    ...  \n",
      "76     1.633441e+09            0.000000                               1.892790  \n",
      "77     1.633441e+09            0.029347                               1.922137  \n",
      "78     1.633441e+09            0.000056                               1.922193  \n",
      "79     1.633441e+09            0.005517                               1.927710  \n",
      "80     1.633441e+09            0.000000                               1.927710  \n",
      "\n",
      "[81 rows x 49 columns]\n"
     ]
    }
   ],
   "source": [
    "import matplotlib.pyplot as plt\n",
    "import pandas as pd\n",
    "import pylab as pl\n",
    "import numpy as np\n",
    "from tabulate import tabulate\n",
    "pd.read_table('amazonplugALEXAOFF_1.csv', sep=',')\n",
    "print(pd)\n",
    "\n",
    "d=pd.read_table('amazonplugALEXAOFF_1.csv', sep=',')\n",
    "#pd.shape\n",
    "#d.columns\n",
    "\n",
    "print(d)\n",
    "\n",
    "\n",
    "\n",
    "\n",
    "\n",
    "\n"
   ]
  },
  {
   "cell_type": "code",
   "execution_count": null,
   "id": "32fde831-ce75-48dd-90b2-5504b21142d9",
   "metadata": {},
   "outputs": [],
   "source": []
  }
 ],
 "metadata": {
  "kernelspec": {
   "display_name": "Python 3 (ipykernel)",
   "language": "python",
   "name": "python3"
  },
  "language_info": {
   "codemirror_mode": {
    "name": "ipython",
    "version": 3
   },
   "file_extension": ".py",
   "mimetype": "text/x-python",
   "name": "python",
   "nbconvert_exporter": "python",
   "pygments_lexer": "ipython3",
   "version": "3.9.13"
  }
 },
 "nbformat": 4,
 "nbformat_minor": 5
}
