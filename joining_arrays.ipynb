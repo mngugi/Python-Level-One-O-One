{
 "cells": [
  {
   "cell_type": "code",
   "execution_count": 1,
   "id": "db14b498",
   "metadata": {},
   "outputs": [
    {
     "name": "stdout",
     "output_type": "stream",
     "text": [
      "Arrays \n",
      "[0 1 2 3 4] [1. 1. 1. 1. 1.] [0. 0. 0. 0. 0.]\n",
      "this is vertical stacking\n",
      "[[0. 1. 2. 3. 4.]\n",
      " [1. 1. 1. 1. 1.]\n",
      " [0. 0. 0. 0. 0.]]\n",
      " \n",
      "this is horizontal stacking\n",
      "[0. 1. 2. 3. 4. 1. 1. 1. 1. 1. 0. 0. 0. 0. 0.]\n",
      " \n",
      "this is row stacking\n",
      "[[0. 1. 2. 3. 4.]\n",
      " [1. 1. 1. 1. 1.]\n",
      " [0. 0. 0. 0. 0.]]\n",
      " \n",
      "this is column stacking\n",
      "[[0. 1. 0.]\n",
      " [1. 1. 0.]\n",
      " [2. 1. 0.]\n",
      " [3. 1. 0.]\n",
      " [4. 1. 0.]]\n"
     ]
    }
   ],
   "source": [
    "'''\n",
    " vertical stacking\n",
    "with the vstack() function, which combines the second array as new rows of the first array. In this case you\n",
    "have a growth of the array in the vertical direction. By contrast, the hstack() function performs horizontal\n",
    "stacking; that is, the second array is added to the columns of the first array.\n",
    "\n",
    "'''\n",
    "\n",
    "import numpy as np\n",
    "arr1= np.arange(5)\n",
    "arr2= np.ones(5)\n",
    "arr3= np.zeros(5)\n",
    "print(\"Arrays \")\n",
    "print(arr1,arr2,arr3)\n",
    "\n",
    "print(\"this is vertical stacking\")\n",
    "a= np.vstack((arr1,arr2,arr3))\n",
    "print(a)\n",
    "\n",
    "print(\" \")\n",
    "print(\"this is horizontal stacking\")\n",
    "b= np.hstack((arr1,arr2,arr3))\n",
    "print(b)\n",
    "\n",
    "print(\" \")\n",
    "print(\"this is row stacking\")\n",
    "c= np.row_stack((arr1,arr2,arr3))\n",
    "print(c)\n",
    "\n",
    "print(\" \")\n",
    "print(\"this is column stacking\")\n",
    "d= np.column_stack((arr1,arr2,arr3))\n",
    "print(d)\n"
   ]
  },
  {
   "cell_type": "code",
   "execution_count": null,
   "id": "276bda75-2c05-4207-8eb7-653ed0c7fe2a",
   "metadata": {},
   "outputs": [],
   "source": []
  }
 ],
 "metadata": {
  "kernelspec": {
   "display_name": "Python 3 (ipykernel)",
   "language": "python",
   "name": "python3"
  },
  "language_info": {
   "codemirror_mode": {
    "name": "ipython",
    "version": 3
   },
   "file_extension": ".py",
   "mimetype": "text/x-python",
   "name": "python",
   "nbconvert_exporter": "python",
   "pygments_lexer": "ipython3",
   "version": "3.11.6"
  }
 },
 "nbformat": 4,
 "nbformat_minor": 5
}
