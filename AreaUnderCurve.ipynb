{
 "cells": [
  {
   "cell_type": "code",
   "execution_count": 1,
   "id": "75d8446c-0470-486c-ab46-1fda15effdb8",
   "metadata": {},
   "outputs": [
    {
     "name": "stdout",
     "output_type": "stream",
     "text": [
      "Area under the curve from 0 to 2: 2.666666666666667\n",
      "Estimated error in the result: 2.960594732333751e-14\n"
     ]
    }
   ],
   "source": [
    "import numpy as np\n",
    "from scipy.integrate import quad\n",
    "\n",
    "# Define the function to integrate\n",
    "def f(x):\n",
    "    return x**2\n",
    "\n",
    "# Define the limits of integration\n",
    "a = 0  # Lower limit\n",
    "b = 2  # Upper limit\n",
    "\n",
    "# Perform the integration\n",
    "area, error = quad(f, a, b)\n",
    "\n",
    "# Print the result\n",
    "print(f\"Area under the curve from {a} to {b}: {area}\")\n",
    "print(f\"Estimated error in the result: {error}\")\n"
   ]
  },
  {
   "cell_type": "code",
   "execution_count": 2,
   "id": "30cfe8eb-d457-494e-8cc5-51a8b275b96f",
   "metadata": {},
   "outputs": [
    {
     "ename": "ModuleNotFoundError",
     "evalue": "No module named 'cudaq'",
     "output_type": "error",
     "traceback": [
      "\u001b[0;31m---------------------------------------------------------------------------\u001b[0m",
      "\u001b[0;31mModuleNotFoundError\u001b[0m                       Traceback (most recent call last)",
      "Cell \u001b[0;32mIn[2], line 1\u001b[0m\n\u001b[0;32m----> 1\u001b[0m \u001b[38;5;28;01mimport\u001b[39;00m \u001b[38;5;21;01mcudaq\u001b[39;00m\n\u001b[1;32m      4\u001b[0m \u001b[38;5;66;03m# Define our kernel.\u001b[39;00m\n\u001b[1;32m      5\u001b[0m \u001b[38;5;129m@cudaq\u001b[39m\u001b[38;5;241m.\u001b[39mkernel\n\u001b[1;32m      6\u001b[0m \u001b[38;5;28;01mdef\u001b[39;00m \u001b[38;5;21mkernel\u001b[39m(qubit_count: \u001b[38;5;28mint\u001b[39m):\n\u001b[1;32m      7\u001b[0m     \u001b[38;5;66;03m# Allocate our qubits.\u001b[39;00m\n",
      "\u001b[0;31mModuleNotFoundError\u001b[0m: No module named 'cudaq'"
     ]
    }
   ],
   "source": [
    "import cudaq\n",
    "\n",
    "\n",
    "# Define our kernel.\n",
    "@cudaq.kernel\n",
    "def kernel(qubit_count: int):\n",
    "    # Allocate our qubits.\n",
    "    qvector = cudaq.qvector(qubit_count)\n",
    "    # Place the first qubit in the superposition state.\n",
    "    h(qvector[0])\n",
    "    # Loop through the allocated qubits and apply controlled-X,\n",
    "    # or CNOT, operations between them.\n",
    "    for qubit in range(qubit_count - 1):\n",
    "        x.ctrl(qvector[qubit], qvector[qubit + 1])\n",
    "    # Measure the qubits.\n",
    "    mz(qvector)"
   ]
  },
  {
   "cell_type": "code",
   "execution_count": 3,
   "id": "951a3fc8-ed9d-4bd4-a818-d8e49077e63d",
   "metadata": {},
   "outputs": [
    {
     "ename": "ModuleNotFoundError",
     "evalue": "No module named 'sklearn'",
     "output_type": "error",
     "traceback": [
      "\u001b[0;31m---------------------------------------------------------------------------\u001b[0m",
      "\u001b[0;31mModuleNotFoundError\u001b[0m                       Traceback (most recent call last)",
      "Cell \u001b[0;32mIn[3], line 2\u001b[0m\n\u001b[1;32m      1\u001b[0m \u001b[38;5;28;01mimport\u001b[39;00m \u001b[38;5;21;01mnumpy\u001b[39;00m \u001b[38;5;28;01mas\u001b[39;00m \u001b[38;5;21;01mnp\u001b[39;00m\n\u001b[0;32m----> 2\u001b[0m \u001b[38;5;28;01mfrom\u001b[39;00m \u001b[38;5;21;01msklearn\u001b[39;00m\u001b[38;5;21;01m.\u001b[39;00m\u001b[38;5;21;01mlinear_model\u001b[39;00m \u001b[38;5;28;01mimport\u001b[39;00m LinearRegression\n\u001b[1;32m      4\u001b[0m \u001b[38;5;66;03m# Data\u001b[39;00m\n\u001b[1;32m      5\u001b[0m input_1 \u001b[38;5;241m=\u001b[39m np\u001b[38;5;241m.\u001b[39marray([\u001b[38;5;241m130\u001b[39m, \u001b[38;5;241m250\u001b[39m, \u001b[38;5;241m190\u001b[39m, \u001b[38;5;241m300\u001b[39m, \u001b[38;5;241m210\u001b[39m, \u001b[38;5;241m220\u001b[39m, \u001b[38;5;241m170\u001b[39m])\u001b[38;5;241m.\u001b[39mreshape(\u001b[38;5;241m-\u001b[39m\u001b[38;5;241m1\u001b[39m, \u001b[38;5;241m1\u001b[39m)\n",
      "\u001b[0;31mModuleNotFoundError\u001b[0m: No module named 'sklearn'"
     ]
    }
   ],
   "source": [
    "import numpy as np\n",
    "from sklearn.linear_model import LinearRegression\n",
    "\n",
    "# Data\n",
    "input_1 = np.array([130, 250, 190, 300, 210, 220, 170]).reshape(-1, 1)\n",
    "input_2 = np.array([1900, 2600, 2200, 2900, 2400, 2300, 2100]).reshape(-1, 1)\n",
    "output = np.array([16.3, 10.2, 11.1, 7.1, 12.1, 13.2, 14.2])\n",
    "\n",
    "# Combine inputs into a single matrix\n",
    "X = np.hstack((input_1, input_2))\n",
    "\n",
    "# Create and fit the model\n",
    "model = LinearRegression()\n",
    "model.fit(X, output)\n",
    "\n",
    "# Get the coefficients and bias\n",
    "coefficients = model.coef_\n",
    "bias = model.intercept_\n",
    "\n",
    "coefficients, bias\n"
   ]
  },
  {
   "cell_type": "code",
   "execution_count": null,
   "id": "7dfdf95d-7d08-400f-b7c2-eefee5019aa6",
   "metadata": {},
   "outputs": [],
   "source": []
  }
 ],
 "metadata": {
  "interpreter": {
   "hash": "916dbcbb3f70747c44a77c7bcd40155683ae19c65e1c03b4aa3499c5328201f1"
  },
  "kernelspec": {
   "display_name": "Python 3.12.3 64-bit",
   "language": "python",
   "name": "python3"
  },
  "language_info": {
   "codemirror_mode": {
    "name": "ipython",
    "version": 3
   },
   "file_extension": ".py",
   "mimetype": "text/x-python",
   "name": "python",
   "nbconvert_exporter": "python",
   "pygments_lexer": "ipython3",
   "version": "3.12.3"
  }
 },
 "nbformat": 4,
 "nbformat_minor": 5
}
