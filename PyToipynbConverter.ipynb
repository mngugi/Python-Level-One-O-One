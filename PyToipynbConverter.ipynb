{
 "cells": [
  {
   "cell_type": "code",
   "execution_count": 7,
   "id": "deb1cfd8-691c-4dd6-8a42-a7dca18f576c",
   "metadata": {},
   "outputs": [
    {
     "name": "stdout",
     "output_type": "stream",
     "text": [
      "Converted joining_arrays.py to joining_arrays.ipynb\n"
     ]
    }
   ],
   "source": [
    "import nbformat\n",
    "\n",
    "# Define the name of your Python script and IPython Notebook\n",
    "python_script_filename = 'joining_arrays.py'\n",
    "ipynb_output_filename = 'joining_arrays.ipynb'\n",
    "\n",
    "# Read the content of your Python script\n",
    "with open(python_script_filename, 'r') as python_script:\n",
    "    script_content = python_script.read()\n",
    "\n",
    "# Create a new Jupyter Notebook\n",
    "nb = nbformat.v4.new_notebook()\n",
    "\n",
    "# Add a code cell with the content of your Python script\n",
    "code_cell = nbformat.v4.new_code_cell(script_content)\n",
    "nb.cells.append(code_cell)\n",
    "\n",
    "# Save the Jupyter Notebook to a file\n",
    "with open(ipynb_output_filename, 'w') as ipynb_file:\n",
    "    nbformat.write(nb, ipynb_file)\n",
    "\n",
    "print(f\"Converted {python_script_filename} to {ipynb_output_filename}\")\n",
    "\n"
   ]
  },
  {
   "cell_type": "code",
   "execution_count": null,
   "id": "50a89bdc-d890-40f7-a55d-8134746f2176",
   "metadata": {},
   "outputs": [],
   "source": []
  }
 ],
 "metadata": {
  "kernelspec": {
   "display_name": "Python 3 (ipykernel)",
   "language": "python",
   "name": "python3"
  },
  "language_info": {
   "codemirror_mode": {
    "name": "ipython",
    "version": 3
   },
   "file_extension": ".py",
   "mimetype": "text/x-python",
   "name": "python",
   "nbconvert_exporter": "python",
   "pygments_lexer": "ipython3",
   "version": "3.11.6"
  }
 },
 "nbformat": 4,
 "nbformat_minor": 5
}
