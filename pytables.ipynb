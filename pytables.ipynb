{
 "cells": [
  {
   "cell_type": "code",
   "execution_count": 2,
   "id": "a5d62b77-1062-4b27-a95d-dabadd519a21",
   "metadata": {},
   "outputs": [
    {
     "data": {
      "text/html": [
       "<pre style=\"white-space:pre;overflow-x:auto;line-height:normal;font-family:Menlo,'DejaVu Sans Mono',consolas,'Courier New',monospace\"><span style=\"font-style: italic\">              Sample Table              </span>\n",
       "┏━━━━━━━━━━━━━┳━━━━━━━━━━━━━┳━━━━━━━━━━┓\n",
       "┃<span style=\"font-weight: bold\"> Column 1    </span>┃<span style=\"font-weight: bold\"> Column 2    </span>┃<span style=\"font-weight: bold\"> Column 3 </span>┃\n",
       "┡━━━━━━━━━━━━━╇━━━━━━━━━━━━━╇━━━━━━━━━━┩\n",
       "│<span style=\"color: #008080; text-decoration-color: #008080\"> Row 1 Col 1 </span>│<span style=\"color: #800080; text-decoration-color: #800080\"> Row 1 Col 2 </span>│       10 │\n",
       "│<span style=\"color: #008080; text-decoration-color: #008080\"> Row 2 Col 1 </span>│<span style=\"color: #800080; text-decoration-color: #800080\"> Row 2 Col 2 </span>│       20 │\n",
       "└─────────────┴─────────────┴──────────┘\n",
       "</pre>\n"
      ],
      "text/plain": [
       "\u001b[3m              Sample Table              \u001b[0m\n",
       "┏━━━━━━━━━━━━━┳━━━━━━━━━━━━━┳━━━━━━━━━━┓\n",
       "┃\u001b[1m \u001b[0m\u001b[1mColumn 1   \u001b[0m\u001b[1m \u001b[0m┃\u001b[1m \u001b[0m\u001b[1mColumn 2   \u001b[0m\u001b[1m \u001b[0m┃\u001b[1m \u001b[0m\u001b[1mColumn 3\u001b[0m\u001b[1m \u001b[0m┃\n",
       "┡━━━━━━━━━━━━━╇━━━━━━━━━━━━━╇━━━━━━━━━━┩\n",
       "│\u001b[36m \u001b[0m\u001b[36mRow 1 Col 1\u001b[0m\u001b[36m \u001b[0m│\u001b[35m \u001b[0m\u001b[35mRow 1 Col 2\u001b[0m\u001b[35m \u001b[0m│       10 │\n",
       "│\u001b[36m \u001b[0m\u001b[36mRow 2 Col 1\u001b[0m\u001b[36m \u001b[0m│\u001b[35m \u001b[0m\u001b[35mRow 2 Col 2\u001b[0m\u001b[35m \u001b[0m│       20 │\n",
       "└─────────────┴─────────────┴──────────┘\n"
      ]
     },
     "metadata": {},
     "output_type": "display_data"
    }
   ],
   "source": [
    "from rich.table import Table\n",
    "from rich.console import Console\n",
    "\n",
    "# Create a sample table\n",
    "table = Table(title=\"Sample Table\")\n",
    "\n",
    "table.add_column(\"Column 1\", style=\"cyan\")\n",
    "table.add_column(\"Column 2\", style=\"magenta\")\n",
    "table.add_column(\"Column 3\", justify=\"right\")\n",
    "\n",
    "table.add_row(\"Row 1 Col 1\", \"Row 1 Col 2\", \"10\")\n",
    "table.add_row(\"Row 2 Col 1\", \"Row 2 Col 2\", \"20\")\n",
    "\n",
    "console = Console()\n",
    "console.print(table)\n"
   ]
  },
  {
   "cell_type": "code",
   "execution_count": null,
   "id": "cb8e7ecd-55be-4426-a4b8-485173a3e9d0",
   "metadata": {},
   "outputs": [],
   "source": []
  }
 ],
 "metadata": {
  "kernelspec": {
   "display_name": "Python 3 (ipykernel)",
   "language": "python",
   "name": "python3"
  },
  "language_info": {
   "codemirror_mode": {
    "name": "ipython",
    "version": 3
   },
   "file_extension": ".py",
   "mimetype": "text/x-python",
   "name": "python",
   "nbconvert_exporter": "python",
   "pygments_lexer": "ipython3",
   "version": "3.13.1"
  }
 },
 "nbformat": 4,
 "nbformat_minor": 5
}
