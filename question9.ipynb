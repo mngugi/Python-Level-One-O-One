{
 "cells": [
  {
   "cell_type": "code",
   "execution_count": 1,
   "id": "1bc55a6c",
   "metadata": {},
   "outputs": [
    {
     "name": "stdout",
     "output_type": "stream",
     "text": [
      "4\n"
     ]
    }
   ],
   "source": [
    "def function(n):\n",
    "    result = []\n",
    "    for i in  range(n):\n",
    "        result.append(lambda:i*2)\n",
    "    return result\n",
    "\n",
    "\n",
    "func = function(3)\n",
    "\n",
    "for f in func:\n",
    "    print(f())\n",
    "    break\n",
    "\n"
   ]
  },
  {
   "cell_type": "code",
   "execution_count": null,
   "id": "f0fe7504-35ea-4f32-b25d-a4f6ff052153",
   "metadata": {},
   "outputs": [],
   "source": []
  }
 ],
 "metadata": {
  "kernelspec": {
   "display_name": "Python 3 (ipykernel)",
   "language": "python",
   "name": "python3"
  },
  "language_info": {
   "codemirror_mode": {
    "name": "ipython",
    "version": 3
   },
   "file_extension": ".py",
   "mimetype": "text/x-python",
   "name": "python",
   "nbconvert_exporter": "python",
   "pygments_lexer": "ipython3",
   "version": "3.11.5"
  }
 },
 "nbformat": 4,
 "nbformat_minor": 5
}
