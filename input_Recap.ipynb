{
 "cells": [
  {
   "cell_type": "code",
   "execution_count": null,
   "id": "985026b8-21d0-4de3-8f96-e3404bf97210",
   "metadata": {},
   "outputs": [],
   "source": [
    "a = ''' \n",
    "Comparing two integers using if statements \n",
    "'''\n",
    "print (a)\n",
    "\n",
    "\n",
    "print(\"Enter two integers, the chatbot will tell the comparisons\")\n",
    "\n",
    "int_1 = int(input(\"Enter integer 1: \"))\n",
    "int_2 = int(input(\"Enter integer 2: \"))\n",
    "\n",
    "\n",
    "if int_1 == int_2:\n",
    "    print(int_1, 'is equal to ', int_2)"
   ]
  }
 ],
 "metadata": {
  "kernelspec": {
   "display_name": "Python 3 (ipykernel)",
   "language": "python",
   "name": "python3"
  },
  "language_info": {
   "codemirror_mode": {
    "name": "ipython",
    "version": 3
   },
   "file_extension": ".py",
   "mimetype": "text/x-python",
   "name": "python",
   "nbconvert_exporter": "python",
   "pygments_lexer": "ipython3",
   "version": "3.12.3"
  }
 },
 "nbformat": 4,
 "nbformat_minor": 5
}
