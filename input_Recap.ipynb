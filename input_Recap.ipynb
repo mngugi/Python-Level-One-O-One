{
 "cells": [
  {
   "cell_type": "code",
   "execution_count": 5,
   "id": "985026b8-21d0-4de3-8f96-e3404bf97210",
   "metadata": {},
   "outputs": [
    {
     "name": "stdout",
     "output_type": "stream",
     "text": [
      " \n",
      "Comparing two integers using if statements \n",
      "\n",
      "Enter two integers, the chatbot will tell the comparisons\n"
     ]
    },
    {
     "name": "stdin",
     "output_type": "stream",
     "text": [
      "Enter integer 1:  25\n",
      "Enter integer 2:  25\n"
     ]
    },
    {
     "name": "stdout",
     "output_type": "stream",
     "text": [
      "25 is equal to  25\n",
      "25 is less than or equal to 25\n",
      "25 is greater than or equal to 25\n"
     ]
    }
   ],
   "source": [
    "a = ''' \n",
    "Comparing two integers using if statements \n",
    "'''\n",
    "print (a)\n",
    "\n",
    "\n",
    "print(\"Enter two integers, the chatbot will tell you the comparisons\")\n",
    "\n",
    "int_1 = int(input(\"Enter integer 1: \"))\n",
    "int_2 = int(input(\"Enter integer 2: \"))\n",
    "\n",
    "\n",
    "if int_1 == int_2:\n",
    "    print(int_1, 'is equal to ', int_2)\n",
    "\n",
    "if int_1 != int_2:\n",
    "    print(int_1, 'is not equal to ', int_2)\n",
    "\n",
    "if int_1 < int_2:\n",
    "    print(int_1, 'is less than', int_2)\n",
    "\n",
    "if int_1 > int_2:\n",
    "    print(int_1, 'is greater than', int_2)\n",
    "\n",
    "if int_1 <= int_2:\n",
    "    print(int_1, 'is less than or equal to', int_2)\n",
    "\n",
    "if int_1 >= int_2:\n",
    "    print(int_1, 'is greater than or equal to', int_2)"
   ]
  },
  {
   "cell_type": "code",
   "execution_count": null,
   "id": "d0dc101b-044e-4a79-bf15-af766a8957c8",
   "metadata": {},
   "outputs": [],
   "source": []
  }
 ],
 "metadata": {
  "kernelspec": {
   "display_name": "Python 3 (ipykernel)",
   "language": "python",
   "name": "python3"
  },
  "language_info": {
   "codemirror_mode": {
    "name": "ipython",
    "version": 3
   },
   "file_extension": ".py",
   "mimetype": "text/x-python",
   "name": "python",
   "nbconvert_exporter": "python",
   "pygments_lexer": "ipython3",
   "version": "3.12.3"
  }
 },
 "nbformat": 4,
 "nbformat_minor": 5
}
